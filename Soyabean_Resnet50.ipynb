{
  "cells": [
    {
      "cell_type": "markdown",
      "metadata": {
        "id": "view-in-github",
        "colab_type": "text"
      },
      "source": [
        "<a href=\"https://colab.research.google.com/github/abhi220501/EE769-Cource-Project/blob/main/Soyabean_Resnet50.ipynb\" target=\"_parent\"><img src=\"https://colab.research.google.com/assets/colab-badge.svg\" alt=\"Open In Colab\"/></a>"
      ]
    },
    {
      "cell_type": "code",
      "execution_count": null,
      "metadata": {
        "colab": {
          "base_uri": "https://localhost:8080/"
        },
        "id": "oQEgDxo6iCsE",
        "outputId": "eb7554ef-3454-43a0-80f1-f71c9a7ea3a9"
      },
      "outputs": [
        {
          "output_type": "execute_result",
          "data": {
            "text/plain": [
              "<contextlib.ExitStack at 0x7efe11964070>"
            ]
          },
          "metadata": {},
          "execution_count": 1
        }
      ],
      "source": [
        "\n",
        "from __future__ import print_function, division\n",
        "\n",
        "import torch\n",
        "import torch.nn as nn\n",
        "import torch.optim as optim\n",
        "from torch.optim import lr_scheduler\n",
        "import torch.backends.cudnn as cudnn\n",
        "import numpy as np\n",
        "import torchvision\n",
        "from torchvision import datasets, models, transforms\n",
        "import matplotlib.pyplot as plt\n",
        "import time\n",
        "import os\n",
        "import copy\n",
        "\n",
        "cudnn.benchmark = True\n",
        "plt.ion()   # interactive mode"
      ]
    },
    {
      "cell_type": "code",
      "execution_count": null,
      "metadata": {
        "id": "0DOwsJywiIB4",
        "colab": {
          "base_uri": "https://localhost:8080/"
        },
        "outputId": "d2280677-9402-4008-baab-f6990a0c54a1"
      },
      "outputs": [
        {
          "output_type": "stream",
          "name": "stdout",
          "text": [
            "Mounted at /content/drive\n"
          ]
        }
      ],
      "source": [
        "from google.colab import drive\n",
        "drive.mount('/content/drive')"
      ]
    },
    {
      "cell_type": "code",
      "execution_count": null,
      "metadata": {
        "id": "OwTyRqZAiKPW"
      },
      "outputs": [],
      "source": [
        "!unzip -q /content/drive/MyDrive/dataset_defonet.zip"
      ]
    },
    {
      "cell_type": "code",
      "execution_count": null,
      "metadata": {
        "id": "CuJyzM8CiNLF",
        "colab": {
          "base_uri": "https://localhost:8080/"
        },
        "outputId": "a409be48-8f7e-42b8-f94b-b16cc5612ce2"
      },
      "outputs": [
        {
          "output_type": "stream",
          "name": "stdout",
          "text": [
            "warning [/content/drive/MyDrive/dataset_defo.zip]:  76 extra bytes at beginning or within zipfile\n",
            "  (attempting to process anyway)\n",
            "error [/content/drive/MyDrive/dataset_defo.zip]:  reported length of central directory is\n",
            "  -76 bytes too long (Atari STZip zipfile?  J.H.Holm ZIPSPLIT 1.1\n",
            "  zipfile?).  Compensating...\n",
            "error:  expected central file header signature not found (file #97402).\n",
            "  (please check that you have transferred or created the zipfile in the\n",
            "  appropriate BINARY mode and that you have compiled UnZip properly)\n"
          ]
        }
      ],
      "source": [
        "!unzip -q /content/drive/MyDrive/dataset_defo.zip"
      ]
    },
    {
      "cell_type": "code",
      "execution_count": null,
      "metadata": {
        "id": "9G4pXOBbiPVj",
        "colab": {
          "base_uri": "https://localhost:8080/"
        },
        "outputId": "1aad4b96-ee0b-4483-d89a-7de3da1d10b7"
      },
      "outputs": [
        {
          "output_type": "stream",
          "name": "stdout",
          "text": [
            "Looking in indexes: https://pypi.org/simple, https://us-python.pkg.dev/colab-wheels/public/simple/\n",
            "Collecting torchsampler\n",
            "  Downloading torchsampler-0.1.2-py3-none-any.whl (5.6 kB)\n",
            "Requirement already satisfied: torch>=1.3 in /usr/local/lib/python3.9/dist-packages (from torchsampler) (2.0.0+cu118)\n",
            "Requirement already satisfied: pandas in /usr/local/lib/python3.9/dist-packages (from torchsampler) (1.5.3)\n",
            "Requirement already satisfied: torchvision>=0.5 in /usr/local/lib/python3.9/dist-packages (from torchsampler) (0.15.1+cu118)\n",
            "Requirement already satisfied: sympy in /usr/local/lib/python3.9/dist-packages (from torch>=1.3->torchsampler) (1.11.1)\n",
            "Requirement already satisfied: typing-extensions in /usr/local/lib/python3.9/dist-packages (from torch>=1.3->torchsampler) (4.5.0)\n",
            "Requirement already satisfied: filelock in /usr/local/lib/python3.9/dist-packages (from torch>=1.3->torchsampler) (3.11.0)\n",
            "Requirement already satisfied: networkx in /usr/local/lib/python3.9/dist-packages (from torch>=1.3->torchsampler) (3.1)\n",
            "Requirement already satisfied: triton==2.0.0 in /usr/local/lib/python3.9/dist-packages (from torch>=1.3->torchsampler) (2.0.0)\n",
            "Requirement already satisfied: jinja2 in /usr/local/lib/python3.9/dist-packages (from torch>=1.3->torchsampler) (3.1.2)\n",
            "Requirement already satisfied: cmake in /usr/local/lib/python3.9/dist-packages (from triton==2.0.0->torch>=1.3->torchsampler) (3.25.2)\n",
            "Requirement already satisfied: lit in /usr/local/lib/python3.9/dist-packages (from triton==2.0.0->torch>=1.3->torchsampler) (16.0.1)\n",
            "Requirement already satisfied: numpy in /usr/local/lib/python3.9/dist-packages (from torchvision>=0.5->torchsampler) (1.22.4)\n",
            "Requirement already satisfied: requests in /usr/local/lib/python3.9/dist-packages (from torchvision>=0.5->torchsampler) (2.27.1)\n",
            "Requirement already satisfied: pillow!=8.3.*,>=5.3.0 in /usr/local/lib/python3.9/dist-packages (from torchvision>=0.5->torchsampler) (8.4.0)\n",
            "Requirement already satisfied: python-dateutil>=2.8.1 in /usr/local/lib/python3.9/dist-packages (from pandas->torchsampler) (2.8.2)\n",
            "Requirement already satisfied: pytz>=2020.1 in /usr/local/lib/python3.9/dist-packages (from pandas->torchsampler) (2022.7.1)\n",
            "Requirement already satisfied: six>=1.5 in /usr/local/lib/python3.9/dist-packages (from python-dateutil>=2.8.1->pandas->torchsampler) (1.16.0)\n",
            "Requirement already satisfied: MarkupSafe>=2.0 in /usr/local/lib/python3.9/dist-packages (from jinja2->torch>=1.3->torchsampler) (2.1.2)\n",
            "Requirement already satisfied: idna<4,>=2.5 in /usr/local/lib/python3.9/dist-packages (from requests->torchvision>=0.5->torchsampler) (3.4)\n",
            "Requirement already satisfied: urllib3<1.27,>=1.21.1 in /usr/local/lib/python3.9/dist-packages (from requests->torchvision>=0.5->torchsampler) (1.26.15)\n",
            "Requirement already satisfied: certifi>=2017.4.17 in /usr/local/lib/python3.9/dist-packages (from requests->torchvision>=0.5->torchsampler) (2022.12.7)\n",
            "Requirement already satisfied: charset-normalizer~=2.0.0 in /usr/local/lib/python3.9/dist-packages (from requests->torchvision>=0.5->torchsampler) (2.0.12)\n",
            "Requirement already satisfied: mpmath>=0.19 in /usr/local/lib/python3.9/dist-packages (from sympy->torch>=1.3->torchsampler) (1.3.0)\n",
            "Installing collected packages: torchsampler\n",
            "Successfully installed torchsampler-0.1.2\n"
          ]
        }
      ],
      "source": [
        "pip install torchsampler"
      ]
    },
    {
      "cell_type": "code",
      "execution_count": null,
      "metadata": {
        "id": "gCMR-ZUViRzq"
      },
      "outputs": [],
      "source": [
        "from torchsampler import ImbalancedDatasetSampler\n",
        "\n",
        "# Data augmentation and normalization for training\n",
        "# Just normalization for validation\n",
        "data_transforms = {\n",
        "    'train': transforms.Compose([\n",
        "        transforms.RandomResizedCrop(224),\n",
        "        transforms.RandomHorizontalFlip(),\n",
        "        transforms.ToTensor(),\n",
        "        transforms.Normalize([0.485, 0.456, 0.406], [0.229, 0.224, 0.225])\n",
        "    ]),\n",
        "    'test': transforms.Compose([\n",
        "        transforms.Resize(256),\n",
        "        transforms.CenterCrop(224),\n",
        "        transforms.ToTensor(),\n",
        "        transforms.Normalize([0.485, 0.456, 0.406], [0.229, 0.224, 0.225])\n",
        "    ]),\n",
        "}\n",
        "\n",
        "data_dir = '/content/dataset'\n",
        "image_datasets = {x: datasets.ImageFolder(os.path.join(data_dir, x),\n",
        "                                          data_transforms[x])\n",
        "                  for x in ['train', 'test']}\n",
        "dataloaders = {x: torch.utils.data.DataLoader(image_datasets[x],sampler=ImbalancedDatasetSampler(image_datasets[x]), batch_size=4, \n",
        "                                              num_workers=2)\n",
        "              for x in ['train', 'test']}\n",
        "dataset_sizes = {x: len(image_datasets[x]) for x in ['train', 'test']}\n",
        "class_names = image_datasets['train'].classes\n",
        "\n",
        "device = torch.device(\"cuda:0\" if torch.cuda.is_available() else \"cpu\")"
      ]
    },
    {
      "cell_type": "code",
      "execution_count": null,
      "metadata": {
        "colab": {
          "base_uri": "https://localhost:8080/",
          "height": 207
        },
        "id": "PhWgugQViUmg",
        "outputId": "1c314741-4e3c-43cf-a22f-45afc7382043"
      },
      "outputs": [
        {
          "output_type": "display_data",
          "data": {
            "text/plain": [
              "<Figure size 640x480 with 1 Axes>"
            ],
            "image/png": "[encoded data removed]"
          },
          "metadata": {}
        }
      ],
      "source": [
        "def imshow(inp, title=None):\n",
        "    \"\"\"Imshow for Tensor.\"\"\"\n",
        "    inp = inp.numpy().transpose((1, 2, 0))\n",
        "    mean = np.array([0.485, 0.456, 0.406])\n",
        "    std = np.array([0.229, 0.224, 0.225])\n",
        "    inp = std * inp + mean\n",
        "    inp = np.clip(inp, 0, 1)\n",
        "    plt.imshow(inp)\n",
        "    if title is not None:\n",
        "        plt.title(title)\n",
        "    plt.pause(0.001)  # pause a bit so that plots are updated\n",
        "\n",
        "\n",
        "# Get a batch of training data\n",
        "inputs, classes = next(iter(dataloaders['train']))\n",
        "\n",
        "# Make a grid from batch\n",
        "out = torchvision.utils.make_grid(inputs)\n",
        "\n",
        "imshow(out, title=[class_names[x] for x in classes])"
      ]
    },
    {
      "cell_type": "code",
      "execution_count": null,
      "metadata": {
        "id": "gAbWAjRciXNL"
      },
      "outputs": [],
      "source": [
        "def train_model(model, criterion, optimizer, scheduler, num_epochs=25):\n",
        "    since = time.time()\n",
        "\n",
        "    best_model_wts = copy.deepcopy(model.state_dict())\n",
        "    best_acc = 0.0\n",
        "\n",
        "    for epoch in range(num_epochs):\n",
        "        print(f'Epoch {epoch}/{num_epochs - 1}')\n",
        "        print('-' * 10)\n",
        "\n",
        "        # Each epoch has a training and validation phase\n",
        "        for phase in ['train', 'test']:\n",
        "            if phase == 'train':\n",
        "                model.train()  # Set model to training mode\n",
        "            else:\n",
        "                model.eval()   # Set model to evaluate mode\n",
        "\n",
        "            running_loss = 0.0\n",
        "            running_corrects = 0\n",
        "\n",
        "            # Iterate over data.\n",
        "            for inputs, labels in dataloaders[phase]:\n",
        "                inputs = inputs.to(device)\n",
        "                labels = labels.to(device)\n",
        "\n",
        "                # zero the parameter gradients\n",
        "                optimizer.zero_grad()\n",
        "\n",
        "                # forward\n",
        "                # track history if only in train\n",
        "                with torch.set_grad_enabled(phase == 'train'):\n",
        "                    outputs = model(inputs)\n",
        "                    _, preds = torch.max(outputs, 1)\n",
        "                    loss = criterion(outputs, labels)\n",
        "\n",
        "                    # backward + optimize only if in training phase\n",
        "                    if phase == 'train':\n",
        "                        loss.backward()\n",
        "                        optimizer.step()\n",
        "\n",
        "                # statistics\n",
        "                running_loss += loss.item() * inputs.size(0)\n",
        "                running_corrects += torch.sum(preds == labels.data)\n",
        "            if phase == 'train':\n",
        "                scheduler.step()\n",
        "\n",
        "            epoch_loss = running_loss / dataset_sizes[phase]\n",
        "            epoch_acc = running_corrects.double() / dataset_sizes[phase]\n",
        "\n",
        "            print(f'{phase} Loss: {epoch_loss:.4f} Acc: {epoch_acc:.4f}')\n",
        "\n",
        "            # deep copy the model\n",
        "            if phase == 'test' and epoch_acc > best_acc:\n",
        "                best_acc = epoch_acc\n",
        "                best_model_wts = copy.deepcopy(model.state_dict())\n",
        "\n",
        "        print()\n",
        "\n",
        "    time_elapsed = time.time() - since\n",
        "    print(f'Training complete in {time_elapsed // 60:.0f}m {time_elapsed % 60:.0f}s')\n",
        "    print(f'Best val Acc: {best_acc:4f}')\n",
        "\n",
        "    # load best model weights\n",
        "    model.load_state_dict(best_model_wts)\n",
        "    return model"
      ]
    },
    {
      "cell_type": "code",
      "execution_count": null,
      "metadata": {
        "colab": {
          "base_uri": "https://localhost:8080/"
        },
        "id": "xtPOUMgOiZC0",
        "outputId": "b24b4f63-cba8-47c6-b606-27e6d2e85f48"
      },
      "outputs": [
        {
          "output_type": "stream",
          "name": "stderr",
          "text": [
            "/usr/local/lib/python3.9/dist-packages/torchvision/models/_utils.py:208: UserWarning: The parameter 'pretrained' is deprecated since 0.13 and may be removed in the future, please use 'weights' instead.\n",
            "  warnings.warn(\n",
            "/usr/local/lib/python3.9/dist-packages/torchvision/models/_utils.py:223: UserWarning: Arguments other than a weight enum or `None` for 'weights' are deprecated since 0.13 and may be removed in the future. The current behavior is equivalent to passing `weights=ResNet50_Weights.IMAGENET1K_V1`. You can also use `weights=ResNet50_Weights.DEFAULT` to get the most up-to-date weights.\n",
            "  warnings.warn(msg)\n",
            "Downloading: \"https://download.pytorch.org/models/resnet50-0676ba61.pth\" to /root/.cache/torch/hub/checkpoints/resnet50-0676ba61.pth\n",
            "100%|██████████| 97.8M/97.8M [00:01<00:00, 68.4MB/s]\n"
          ]
        }
      ],
      "source": [
        "model_conv = torchvision.models.resnet50(pretrained=True)\n",
        "for param in model_conv.parameters():\n",
        "    param.requires_grad = False\n",
        "from collections import OrderedDict\n",
        "\n",
        "# Parameters of newly constructed modules have requires_grad=True by default\n",
        "num_ftrs = model_conv.fc.in_features\n",
        "model_conv.fc = nn.Sequential(OrderedDict([\n",
        "    ('fc1', nn.Linear(num_ftrs, 1024)),\n",
        "    ('relu', nn.ReLU()),\n",
        "    ('fc2', nn.Linear(1024, 512)),\n",
        "    ('relu', nn.ReLU()),\n",
        "    ('fc3', nn.Linear(512, 256)),\n",
        "    ('relu', nn.ReLU()),\n",
        "    ('fc4', nn.Linear(256,2))    \n",
        "]))\n",
        "\n",
        "\n",
        "model_conv = model_conv.to(device)\n",
        "\n",
        "criterion = nn.CrossEntropyLoss()\n",
        "\n",
        "# Observe that only parameters of final layer are being optimized as\n",
        "# opposed to before.\n",
        "optimizer_conv = optim.SGD(model_conv.fc.parameters(), lr=0.001, momentum=0.9)\n",
        "\n",
        "# Decay LR by a factor of 0.1 every 7 epochs\n",
        "exp_lr_scheduler = lr_scheduler.StepLR(optimizer_conv, step_size=2, gamma=0.05)"
      ]
    },
    {
      "cell_type": "code",
      "execution_count": null,
      "metadata": {
        "colab": {
          "base_uri": "https://localhost:8080/"
        },
        "id": "ljB-f7W6igU2",
        "outputId": "ef84f4dc-3daa-4834-af4c-01f7b0c78d93"
      },
      "outputs": [
        {
          "name": "stdout",
          "output_type": "stream",
          "text": [
            "2048\n"
          ]
        }
      ],
      "source": [
        "print(num_ftrs)"
      ]
    },
    {
      "cell_type": "code",
      "execution_count": null,
      "metadata": {
        "colab": {
          "base_uri": "https://localhost:8080/"
        },
        "id": "JkDGsHBMiZsI",
        "outputId": "95378f7c-9c73-4445-d2a3-f523d9eb4aa7"
      },
      "outputs": [
        {
          "name": "stdout",
          "output_type": "stream",
          "text": [
            "Epoch 0/5\n",
            "----------\n",
            "train Loss: 0.5489 Acc: 0.6928\n",
            "test Loss: 0.4401 Acc: 0.7708\n",
            "\n",
            "Epoch 1/5\n",
            "----------\n",
            "train Loss: 0.5135 Acc: 0.7206\n",
            "test Loss: 0.4193 Acc: 0.7839\n",
            "\n",
            "Epoch 2/5\n",
            "----------\n",
            "train Loss: 0.4948 Acc: 0.7343\n",
            "test Loss: 0.4227 Acc: 0.7850\n",
            "\n",
            "Epoch 3/5\n",
            "----------\n",
            "train Loss: 0.4923 Acc: 0.7358\n",
            "test Loss: 0.4339 Acc: 0.7768\n",
            "\n",
            "Epoch 4/5\n",
            "----------\n",
            "train Loss: 0.4905 Acc: 0.7354\n",
            "test Loss: 0.4156 Acc: 0.7872\n",
            "\n",
            "Epoch 5/5\n",
            "----------\n",
            "train Loss: 0.4917 Acc: 0.7329\n",
            "test Loss: 0.4113 Acc: 0.7826\n",
            "\n",
            "Training complete in 57m 49s\n",
            "Best val Acc: 0.787232\n"
          ]
        }
      ],
      "source": [
        "model_conv = train_model(model_conv, criterion, optimizer_conv,\n",
        "                         exp_lr_scheduler, num_epochs=6)"
      ]
    },
    {
      "cell_type": "code",
      "source": [
        "loaded_checkpoint = torch.load('/content/drive/MyDrive/Saved Models/soyabean_resnet50_6_withIDS.pth')\n",
        "model_conv.load_state_dict(loaded_checkpoint['state_dict'])\n",
        "optimizer_conv.load_state_dict(loaded_checkpoint['optimizer_dict'])"
      ],
      "metadata": {
        "id": "OEX2CwpFVLIy"
      },
      "execution_count": null,
      "outputs": []
    },
    {
      "cell_type": "code",
      "source": [
        "#7-20 epochs\n",
        "model_conv = train_model(model_conv, criterion, optimizer_conv,\n",
        "                         exp_lr_scheduler, num_epochs=14)"
      ],
      "metadata": {
        "colab": {
          "base_uri": "https://localhost:8080/"
        },
        "id": "5_YlG5D9VZ8q",
        "outputId": "ae423641-ffd9-4ae8-9ca3-5f859cf143ef"
      },
      "execution_count": null,
      "outputs": [
        {
          "output_type": "stream",
          "name": "stdout",
          "text": [
            "Epoch 0/13\n",
            "----------\n",
            "train Loss: 0.4894 Acc: 0.7364\n",
            "test Loss: 0.4045 Acc: 0.7965\n",
            "\n",
            "Epoch 1/13\n",
            "----------\n",
            "train Loss: 0.4907 Acc: 0.7356\n",
            "test Loss: 0.4068 Acc: 0.7971\n",
            "\n",
            "Epoch 2/13\n",
            "----------\n",
            "train Loss: 0.4901 Acc: 0.7374\n",
            "test Loss: 0.4148 Acc: 0.7909\n",
            "\n",
            "Epoch 3/13\n",
            "----------\n",
            "train Loss: 0.4892 Acc: 0.7367\n",
            "test Loss: 0.4134 Acc: 0.7902\n",
            "\n",
            "Epoch 4/13\n",
            "----------\n",
            "train Loss: 0.4903 Acc: 0.7351\n",
            "test Loss: 0.4293 Acc: 0.7914\n",
            "\n",
            "Epoch 5/13\n",
            "----------\n",
            "train Loss: 0.4910 Acc: 0.7356\n",
            "test Loss: 0.4069 Acc: 0.8001\n",
            "\n",
            "Epoch 6/13\n",
            "----------\n",
            "train Loss: 0.4916 Acc: 0.7354\n",
            "test Loss: 0.4179 Acc: 0.7892\n",
            "\n",
            "Epoch 7/13\n",
            "----------\n",
            "train Loss: 0.4882 Acc: 0.7379\n",
            "test Loss: 0.4098 Acc: 0.7975\n",
            "\n",
            "Epoch 8/13\n",
            "----------\n",
            "train Loss: 0.4920 Acc: 0.7334\n",
            "test Loss: 0.4064 Acc: 0.7863\n",
            "\n",
            "Epoch 9/13\n",
            "----------\n",
            "train Loss: 0.4904 Acc: 0.7372\n",
            "test Loss: 0.4040 Acc: 0.7946\n",
            "\n",
            "Epoch 10/13\n",
            "----------\n",
            "train Loss: 0.4888 Acc: 0.7358\n",
            "test Loss: 0.4161 Acc: 0.7873\n",
            "\n",
            "Epoch 11/13\n",
            "----------\n",
            "train Loss: 0.4901 Acc: 0.7339\n",
            "test Loss: 0.4106 Acc: 0.7911\n",
            "\n",
            "Epoch 12/13\n",
            "----------\n",
            "train Loss: 0.4899 Acc: 0.7343\n",
            "test Loss: 0.4137 Acc: 0.7920\n",
            "\n",
            "Epoch 13/13\n",
            "----------\n",
            "train Loss: 0.4897 Acc: 0.7368\n",
            "test Loss: 0.4177 Acc: 0.7859\n",
            "\n",
            "Training complete in 125m 28s\n",
            "Best val Acc: 0.800059\n"
          ]
        }
      ]
    },
    {
      "cell_type": "code",
      "execution_count": null,
      "metadata": {
        "id": "R0BbhTbKjaP8"
      },
      "outputs": [],
      "source": [
        "model_conv.class_to_idx = dataloaders['train'].dataset.class_to_idx\n",
        "model_conv.epochs = 20\n",
        "checkpoint = {'input_size': [3, 224, 224],\n",
        "                 'batch_size': dataloaders['train'].batch_size,\n",
        "                  'output_size': 2,\n",
        "                  'state_dict': model_conv.state_dict(),\n",
        "                  'data_transforms': data_transforms,\n",
        "                  'optimizer_dict':optimizer_conv.state_dict(),\n",
        "                  'class_to_idx': model_conv.class_to_idx,\n",
        "                  'epoch': model_conv.epochs}\n",
        "torch.save(checkpoint, '/content/drive/MyDrive/Saved Models/soyabean_resnet50_20_withIDS.pth')"
      ]
    },
    {
      "cell_type": "code",
      "execution_count": null,
      "metadata": {
        "id": "QnYk70Kwjh9p",
        "colab": {
          "base_uri": "https://localhost:8080/"
        },
        "outputId": "3bb432c5-8ac1-414e-910b-0deda745c5ee"
      },
      "outputs": [
        {
          "output_type": "stream",
          "name": "stderr",
          "text": [
            "/usr/local/lib/python3.9/dist-packages/torchvision/models/_utils.py:208: UserWarning: The parameter 'pretrained' is deprecated since 0.13 and may be removed in the future, please use 'weights' instead.\n",
            "  warnings.warn(\n",
            "/usr/local/lib/python3.9/dist-packages/torchvision/models/_utils.py:223: UserWarning: Arguments other than a weight enum or `None` for 'weights' are deprecated since 0.13 and may be removed in the future. The current behavior is equivalent to passing `weights=ResNet50_Weights.IMAGENET1K_V1`. You can also use `weights=ResNet50_Weights.DEFAULT` to get the most up-to-date weights.\n",
            "  warnings.warn(msg)\n",
            "Downloading: \"https://download.pytorch.org/models/resnet50-0676ba61.pth\" to /root/.cache/torch/hub/checkpoints/resnet50-0676ba61.pth\n",
            "100%|██████████| 97.8M/97.8M [00:00<00:00, 298MB/s]\n"
          ]
        }
      ],
      "source": [
        "model_ft = models.resnet50(pretrained=True)\n",
        "num_ftrs = model_ft.fc.in_features\n",
        "# Here the size of each output sample is set to 2.\n",
        "# Alternatively, it can be generalized to nn.Linear(num_ftrs, len(class_names)).\n",
        "from collections import OrderedDict\n",
        "\n",
        "model_ft.fc = nn.Sequential(OrderedDict([\n",
        "    ('fc1', nn.Linear(num_ftrs, 1024)),\n",
        "    ('relu', nn.ReLU()),\n",
        "    ('fc2', nn.Linear(1024, 512)),\n",
        "    ('relu', nn.ReLU()),\n",
        "    ('fc3', nn.Linear(512, 256)),\n",
        "    ('relu', nn.ReLU()),\n",
        "    ('fc4', nn.Linear(256,2))    \n",
        "]))\n",
        "\n",
        "\n",
        "model_ft = model_ft.to(device)\n",
        "\n",
        "criterion = nn.CrossEntropyLoss()\n",
        "\n",
        "optimizer_ft = optim.SGD(model_ft.parameters(), lr=0.001, momentum=0.9)\n",
        "\n",
        "# Decay LR by a factor of 0.1 every 7 epochs\n",
        "exp_lr_scheduler = lr_scheduler.StepLR(optimizer_ft, step_size=2, gamma=0.05)\n"
      ]
    },
    {
      "cell_type": "code",
      "execution_count": null,
      "metadata": {
        "colab": {
          "background_save": true,
          "base_uri": "https://localhost:8080/"
        },
        "id": "a6MwT95k1ezp",
        "outputId": "4d55f199-8b78-4e2c-a69e-c60a4e6c9821"
      },
      "outputs": [
        {
          "name": "stdout",
          "output_type": "stream",
          "text": [
            "Epoch 0/5\n",
            "----------\n",
            "train Loss: 0.4547 Acc: 0.7592\n",
            "test Loss: 0.3962 Acc: 0.7990\n",
            "\n",
            "Epoch 1/5\n",
            "----------\n",
            "train Loss: 0.4095 Acc: 0.7868\n",
            "test Loss: 0.3524 Acc: 0.8316\n",
            "\n",
            "Epoch 2/5\n",
            "----------\n",
            "train Loss: 0.3763 Acc: 0.8060\n",
            "test Loss: 0.3284 Acc: 0.8516\n",
            "\n",
            "Epoch 3/5\n",
            "----------\n",
            "train Loss: 0.3725 Acc: 0.8096\n",
            "test Loss: 0.3192 Acc: 0.8503\n",
            "\n",
            "Epoch 4/5\n",
            "----------\n",
            "train Loss: 0.3679 Acc: 0.8125\n",
            "test Loss: 0.3149 Acc: 0.8584\n",
            "\n",
            "Epoch 5/5\n",
            "----------\n",
            "train Loss: 0.3655 Acc: 0.8128\n",
            "test Loss: 0.3317 Acc: 0.8466\n",
            "\n",
            "Training complete in 135m 7s\n",
            "Best val Acc: 0.858416\n"
          ]
        }
      ],
      "source": [
        "model_ft = train_model(model_ft, criterion, optimizer_ft, exp_lr_scheduler,\n",
        "                       num_epochs=6)"
      ]
    },
    {
      "cell_type": "code",
      "source": [
        "loaded_checkpoint = torch.load('/content/drive/MyDrive/Saved Models/soyabean_resnet50_ft_6_withIDS.pth')\n",
        "model_ft.load_state_dict(loaded_checkpoint['state_dict'])\n",
        "optimizer_ft.load_state_dict(loaded_checkpoint['optimizer_dict'])"
      ],
      "metadata": {
        "id": "VbES0H7kz86S"
      },
      "execution_count": null,
      "outputs": []
    },
    {
      "cell_type": "code",
      "source": [
        "#7-14 epochs\n",
        "model_ft = train_model(model_ft, criterion, optimizer_ft, exp_lr_scheduler,\n",
        "                       num_epochs=8)"
      ],
      "metadata": {
        "colab": {
          "base_uri": "https://localhost:8080/"
        },
        "id": "gR655XOT0Gb4",
        "outputId": "d5e2637a-0665-45ed-fd1c-06d358fde4e7"
      },
      "execution_count": null,
      "outputs": [
        {
          "output_type": "stream",
          "name": "stdout",
          "text": [
            "Epoch 0/7\n",
            "----------\n",
            "train Loss: 0.3656 Acc: 0.8132\n",
            "test Loss: 0.3196 Acc: 0.8548\n",
            "\n",
            "Epoch 1/7\n",
            "----------\n",
            "train Loss: 0.3644 Acc: 0.8129\n",
            "test Loss: 0.3232 Acc: 0.8548\n",
            "\n",
            "Epoch 2/7\n",
            "----------\n",
            "train Loss: 0.3657 Acc: 0.8137\n",
            "test Loss: 0.3319 Acc: 0.8595\n",
            "\n",
            "Epoch 3/7\n",
            "----------\n",
            "train Loss: 0.3651 Acc: 0.8146\n",
            "test Loss: 0.3230 Acc: 0.8622\n",
            "\n",
            "Epoch 4/7\n",
            "----------\n",
            "train Loss: 0.3627 Acc: 0.8144\n",
            "test Loss: 0.3332 Acc: 0.8405\n",
            "\n",
            "Epoch 5/7\n",
            "----------\n",
            "train Loss: 0.3668 Acc: 0.8123\n",
            "test Loss: 0.3369 Acc: 0.8507\n",
            "\n",
            "Epoch 6/7\n",
            "----------\n",
            "train Loss: 0.3677 Acc: 0.8130\n",
            "test Loss: 0.3332 Acc: 0.8501\n",
            "\n",
            "Epoch 7/7\n",
            "----------\n",
            "train Loss: 0.3666 Acc: 0.8121\n",
            "test Loss: 0.3161 Acc: 0.8569\n",
            "\n",
            "Training complete in 165m 59s\n",
            "Best val Acc: 0.862234\n"
          ]
        }
      ]
    },
    {
      "cell_type": "code",
      "source": [
        "loaded_checkpoint = torch.load('/content/drive/MyDrive/Saved Models/soyabean_resnet50_ft_14_withIDS.pth')\n",
        "model_ft.load_state_dict(loaded_checkpoint['state_dict'])\n",
        "optimizer_ft.load_state_dict(loaded_checkpoint['optimizer_dict'])"
      ],
      "metadata": {
        "id": "mPG_1Xw6cxcU"
      },
      "execution_count": null,
      "outputs": []
    },
    {
      "cell_type": "code",
      "source": [
        "#15-20 epochs\n",
        "model_ft = train_model(model_ft, criterion, optimizer_ft, exp_lr_scheduler,\n",
        "                       num_epochs=6)"
      ],
      "metadata": {
        "colab": {
          "base_uri": "https://localhost:8080/"
        },
        "id": "-q3DpnJdc07H",
        "outputId": "c86af3cc-5949-49f3-c6c8-c66104431098"
      },
      "execution_count": null,
      "outputs": [
        {
          "output_type": "stream",
          "name": "stdout",
          "text": [
            "Epoch 0/5\n",
            "----------\n",
            "train Loss: 0.3677 Acc: 0.8118\n",
            "test Loss: 0.3320 Acc: 0.8471\n",
            "\n",
            "Epoch 1/5\n",
            "----------\n",
            "train Loss: 0.3660 Acc: 0.8123\n",
            "test Loss: 0.3244 Acc: 0.8524\n",
            "\n",
            "Epoch 2/5\n",
            "----------\n",
            "train Loss: 0.3660 Acc: 0.8129\n",
            "test Loss: 0.3532 Acc: 0.8316\n",
            "\n",
            "Epoch 3/5\n",
            "----------\n",
            "train Loss: 0.3660 Acc: 0.8133\n",
            "test Loss: 0.3314 Acc: 0.8472\n",
            "\n",
            "Epoch 4/5\n",
            "----------\n",
            "train Loss: 0.3647 Acc: 0.8127\n",
            "test Loss: 0.3299 Acc: 0.8547\n",
            "\n",
            "Epoch 5/5\n",
            "----------\n",
            "train Loss: 0.3668 Acc: 0.8122\n",
            "test Loss: 0.3217 Acc: 0.8575\n",
            "\n",
            "Training complete in 126m 10s\n",
            "Best val Acc: 0.857535\n"
          ]
        }
      ]
    },
    {
      "cell_type": "code",
      "execution_count": null,
      "metadata": {
        "id": "z35Qafzw1hs_"
      },
      "outputs": [],
      "source": [
        "model_ft.class_to_idx = dataloaders['train'].dataset.class_to_idx\n",
        "model_ft.epochs = 20\n",
        "checkpoint = {'input_size': [3, 224, 224],\n",
        "                 'batch_size': dataloaders['train'].batch_size,\n",
        "                  'output_size': 2,\n",
        "                  'state_dict': model_ft.state_dict(),\n",
        "                  'data_transforms': data_transforms,\n",
        "                  'optimizer_dict':optimizer_ft.state_dict(),\n",
        "                  'class_to_idx': model_ft.class_to_idx,\n",
        "                  'epoch': model_ft.epochs}\n",
        "torch.save(checkpoint, '/content/drive/MyDrive/Saved Models/soyabean_resnet50_ft_20_withIDS.pth')"
      ]
    },
    {
      "cell_type": "code",
      "execution_count": null,
      "metadata": {
        "id": "f1OT1gbm1kXr"
      },
      "outputs": [],
      "source": [
        "#Testing\n",
        "from torch.autograd import Variable\n",
        "\n",
        "def test(model, dataloaders, device):\n",
        "    model.eval()\n",
        "    accuracy = 0\n",
        "      \n",
        "    preds = []\n",
        "    actual = []\n",
        "    for images, labels in dataloaders['test']:\n",
        "        images = Variable(images)\n",
        "        labels = Variable(labels)\n",
        "        images, labels = images.to(device), labels.to(device)\n",
        "          \n",
        "        output = model.forward(images)\n",
        "        ps = torch.exp(output)\n",
        "        preds.append(np.array(ps.max(1)[1].cpu()))\n",
        "        actual.append(np.array(labels.data.cpu()))\n",
        "        equality = (labels.data == ps.max(1)[1])\n",
        "        accuracy += equality.type_as(torch.FloatTensor()).mean()\n",
        "\n",
        "    preds = np.array(preds, dtype=object)\n",
        "    actual = np.array(actual, dtype=object)\n",
        "    print(\"Testing Accuracy: {:.3f}\".format(accuracy/len(dataloaders['test'])))\n",
        "    return np.concatenate(preds), np.concatenate(actual)"
      ]
    },
    {
      "cell_type": "code",
      "execution_count": null,
      "metadata": {
        "id": "T_rlOxp-w5xz"
      },
      "outputs": [],
      "source": [
        "loaded_checkpoint = torch.load('/content/drive/MyDrive/Saved Models/soyabean_resnet50_6_withIDS.pth')\n",
        "model_conv.load_state_dict(loaded_checkpoint['state_dict'])\n",
        "optimizer_conv.load_state_dict(loaded_checkpoint['optimizer_dict'])"
      ]
    },
    {
      "cell_type": "code",
      "execution_count": null,
      "metadata": {
        "colab": {
          "base_uri": "https://localhost:8080/"
        },
        "id": "JCzJPQYM1mZq",
        "outputId": "8e2210a4-f0c4-4f96-d013-fe1a7a0577de"
      },
      "outputs": [
        {
          "output_type": "stream",
          "name": "stdout",
          "text": [
            "Testing Accuracy: 0.858\n"
          ]
        },
        {
          "output_type": "execute_result",
          "data": {
            "text/plain": [
              "array([0, 0, 0, ..., 1, 0, 0])"
            ]
          },
          "metadata": {},
          "execution_count": 14
        }
      ],
      "source": [
        "preds, actual = test(model_ft, dataloaders, device)\n",
        "preds"
      ]
    },
    {
      "cell_type": "code",
      "execution_count": null,
      "metadata": {
        "id": "i20-91k_xL0J"
      },
      "outputs": [],
      "source": [
        "from sklearn.metrics import confusion_matrix\n",
        "import pandas as pd\n",
        "import seaborn as sns\n"
      ]
    },
    {
      "cell_type": "code",
      "execution_count": null,
      "metadata": {
        "colab": {
          "base_uri": "https://localhost:8080/",
          "height": 500
        },
        "id": "4vZmr-_R1rZS",
        "outputId": "4e1d88ba-9bb3-4a47-f9e1-f17f876f81e8"
      },
      "outputs": [
        {
          "output_type": "execute_result",
          "data": {
            "text/plain": [
              "[Text(0.5, 25.722222222222214, 'Predicted Labels'),\n",
              " Text(33.222222222222214, 0.5, 'Actual Labels')]"
            ]
          },
          "metadata": {},
          "execution_count": 16
        },
        {
          "output_type": "display_data",
          "data": {
            "text/plain": [
              "<Figure size 500x500 with 2 Axes>"
            ],
            "image/png": "[encoded data removed]"
          },
          "metadata": {}
        }
      ],
      "source": [
        "\n",
        "\n",
        "cm = confusion_matrix(preds, actual, normalize='true')\n",
        "df_cm = pd.DataFrame(cm, index = ['Healthy', 'Defoliated'], \n",
        "                     columns = ['Healthy', 'Defoliated'])\n",
        "\n",
        "plt.figure(figsize=(5, 5))\n",
        "s = sns.heatmap(df_cm, annot=True, cmap=\"Blues\", \n",
        "            annot_kws={\n",
        "                'fontsize': 14\n",
        "            })\n",
        "s.set(xlabel='Predicted Labels', ylabel='Actual Labels')"
      ]
    },
    {
      "cell_type": "code",
      "execution_count": null,
      "metadata": {
        "id": "AX1AEmyXxZkf"
      },
      "outputs": [],
      "source": [
        "from sklearn.metrics import accuracy_score, f1_score, precision_score, recall_score\n"
      ]
    },
    {
      "cell_type": "code",
      "execution_count": null,
      "metadata": {
        "colab": {
          "base_uri": "https://localhost:8080/"
        },
        "id": "TL5NyxVb1tSl",
        "outputId": "6ea3423b-7aa5-49c7-d012-1a01d24b0f94"
      },
      "outputs": [
        {
          "output_type": "stream",
          "name": "stdout",
          "text": [
            "0.8605524011163507\n",
            "0.8552027543993879\n",
            "0.8659693976370327\n"
          ]
        }
      ],
      "source": [
        "#For fully trained\n",
        "\n",
        "print(f1_score(actual, preds, average=\"binary\"))\n",
        "print(precision_score(actual, preds, average=\"binary\"))\n",
        "print(recall_score(actual, preds, average=\"binary\"))  "
      ]
    },
    {
      "cell_type": "code",
      "execution_count": null,
      "metadata": {
        "colab": {
          "base_uri": "https://localhost:8080/"
        },
        "id": "N58Fg1ub1n6-",
        "outputId": "22624655-d9de-4c94-c3e4-d7568141d6bd"
      },
      "outputs": [
        {
          "output_type": "stream",
          "name": "stdout",
          "text": [
            "Testing Accuracy: 0.795\n"
          ]
        },
        {
          "output_type": "execute_result",
          "data": {
            "text/plain": [
              "array([0, 0, 1, ..., 1, 1, 1])"
            ]
          },
          "metadata": {},
          "execution_count": 15
        }
      ],
      "source": [
        "preds_conv, actual_conv = test(model_conv, dataloaders, device)\n",
        "preds_conv"
      ]
    },
    {
      "cell_type": "code",
      "execution_count": null,
      "metadata": {
        "colab": {
          "base_uri": "https://localhost:8080/",
          "height": 500
        },
        "id": "HvZ92irq1ojB",
        "outputId": "f0f42743-c569-421f-8fb9-3d9e8b0539bd"
      },
      "outputs": [
        {
          "output_type": "execute_result",
          "data": {
            "text/plain": [
              "[Text(0.5, 25.722222222222214, 'Predicted Labels'),\n",
              " Text(33.222222222222214, 0.5, 'Actual Labels')]"
            ]
          },
          "metadata": {},
          "execution_count": 16
        },
        {
          "output_type": "display_data",
          "data": {
            "text/plain": [
              "<Figure size 500x500 with 2 Axes>"
            ],
            "image/png": "[encoded data removed]"
          },
          "metadata": {}
        }
      ],
      "source": [
        "#For fine tuned on conv net only\n",
        "cm = confusion_matrix(preds_conv, actual_conv, normalize='true')\n",
        "df_cm = pd.DataFrame(cm, index = ['Healthy', 'Defoliated'], \n",
        "                     columns = ['Healthy', 'Defoliated'])\n",
        "\n",
        "plt.figure(figsize=(5, 5))\n",
        "s = sns.heatmap(df_cm, annot=True, cmap=\"Blues\", \n",
        "            annot_kws={\n",
        "                'fontsize': 14\n",
        "            })\n",
        "s.set(xlabel='Predicted Labels', ylabel='Actual Labels')"
      ]
    },
    {
      "cell_type": "code",
      "execution_count": null,
      "metadata": {
        "colab": {
          "base_uri": "https://localhost:8080/"
        },
        "id": "kUCJXKXv1yEZ",
        "outputId": "6f797a77-197c-4927-985f-ba43e9e97e2c"
      },
      "outputs": [
        {
          "output_type": "stream",
          "name": "stdout",
          "text": [
            "0.796938577795001\n",
            "0.7905054776090716\n",
            "0.8034772416487596\n"
          ]
        }
      ],
      "source": [
        "#Fine tuning on conv net\n",
        "\n",
        "print(f1_score(actual_conv, preds_conv, average=\"binary\"))\n",
        "print(precision_score(actual_conv, preds_conv, average=\"binary\"))\n",
        "print(recall_score(actual_conv, preds_conv, average=\"binary\"))  "
      ]
    },
    {
      "cell_type": "markdown",
      "source": [
        "WITHOUT PRETRAINING\n"
      ],
      "metadata": {
        "id": "XC_yuWi1XnmV"
      }
    },
    {
      "cell_type": "code",
      "execution_count": null,
      "metadata": {
        "id": "wCuLF7KE11E9"
      },
      "outputs": [],
      "source": [
        "model_wo_pt = models.resnet50(pretrained=False)\n",
        "num_ftrs = model_wo_pt.fc.in_features\n",
        "# Here the size of each output sample is set to 2.\n",
        "# Alternatively, it can be generalized to nn.Linear(num_ftrs, len(class_names)).\n",
        "from collections import OrderedDict\n",
        "\n",
        "model_wo_pt.fc = nn.Sequential(OrderedDict([\n",
        "    ('fc1', nn.Linear(num_ftrs, 1024)),\n",
        "    ('relu', nn.ReLU()),\n",
        "    ('fc2', nn.Linear(1024, 512)),\n",
        "    ('relu', nn.ReLU()),\n",
        "    ('fc3', nn.Linear(512, 256)),\n",
        "    ('relu', nn.ReLU()),\n",
        "    ('fc4', nn.Linear(256,2))    \n",
        "]))\n",
        "\n",
        "\n",
        "model_wo_pt = model_ft.to(device)\n",
        "\n",
        "criterion = nn.CrossEntropyLoss()\n",
        "\n",
        "optimizer_wo_pt = optim.SGD(model_wo_pt.parameters(), lr=0.001, momentum=0.9)\n",
        "\n",
        "# Decay LR by a factor of 0.1 every 7 epochs\n",
        "exp_lr_scheduler = lr_scheduler.StepLR(optimizer_wo_pt, step_size=2, gamma=0.05)\n"
      ]
    },
    {
      "cell_type": "code",
      "source": [
        "model_wo_pt = train_model(model_wo_pt, criterion, optimizer_wo_pt, exp_lr_scheduler,\n",
        "                       num_epochs=6)"
      ],
      "metadata": {
        "id": "1yHSmgiCX3N4"
      },
      "execution_count": null,
      "outputs": []
    },
    {
      "cell_type": "code",
      "source": [
        "model_wo_pt.class_to_idx = dataloaders['train'].dataset.class_to_idx\n",
        "model_wo_pt.epochs = 6\n",
        "checkpoint = {'input_size': [3, 224, 224],\n",
        "                 'batch_size': dataloaders['train'].batch_size,\n",
        "                  'output_size': 2,\n",
        "                  'state_dict': model_wo_pt.state_dict(),\n",
        "                  'data_transforms': data_transforms,\n",
        "                  'optimizer_dict':optimizer_wo_pt.state_dict(),\n",
        "                  'class_to_idx': model_wo_pt.class_to_idx,\n",
        "                  'epoch': model_wo_pt.epochs}\n",
        "torch.save(checkpoint, '/content/drive/MyDrive/Saved Models/soyabean_resnet50_wo_pt6.pth')"
      ],
      "metadata": {
        "id": "_1pfNM0EX9Sf"
      },
      "execution_count": null,
      "outputs": []
    },
    {
      "cell_type": "code",
      "source": [],
      "metadata": {
        "id": "Fh2ANpT3YI5G"
      },
      "execution_count": null,
      "outputs": []
    }
  ],
  "metadata": {
    "accelerator": "GPU",
    "colab": {
      "provenance": [],
      "authorship_tag": "ABX9TyNbKOSjQgmtbBCud32cvkAX",
      "include_colab_link": true
    },
    "gpuClass": "standard",
    "kernelspec": {
      "display_name": "Python 3",
      "name": "python3"
    },
    "language_info": {
      "name": "python"
    }
  },
  "nbformat": 4,
  "nbformat_minor": 0
}