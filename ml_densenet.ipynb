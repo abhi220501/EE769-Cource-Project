{
  "nbformat": 4,
  "nbformat_minor": 0,
  "metadata": {
    "colab": {
      "provenance": [],
      "authorship_tag": "ABX9TyMKHuTLsIj9r7jp8nd9aO1I",
      "include_colab_link": true
    },
    "kernelspec": {
      "name": "python3",
      "display_name": "Python 3"
    },
    "language_info": {
      "name": "python"
    },
    "accelerator": "GPU",
    "gpuClass": "standard"
  },
  "cells": [
    {
      "cell_type": "markdown",
      "metadata": {
        "id": "view-in-github",
        "colab_type": "text"
      },
      "source": [
        "<a href=\"https://colab.research.google.com/github/abhi220501/EE769-Cource-Project/blob/main/ml_densenet.ipynb\" target=\"_parent\"><img src=\"https://colab.research.google.com/assets/colab-badge.svg\" alt=\"Open In Colab\"/></a>"
      ]
    },
    {
      "cell_type": "code",
      "execution_count": null,
      "metadata": {
        "colab": {
          "base_uri": "https://localhost:8080/"
        },
        "id": "yDpSRUxb8xLM",
        "outputId": "80693f38-e6ba-4c9a-c307-27b747ee5a44"
      },
      "outputs": [
        {
          "output_type": "execute_result",
          "data": {
            "text/plain": [
              "<contextlib.ExitStack at 0x7fc4b5c7c100>"
            ]
          },
          "metadata": {},
          "execution_count": 1
        }
      ],
      "source": [
        "from __future__ import print_function, division\n",
        "\n",
        "import torch\n",
        "import torch.nn as nn\n",
        "import torch.optim as optim\n",
        "from torch.optim import lr_scheduler\n",
        "import torch.backends.cudnn as cudnn\n",
        "import numpy as np\n",
        "import torchvision\n",
        "from torchvision import datasets, models, transforms\n",
        "import matplotlib.pyplot as plt\n",
        "import time\n",
        "import os\n",
        "import copy\n",
        "\n",
        "cudnn.benchmark = True\n",
        "plt.ion()   # interactive mode"
      ]
    },
    {
      "cell_type": "code",
      "source": [
        "from google.colab import drive\n",
        "drive.mount('/content/drive')"
      ],
      "metadata": {
        "colab": {
          "base_uri": "https://localhost:8080/"
        },
        "id": "gwJzVAX4-tTy",
        "outputId": "5fb3bd09-7c00-4fbc-f2e4-a6fe0d981ff6"
      },
      "execution_count": null,
      "outputs": [
        {
          "output_type": "stream",
          "name": "stdout",
          "text": [
            "Mounted at /content/drive\n"
          ]
        }
      ]
    },
    {
      "cell_type": "code",
      "source": [
        "!unzip -q /content/drive/MyDrive/dataset_defo.zip"
      ],
      "metadata": {
        "id": "LdiyrlUa-uj_"
      },
      "execution_count": null,
      "outputs": []
    },
    {
      "cell_type": "code",
      "source": [
        "pip install torchsampler"
      ],
      "metadata": {
        "colab": {
          "base_uri": "https://localhost:8080/"
        },
        "id": "I_GIpU4s_Lkw",
        "outputId": "1ce36449-7873-4300-a5f9-cded6f29108f"
      },
      "execution_count": null,
      "outputs": [
        {
          "output_type": "stream",
          "name": "stdout",
          "text": [
            "Looking in indexes: https://pypi.org/simple, https://us-python.pkg.dev/colab-wheels/public/simple/\n",
            "Collecting torchsampler\n",
            "  Downloading torchsampler-0.1.2-py3-none-any.whl (5.6 kB)\n",
            "Requirement already satisfied: torchvision>=0.5 in /usr/local/lib/python3.9/dist-packages (from torchsampler) (0.15.1+cu118)\n",
            "Requirement already satisfied: pandas in /usr/local/lib/python3.9/dist-packages (from torchsampler) (1.5.3)\n",
            "Requirement already satisfied: torch>=1.3 in /usr/local/lib/python3.9/dist-packages (from torchsampler) (2.0.0+cu118)\n",
            "Requirement already satisfied: triton==2.0.0 in /usr/local/lib/python3.9/dist-packages (from torch>=1.3->torchsampler) (2.0.0)\n",
            "Requirement already satisfied: jinja2 in /usr/local/lib/python3.9/dist-packages (from torch>=1.3->torchsampler) (3.1.2)\n",
            "Requirement already satisfied: sympy in /usr/local/lib/python3.9/dist-packages (from torch>=1.3->torchsampler) (1.11.1)\n",
            "Requirement already satisfied: typing-extensions in /usr/local/lib/python3.9/dist-packages (from torch>=1.3->torchsampler) (4.5.0)\n",
            "Requirement already satisfied: networkx in /usr/local/lib/python3.9/dist-packages (from torch>=1.3->torchsampler) (3.1)\n",
            "Requirement already satisfied: filelock in /usr/local/lib/python3.9/dist-packages (from torch>=1.3->torchsampler) (3.11.0)\n",
            "Requirement already satisfied: lit in /usr/local/lib/python3.9/dist-packages (from triton==2.0.0->torch>=1.3->torchsampler) (16.0.1)\n",
            "Requirement already satisfied: cmake in /usr/local/lib/python3.9/dist-packages (from triton==2.0.0->torch>=1.3->torchsampler) (3.25.2)\n",
            "Requirement already satisfied: pillow!=8.3.*,>=5.3.0 in /usr/local/lib/python3.9/dist-packages (from torchvision>=0.5->torchsampler) (8.4.0)\n",
            "Requirement already satisfied: requests in /usr/local/lib/python3.9/dist-packages (from torchvision>=0.5->torchsampler) (2.27.1)\n",
            "Requirement already satisfied: numpy in /usr/local/lib/python3.9/dist-packages (from torchvision>=0.5->torchsampler) (1.22.4)\n",
            "Requirement already satisfied: python-dateutil>=2.8.1 in /usr/local/lib/python3.9/dist-packages (from pandas->torchsampler) (2.8.2)\n",
            "Requirement already satisfied: pytz>=2020.1 in /usr/local/lib/python3.9/dist-packages (from pandas->torchsampler) (2022.7.1)\n",
            "Requirement already satisfied: six>=1.5 in /usr/local/lib/python3.9/dist-packages (from python-dateutil>=2.8.1->pandas->torchsampler) (1.16.0)\n",
            "Requirement already satisfied: MarkupSafe>=2.0 in /usr/local/lib/python3.9/dist-packages (from jinja2->torch>=1.3->torchsampler) (2.1.2)\n",
            "Requirement already satisfied: urllib3<1.27,>=1.21.1 in /usr/local/lib/python3.9/dist-packages (from requests->torchvision>=0.5->torchsampler) (1.26.15)\n",
            "Requirement already satisfied: idna<4,>=2.5 in /usr/local/lib/python3.9/dist-packages (from requests->torchvision>=0.5->torchsampler) (3.4)\n",
            "Requirement already satisfied: charset-normalizer~=2.0.0 in /usr/local/lib/python3.9/dist-packages (from requests->torchvision>=0.5->torchsampler) (2.0.12)\n",
            "Requirement already satisfied: certifi>=2017.4.17 in /usr/local/lib/python3.9/dist-packages (from requests->torchvision>=0.5->torchsampler) (2022.12.7)\n",
            "Requirement already satisfied: mpmath>=0.19 in /usr/local/lib/python3.9/dist-packages (from sympy->torch>=1.3->torchsampler) (1.3.0)\n",
            "Installing collected packages: torchsampler\n",
            "Successfully installed torchsampler-0.1.2\n"
          ]
        }
      ]
    },
    {
      "cell_type": "code",
      "source": [
        "from torchsampler import ImbalancedDatasetSampler\n",
        "\n",
        "# Data augmentation and normalization for training\n",
        "# Just normalization for validation\n",
        "data_transforms = {\n",
        "    'train': transforms.Compose([\n",
        "        transforms.RandomResizedCrop(224),\n",
        "        transforms.RandomHorizontalFlip(),\n",
        "        transforms.ToTensor(),\n",
        "        transforms.Normalize([0.485, 0.456, 0.406], [0.229, 0.224, 0.225])\n",
        "    ]),\n",
        "    'test': transforms.Compose([\n",
        "        transforms.Resize(256),\n",
        "        transforms.CenterCrop(224),\n",
        "        transforms.ToTensor(),\n",
        "        transforms.Normalize([0.485, 0.456, 0.406], [0.229, 0.224, 0.225])\n",
        "    ]),\n",
        "}\n",
        "\n",
        "data_dir = '/content/dataset_defo/dataset'\n",
        "image_datasets = {x: datasets.ImageFolder(os.path.join(data_dir, x),\n",
        "                                          data_transforms[x])\n",
        "                  for x in ['train', 'test']}\n",
        "dataloaders = {x: torch.utils.data.DataLoader(image_datasets[x],sampler=ImbalancedDatasetSampler(image_datasets[x]), batch_size=4, \n",
        "                                              num_workers=2)\n",
        "              for x in ['train', 'test']}\n",
        "dataset_sizes = {x: len(image_datasets[x]) for x in ['train', 'test']}\n",
        "class_names = image_datasets['train'].classes\n",
        "\n",
        "device = torch.device(\"cuda:0\" if torch.cuda.is_available() else \"cpu\")"
      ],
      "metadata": {
        "id": "snv84DOb_P4k"
      },
      "execution_count": null,
      "outputs": []
    },
    {
      "cell_type": "code",
      "source": [
        "print(device)"
      ],
      "metadata": {
        "colab": {
          "base_uri": "https://localhost:8080/"
        },
        "id": "pP74LyZR_qyz",
        "outputId": "54ec7afd-03f6-4d62-8f76-027846d3f45a"
      },
      "execution_count": null,
      "outputs": [
        {
          "output_type": "stream",
          "name": "stdout",
          "text": [
            "cuda:0\n"
          ]
        }
      ]
    },
    {
      "cell_type": "code",
      "source": [
        "def imshow(inp, title=None):\n",
        "    \"\"\"Imshow for Tensor.\"\"\"\n",
        "    inp = inp.numpy().transpose((1, 2, 0))\n",
        "    mean = np.array([0.485, 0.456, 0.406])\n",
        "    std = np.array([0.229, 0.224, 0.225])\n",
        "    inp = std * inp + mean\n",
        "    inp = np.clip(inp, 0, 1)\n",
        "    plt.imshow(inp)\n",
        "    if title is not None:\n",
        "        plt.title(title)\n",
        "    plt.pause(0.001)  # pause a bit so that plots are updated\n",
        "\n",
        "\n",
        "# Get a batch of training data\n",
        "inputs, classes = next(iter(dataloaders['train']))\n",
        "\n",
        "# Make a grid from batch\n",
        "out = torchvision.utils.make_grid(inputs)\n",
        "\n",
        "imshow(out, title=[class_names[x] for x in classes])"
      ],
      "metadata": {
        "colab": {
          "base_uri": "https://localhost:8080/",
          "height": 207
        },
        "id": "Ny3Q5_Q1_vmc",
        "outputId": "e4b9b02b-8343-4b50-ecd8-33cae0bbe913"
      },
      "execution_count": null,
      "outputs": [
        {
          "output_type": "display_data",
          "data": {
            "text/plain": [
              "<Figure size 640x480 with 1 Axes>"
            ],
            "image/png": "[encoded data removed]"
          },
          "metadata": {}
        }
      ]
    },
    {
      "cell_type": "code",
      "source": [
        "def train_model(model, criterion, optimizer, scheduler, num_epochs=25):\n",
        "    since = time.time()\n",
        "\n",
        "    best_model_wts = copy.deepcopy(model.state_dict())\n",
        "    best_acc = 0.0\n",
        "\n",
        "    for epoch in range(num_epochs):\n",
        "        print(f'Epoch {epoch}/{num_epochs - 1}')\n",
        "        print('-' * 10)\n",
        "\n",
        "        # Each epoch has a training and validation phase\n",
        "        for phase in ['train', 'test']:\n",
        "            if phase == 'train':\n",
        "                model.train()  # Set model to training mode\n",
        "            else:\n",
        "                model.eval()   # Set model to evaluate mode\n",
        "\n",
        "            running_loss = 0.0\n",
        "            running_corrects = 0\n",
        "\n",
        "            # Iterate over data.\n",
        "            for inputs, labels in dataloaders[phase]:\n",
        "                inputs = inputs.to(device)\n",
        "                labels = labels.to(device)\n",
        "\n",
        "                # zero the parameter gradients\n",
        "                optimizer.zero_grad()\n",
        "\n",
        "                # forward\n",
        "                # track history if only in train\n",
        "                with torch.set_grad_enabled(phase == 'train'):\n",
        "                    outputs = model(inputs)\n",
        "                    _, preds = torch.max(outputs, 1)\n",
        "                    loss = criterion(outputs, labels)\n",
        "\n",
        "                    # backward + optimize only if in training phase\n",
        "                    if phase == 'train':\n",
        "                        loss.backward()\n",
        "                        optimizer.step()\n",
        "\n",
        "                # statistics\n",
        "                running_loss += loss.item() * inputs.size(0)\n",
        "                running_corrects += torch.sum(preds == labels.data)\n",
        "            if phase == 'train':\n",
        "                scheduler.step()\n",
        "\n",
        "            epoch_loss = running_loss / dataset_sizes[phase]\n",
        "            epoch_acc = running_corrects.double() / dataset_sizes[phase]\n",
        "\n",
        "            print(f'{phase} Loss: {epoch_loss:.4f} Acc: {epoch_acc:.4f}')\n",
        "\n",
        "            # deep copy the model\n",
        "            if phase == 'test' and epoch_acc > best_acc:\n",
        "                best_acc = epoch_acc\n",
        "                best_model_wts = copy.deepcopy(model.state_dict())\n",
        "\n",
        "        print()\n",
        "\n",
        "    time_elapsed = time.time() - since\n",
        "    print(f'Training complete in {time_elapsed // 60:.0f}m {time_elapsed % 60:.0f}s')\n",
        "    print(f'Best val Acc: {best_acc:4f}')\n",
        "\n",
        "    # load best model weights\n",
        "    model.load_state_dict(best_model_wts)\n",
        "    return model"
      ],
      "metadata": {
        "id": "ovLIc6hw_wxY"
      },
      "execution_count": null,
      "outputs": []
    },
    {
      "cell_type": "code",
      "source": [
        "model_conv = torchvision.models.densenet121(pretrained=True)\n",
        "for param in model_conv.parameters():\n",
        "    param.requires_grad = False\n",
        "\n",
        "# Parameters of newly constructed modules have requires_grad=True by default\n",
        "num_ftrs = model_conv.classifier.in_features\n",
        "model_conv.classifier = nn.Linear(num_ftrs, 2)\n",
        "\n",
        "model_conv = model_conv.to(device)\n",
        "\n",
        "criterion = nn.CrossEntropyLoss()\n",
        "\n",
        "# Observe that only parameters of final layer are being optimized as\n",
        "# opposed to before.\n",
        "optimizer_conv = optim.SGD(model_conv.classifier.parameters(), lr=0.001, momentum=0.9)\n",
        "\n",
        "# Decay LR by a factor of 0.1 every 7 epochs\n",
        "exp_lr_scheduler = lr_scheduler.StepLR(optimizer_conv, step_size=2, gamma=0.05)"
      ],
      "metadata": {
        "colab": {
          "base_uri": "https://localhost:8080/"
        },
        "id": "oGXhrng-AHw9",
        "outputId": "62ac78e1-0777-4861-ce55-c1f83d01a74f"
      },
      "execution_count": null,
      "outputs": [
        {
          "output_type": "stream",
          "name": "stderr",
          "text": [
            "/usr/local/lib/python3.9/dist-packages/torchvision/models/_utils.py:208: UserWarning: The parameter 'pretrained' is deprecated since 0.13 and may be removed in the future, please use 'weights' instead.\n",
            "  warnings.warn(\n",
            "/usr/local/lib/python3.9/dist-packages/torchvision/models/_utils.py:223: UserWarning: Arguments other than a weight enum or `None` for 'weights' are deprecated since 0.13 and may be removed in the future. The current behavior is equivalent to passing `weights=DenseNet121_Weights.IMAGENET1K_V1`. You can also use `weights=DenseNet121_Weights.DEFAULT` to get the most up-to-date weights.\n",
            "  warnings.warn(msg)\n"
          ]
        }
      ]
    },
    {
      "cell_type": "code",
      "source": [
        "loaded_checkpoint = torch.load('/content/drive/MyDrive/Saved_models/soyabean_densenet121_20_withIDS.pth')\n",
        "model_conv.load_state_dict(loaded_checkpoint['state_dict'])\n",
        "optimizer_conv.load_state_dict(loaded_checkpoint['optimizer_dict'])"
      ],
      "metadata": {
        "id": "U9gFYIEeARyR"
      },
      "execution_count": null,
      "outputs": []
    },
    {
      "cell_type": "code",
      "source": [
        "# 7 - 12 epochs\n",
        "model_conv = train_model(model_conv, criterion, optimizer_conv,\n",
        "                         exp_lr_scheduler, num_epochs=6)"
      ],
      "metadata": {
        "colab": {
          "base_uri": "https://localhost:8080/"
        },
        "id": "Ba0jaFUwAyJQ",
        "outputId": "0fab1f07-bff2-42c1-f220-d18b6d6d2846"
      },
      "execution_count": null,
      "outputs": [
        {
          "output_type": "stream",
          "name": "stdout",
          "text": [
            "Epoch 0/5\n",
            "----------\n",
            "train Loss: 0.5507 Acc: 0.7070\n",
            "test Loss: 0.4416 Acc: 0.7869\n",
            "\n",
            "Epoch 1/5\n",
            "----------\n",
            "train Loss: 0.5532 Acc: 0.7028\n",
            "test Loss: 0.4574 Acc: 0.7656\n",
            "\n",
            "Epoch 2/5\n",
            "----------\n",
            "train Loss: 0.5553 Acc: 0.7021\n",
            "test Loss: 0.4518 Acc: 0.7725\n",
            "\n",
            "Epoch 3/5\n",
            "----------\n",
            "train Loss: 0.5557 Acc: 0.6996\n",
            "test Loss: 0.4397 Acc: 0.7836\n",
            "\n",
            "Epoch 4/5\n",
            "----------\n",
            "train Loss: 0.5516 Acc: 0.7059\n",
            "test Loss: 0.4359 Acc: 0.7886\n",
            "\n",
            "Epoch 5/5\n",
            "----------\n",
            "train Loss: 0.5539 Acc: 0.7031\n",
            "test Loss: 0.4500 Acc: 0.7762\n",
            "\n",
            "Training complete in 71m 0s\n",
            "Best val Acc: 0.788603\n"
          ]
        }
      ]
    },
    {
      "cell_type": "code",
      "source": [
        "# 13-20 epochs\n",
        "model_conv = train_model(model_conv, criterion, optimizer_conv,\n",
        "                         exp_lr_scheduler, num_epochs=8)"
      ],
      "metadata": {
        "colab": {
          "base_uri": "https://localhost:8080/"
        },
        "id": "czn0qIsyUoT8",
        "outputId": "c22f658e-c50f-4af3-fe50-6ca611ebfd40"
      },
      "execution_count": null,
      "outputs": [
        {
          "output_type": "stream",
          "name": "stdout",
          "text": [
            "Epoch 0/7\n",
            "----------\n",
            "train Loss: 0.5527 Acc: 0.7031\n",
            "test Loss: 0.4437 Acc: 0.7756\n",
            "\n",
            "Epoch 1/7\n",
            "----------\n",
            "train Loss: 0.5505 Acc: 0.7053\n",
            "test Loss: 0.4494 Acc: 0.7747\n",
            "\n",
            "Epoch 2/7\n",
            "----------\n",
            "train Loss: 0.5518 Acc: 0.7023\n",
            "test Loss: 0.4426 Acc: 0.7884\n",
            "\n",
            "Epoch 3/7\n",
            "----------\n",
            "train Loss: 0.5530 Acc: 0.7028\n",
            "test Loss: 0.4403 Acc: 0.7835\n",
            "\n",
            "Epoch 4/7\n",
            "----------\n",
            "train Loss: 0.5562 Acc: 0.7000\n",
            "test Loss: 0.4474 Acc: 0.7830\n",
            "\n",
            "Epoch 5/7\n",
            "----------\n",
            "train Loss: 0.5522 Acc: 0.7031\n",
            "test Loss: 0.4447 Acc: 0.7821\n",
            "\n",
            "Epoch 6/7\n",
            "----------\n",
            "train Loss: 0.5561 Acc: 0.7018\n",
            "test Loss: 0.4348 Acc: 0.7892\n",
            "\n",
            "Epoch 7/7\n",
            "----------\n",
            "train Loss: 0.5524 Acc: 0.7045\n",
            "test Loss: 0.4562 Acc: 0.7721\n",
            "\n",
            "Training complete in 94m 60s\n",
            "Best val Acc: 0.789190\n"
          ]
        }
      ]
    },
    {
      "cell_type": "code",
      "source": [
        "model_conv.class_to_idx = dataloaders['train'].dataset.class_to_idx\n",
        "model_conv.epochs = 20\n",
        "checkpoint = {'input_size': [3, 224, 224],\n",
        "                 'batch_size': dataloaders['train'].batch_size,\n",
        "                  'output_size': 2,\n",
        "                  'state_dict': model_conv.state_dict(),\n",
        "                  'data_transforms': data_transforms,\n",
        "                  'optimizer_dict':optimizer_conv.state_dict(),\n",
        "                  'class_to_idx': model_conv.class_to_idx,\n",
        "                  'epoch': model_conv.epochs}\n",
        "torch.save(checkpoint, '/content/drive/MyDrive/Saved_models/soyabean_densenet121_20_withIDS.pth')"
      ],
      "metadata": {
        "id": "lF4jcG8vBZiO"
      },
      "execution_count": null,
      "outputs": []
    },
    {
      "cell_type": "code",
      "source": [
        "# TRAINING THE WHOLE MODEL NOW...\n"
      ],
      "metadata": {
        "id": "5f6Mdp0WBoiI"
      },
      "execution_count": null,
      "outputs": []
    },
    {
      "cell_type": "code",
      "source": [
        "model_ft = models.densenet121(pretrained=True)\n",
        "num_ftrs = model_ft.classifier.in_features\n",
        "# Here the size of each output sample is set to 2.\n",
        "# Alternatively, it can be generalized to nn.Linear(num_ftrs, len(class_names)).\n",
        "from collections import OrderedDict\n",
        "\n",
        "model_ft.classifier = nn.Sequential(OrderedDict([\n",
        "    ('fc1', nn.Linear(num_ftrs, 512)),\n",
        "    ('relu', nn.ReLU()),\n",
        "    ('fc2', nn.Linear(512, 256)),\n",
        "    ('relu', nn.ReLU()),\n",
        "    ('fc3', nn.Linear(256, 2)),\n",
        "]))\n",
        "\n",
        "model_ft = model_ft.to(device)\n",
        "\n",
        "criterion = nn.CrossEntropyLoss()\n",
        "\n",
        "optimizer_ft = optim.SGD(model_ft.parameters(), lr=0.001, momentum=0.9)\n",
        "\n",
        "# Decay LR by a factor of 0.1 every 2 epochs\n",
        "exp_lr_scheduler = lr_scheduler.StepLR(optimizer_ft, step_size=2, gamma=0.05)\n"
      ],
      "metadata": {
        "colab": {
          "base_uri": "https://localhost:8080/"
        },
        "id": "_3dA19xW0Kcr",
        "outputId": "3f2fe15e-9332-4c23-c22f-44f095b0d70c"
      },
      "execution_count": null,
      "outputs": [
        {
          "output_type": "stream",
          "name": "stderr",
          "text": [
            "/usr/local/lib/python3.9/dist-packages/torchvision/models/_utils.py:208: UserWarning: The parameter 'pretrained' is deprecated since 0.13 and may be removed in the future, please use 'weights' instead.\n",
            "  warnings.warn(\n",
            "/usr/local/lib/python3.9/dist-packages/torchvision/models/_utils.py:223: UserWarning: Arguments other than a weight enum or `None` for 'weights' are deprecated since 0.13 and may be removed in the future. The current behavior is equivalent to passing `weights=DenseNet121_Weights.IMAGENET1K_V1`. You can also use `weights=DenseNet121_Weights.DEFAULT` to get the most up-to-date weights.\n",
            "  warnings.warn(msg)\n",
            "Downloading: \"https://download.pytorch.org/models/densenet121-a639ec97.pth\" to /root/.cache/torch/hub/checkpoints/densenet121-a639ec97.pth\n",
            "100%|██████████| 30.8M/30.8M [00:00<00:00, 148MB/s]\n"
          ]
        }
      ]
    },
    {
      "cell_type": "code",
      "source": [
        "loaded_checkpoint = torch.load('/content/drive/MyDrive/Saved_models/soyabean_densenet121_ft_6_withIDS.pth')\n",
        "model_ft.load_state_dict(loaded_checkpoint['state_dict'])\n",
        "optimizer_ft.load_state_dict(loaded_checkpoint['optimizer_dict'])"
      ],
      "metadata": {
        "id": "THumnk8w0dol"
      },
      "execution_count": null,
      "outputs": []
    },
    {
      "cell_type": "code",
      "source": [
        "# 7 to 12 epochs\n",
        "model_ft = train_model(model_ft, criterion, optimizer_ft, exp_lr_scheduler,\n",
        "                       num_epochs=6)"
      ],
      "metadata": {
        "colab": {
          "base_uri": "https://localhost:8080/"
        },
        "id": "7mXskPUd0PYy",
        "outputId": "06764322-2713-41e0-9f3a-e77e054fa597"
      },
      "execution_count": null,
      "outputs": [
        {
          "output_type": "stream",
          "name": "stdout",
          "text": [
            "Epoch 0/5\n",
            "----------\n",
            "train Loss: 0.3617 Acc: 0.8154\n",
            "test Loss: 0.3231 Acc: 0.8595\n",
            "\n",
            "Epoch 1/5\n",
            "----------\n",
            "train Loss: 0.3654 Acc: 0.8140\n",
            "test Loss: 0.3771 Acc: 0.8479\n",
            "\n",
            "Epoch 2/5\n",
            "----------\n",
            "train Loss: 0.3642 Acc: 0.8136\n",
            "test Loss: 0.3202 Acc: 0.8571\n",
            "\n",
            "Epoch 3/5\n",
            "----------\n",
            "train Loss: 0.3648 Acc: 0.8149\n",
            "test Loss: 0.4162 Acc: 0.8297\n",
            "\n",
            "Epoch 4/5\n",
            "----------\n",
            "train Loss: 0.3637 Acc: 0.8141\n",
            "test Loss: 0.3343 Acc: 0.8571\n",
            "\n",
            "Epoch 5/5\n",
            "----------\n",
            "train Loss: 0.3632 Acc: 0.8153\n",
            "test Loss: 0.3328 Acc: 0.8552\n",
            "\n",
            "Training complete in 164m 20s\n",
            "Best val Acc: 0.859493\n"
          ]
        }
      ]
    },
    {
      "cell_type": "code",
      "source": [
        "model_ft.class_to_idx = dataloaders['train'].dataset.class_to_idx\n",
        "model_ft.epochs = 12\n",
        "checkpoint = {'input_size': [3, 224, 224],\n",
        "                 'batch_size': dataloaders['train'].batch_size,\n",
        "                  'output_size': 2,\n",
        "                  'state_dict': model_ft.state_dict(),\n",
        "                  'data_transforms': data_transforms,\n",
        "                  'optimizer_dict':optimizer_ft.state_dict(),\n",
        "                  'class_to_idx': model_ft.class_to_idx,\n",
        "                  'epoch': model_ft.epochs}\n",
        "torch.save(checkpoint, '/content/drive/MyDrive/Saved_models/soyabean_densenet121_ft_12_withIDS.pth')"
      ],
      "metadata": {
        "id": "zwyoSIIr1MI0"
      },
      "execution_count": null,
      "outputs": []
    },
    {
      "cell_type": "code",
      "source": [
        "loaded_checkpoint = torch.load('/content/drive/MyDrive/Saved_models/soyabean_densenet121_ft_12_withIDS.pth')\n",
        "model_ft.load_state_dict(loaded_checkpoint['state_dict'])\n",
        "optimizer_ft.load_state_dict(loaded_checkpoint['optimizer_dict'])"
      ],
      "metadata": {
        "id": "vo3gK2DDRex0"
      },
      "execution_count": null,
      "outputs": []
    },
    {
      "cell_type": "code",
      "source": [
        "# 13 to 20 epochs\n",
        "model_ft = train_model(model_ft, criterion, optimizer_ft, exp_lr_scheduler,\n",
        "                       num_epochs=8)"
      ],
      "metadata": {
        "colab": {
          "base_uri": "https://localhost:8080/"
        },
        "id": "7_-2yXhZRqOE",
        "outputId": "997d4994-480b-4ac3-ab2b-96514ebd38b3"
      },
      "execution_count": null,
      "outputs": [
        {
          "output_type": "stream",
          "name": "stdout",
          "text": [
            "Epoch 0/7\n",
            "----------\n",
            "train Loss: 0.3659 Acc: 0.8136\n",
            "test Loss: 0.3257 Acc: 0.8615\n",
            "\n",
            "Epoch 1/7\n",
            "----------\n",
            "train Loss: 0.3638 Acc: 0.8140\n",
            "test Loss: 0.3480 Acc: 0.8528\n",
            "\n",
            "Epoch 2/7\n",
            "----------\n",
            "train Loss: 0.3645 Acc: 0.8117\n",
            "test Loss: 0.3183 Acc: 0.8523\n",
            "\n",
            "Epoch 3/7\n",
            "----------\n",
            "train Loss: 0.3667 Acc: 0.8118\n",
            "test Loss: 0.3549 Acc: 0.8462\n",
            "\n",
            "Epoch 4/7\n",
            "----------\n",
            "train Loss: 0.3647 Acc: 0.8134\n",
            "test Loss: 0.3370 Acc: 0.8547\n",
            "\n",
            "Epoch 5/7\n",
            "----------\n",
            "train Loss: 0.3666 Acc: 0.8137\n",
            "test Loss: 0.3460 Acc: 0.8499\n",
            "\n",
            "Epoch 6/7\n",
            "----------\n",
            "train Loss: 0.3652 Acc: 0.8134\n",
            "test Loss: 0.3717 Acc: 0.8357\n",
            "\n",
            "Epoch 7/7\n",
            "----------\n",
            "train Loss: 0.3632 Acc: 0.8138\n",
            "test Loss: 0.3591 Acc: 0.8452\n",
            "\n",
            "Training complete in 229m 36s\n",
            "Best val Acc: 0.861549\n"
          ]
        }
      ]
    },
    {
      "cell_type": "code",
      "source": [
        "model_ft.class_to_idx = dataloaders['train'].dataset.class_to_idx\n",
        "model_ft.epochs = 20\n",
        "checkpoint = {'input_size': [3, 224, 224],\n",
        "                 'batch_size': dataloaders['train'].batch_size,\n",
        "                  'output_size': 2,\n",
        "                  'state_dict': model_ft.state_dict(),\n",
        "                  'data_transforms': data_transforms,\n",
        "                  'optimizer_dict':optimizer_ft.state_dict(),\n",
        "                  'class_to_idx': model_ft.class_to_idx,\n",
        "                  'epoch': model_ft.epochs}\n",
        "torch.save(checkpoint, '/content/drive/MyDrive/Saved_models/soyabean_densenet121_ft_20_withIDS.pth')"
      ],
      "metadata": {
        "id": "UgjplmzvR0u5"
      },
      "execution_count": null,
      "outputs": []
    },
    {
      "cell_type": "code",
      "source": [
        "from torch.autograd import Variable\n",
        "from sklearn.metrics import confusion_matrix\n",
        "import pandas as pd\n",
        "import seaborn as sns\n",
        "from sklearn.metrics import accuracy_score, f1_score, precision_score, recall_score"
      ],
      "metadata": {
        "id": "R8OtArZ5IJY2"
      },
      "execution_count": null,
      "outputs": []
    },
    {
      "cell_type": "code",
      "source": [
        "#Testing\n",
        "from torch.autograd import Variable\n",
        "\n",
        "def test(model, dataloaders, device):\n",
        "    model.eval()\n",
        "    accuracy = 0\n",
        "      \n",
        "    preds = []\n",
        "    actual = []\n",
        "    for images, labels in dataloaders['test']:\n",
        "        images = Variable(images)\n",
        "        labels = Variable(labels)\n",
        "        images, labels = images.to(device), labels.to(device)\n",
        "          \n",
        "        output = model.forward(images)\n",
        "        ps = torch.exp(output)\n",
        "        preds.append(np.array(ps.max(1)[1].cpu()))\n",
        "        actual.append(np.array(labels.data.cpu()))\n",
        "        equality = (labels.data == ps.max(1)[1])\n",
        "        accuracy += equality.type_as(torch.FloatTensor()).mean()\n",
        "\n",
        "    preds = np.array(preds, dtype=object)\n",
        "    actual = np.array(actual, dtype=object)\n",
        "    print(\"Testing Accuracy: {:.3f}\".format(accuracy/len(dataloaders['test'])))\n",
        "    return np.concatenate(preds), np.concatenate(actual)"
      ],
      "metadata": {
        "id": "OMtETO62GhFc"
      },
      "execution_count": null,
      "outputs": []
    },
    {
      "cell_type": "code",
      "source": [
        "loaded_checkpoint = torch.load('/content/drive/MyDrive/Saved_models/soyabean_densenet121_20_withIDS.pth')\n",
        "model_conv.load_state_dict(loaded_checkpoint['state_dict'])\n",
        "optimizer_conv.load_state_dict(loaded_checkpoint['optimizer_dict'])"
      ],
      "metadata": {
        "id": "oKqQchaaPX3i"
      },
      "execution_count": null,
      "outputs": []
    },
    {
      "cell_type": "code",
      "source": [
        "#ONLY CONV NET\n",
        "preds_conv, actual_conv = test(model_conv, dataloaders, device)\n",
        "preds_conv"
      ],
      "metadata": {
        "colab": {
          "base_uri": "https://localhost:8080/"
        },
        "id": "A3QXTxzgHVES",
        "outputId": "113abb54-46f7-44f3-c535-2ceb8797efbf"
      },
      "execution_count": null,
      "outputs": [
        {
          "output_type": "stream",
          "name": "stdout",
          "text": [
            "Testing Accuracy: 0.785\n"
          ]
        },
        {
          "output_type": "execute_result",
          "data": {
            "text/plain": [
              "array([0, 1, 1, ..., 0, 0, 1])"
            ]
          },
          "metadata": {},
          "execution_count": 22
        }
      ]
    },
    {
      "cell_type": "code",
      "source": [],
      "metadata": {
        "id": "Q4zhbl5XPTfJ"
      },
      "execution_count": null,
      "outputs": []
    },
    {
      "cell_type": "code",
      "source": [
        "#For fine tuned on conv net only\n",
        "cm = confusion_matrix(preds_conv, actual_conv, normalize='true')\n",
        "df_cm = pd.DataFrame(cm, index = ['Healthy', 'Defoliated'], \n",
        "                     columns = ['Healthy', 'Defoliated'])\n",
        "\n",
        "plt.figure(figsize=(5, 5))\n",
        "s = sns.heatmap(df_cm, annot=True, cmap=\"Blues\", \n",
        "            annot_kws={\n",
        "                'fontsize': 14\n",
        "            })\n",
        "s.set(xlabel='Predicted Labels', ylabel='Actual Labels')"
      ],
      "metadata": {
        "colab": {
          "base_uri": "https://localhost:8080/",
          "height": 502
        },
        "id": "USA6G_QeHXYJ",
        "outputId": "e4dec9fb-6f02-4eb5-b2fd-f8eb1c4160db"
      },
      "execution_count": null,
      "outputs": [
        {
          "output_type": "execute_result",
          "data": {
            "text/plain": [
              "[Text(0.5, 25.722222222222214, 'Predicted Labels'),\n",
              " Text(33.222222222222214, 0.5, 'Actual Labels')]"
            ]
          },
          "metadata": {},
          "execution_count": 23
        },
        {
          "output_type": "display_data",
          "data": {
            "text/plain": [
              "<Figure size 500x500 with 2 Axes>"
            ],
            "image/png": "[encoded data removed]"
          },
          "metadata": {}
        }
      ]
    },
    {
      "cell_type": "code",
      "source": [
        "#Fine tuning on conv net\n",
        "\n",
        "print(f1_score(actual_conv, preds_conv, average=\"binary\"))\n",
        "print(precision_score(actual_conv, preds_conv, average=\"binary\"))\n",
        "print(recall_score(actual_conv, preds_conv, average=\"binary\"))  "
      ],
      "metadata": {
        "colab": {
          "base_uri": "https://localhost:8080/"
        },
        "id": "b57jDXyaHndK",
        "outputId": "c0e8cb70-0320-4b78-cf93-748ef6bbeef9"
      },
      "execution_count": null,
      "outputs": [
        {
          "output_type": "stream",
          "name": "stdout",
          "text": [
            "0.7892316535734815\n",
            "0.7664681801265352\n",
            "0.8133886255924171\n"
          ]
        }
      ]
    },
    {
      "cell_type": "code",
      "source": [
        "#FULLY TRAINED\n",
        "preds, actual = test(model_ft, dataloaders, device)\n",
        "preds"
      ],
      "metadata": {
        "colab": {
          "base_uri": "https://localhost:8080/"
        },
        "id": "0BVpGUHIHonA",
        "outputId": "36bfec38-6470-44f6-e523-71cbcac3e90b"
      },
      "execution_count": null,
      "outputs": [
        {
          "output_type": "stream",
          "name": "stdout",
          "text": [
            "Testing Accuracy: 0.851\n"
          ]
        },
        {
          "output_type": "execute_result",
          "data": {
            "text/plain": [
              "array([1, 0, 0, ..., 1, 1, 1])"
            ]
          },
          "metadata": {},
          "execution_count": 16
        }
      ]
    },
    {
      "cell_type": "code",
      "source": [
        "\n",
        "cm = confusion_matrix(preds, actual, normalize='true')\n",
        "df_cm = pd.DataFrame(cm, index = ['Healthy', 'Defoliated'], \n",
        "                     columns = ['Healthy', 'Defoliated'])\n",
        "\n",
        "plt.figure(figsize=(5, 5))\n",
        "s = sns.heatmap(df_cm, annot=True, cmap=\"Blues\", \n",
        "            annot_kws={\n",
        "                'fontsize': 14\n",
        "            })\n",
        "s.set(xlabel='Predicted Labels', ylabel='Actual Labels')"
      ],
      "metadata": {
        "colab": {
          "base_uri": "https://localhost:8080/",
          "height": 500
        },
        "id": "rXx5K_mnH2GZ",
        "outputId": "a779b76a-4384-40b7-9811-e41ae1d3db75"
      },
      "execution_count": null,
      "outputs": [
        {
          "output_type": "execute_result",
          "data": {
            "text/plain": [
              "[Text(0.5, 25.722222222222214, 'Predicted Labels'),\n",
              " Text(33.222222222222214, 0.5, 'Actual Labels')]"
            ]
          },
          "metadata": {},
          "execution_count": 17
        },
        {
          "output_type": "display_data",
          "data": {
            "text/plain": [
              "<Figure size 500x500 with 2 Axes>"
            ],
            "image/png": "[encoded data removed]"
          },
          "metadata": {}
        }
      ]
    },
    {
      "cell_type": "code",
      "source": [
        "#For fully trained\n",
        "\n",
        "\n",
        "print(f1_score(actual, preds, average=\"binary\"))\n",
        "print(precision_score(actual, preds, average=\"binary\"))\n",
        "print(recall_score(actual, preds, average=\"binary\"))  "
      ],
      "metadata": {
        "colab": {
          "base_uri": "https://localhost:8080/"
        },
        "id": "6Jl9uDXAH3_n",
        "outputId": "88d23bd7-e433-4cc2-8dac-726291fb5ed0"
      },
      "execution_count": null,
      "outputs": [
        {
          "output_type": "stream",
          "name": "stdout",
          "text": [
            "0.8520066077154796\n",
            "0.8424289008455035\n",
            "0.8618045999606841\n"
          ]
        }
      ]
    },
    {
      "cell_type": "code",
      "source": [],
      "metadata": {
        "id": "3dFgJTG-OaaW"
      },
      "execution_count": null,
      "outputs": []
    }
  ]
}