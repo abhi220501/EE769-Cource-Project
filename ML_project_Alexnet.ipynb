{
  "cells": [
    {
      "cell_type": "markdown",
      "metadata": {
        "id": "view-in-github",
        "colab_type": "text"
      },
      "source": [
        "<a href=\"https://colab.research.google.com/github/abhi220501/EE769-Cource-Project/blob/main/ML_project_Alexnet.ipynb\" target=\"_parent\"><img src=\"https://colab.research.google.com/assets/colab-badge.svg\" alt=\"Open In Colab\"/></a>"
      ]
    },
    {
      "cell_type": "code",
      "execution_count": null,
      "metadata": {
        "colab": {
          "base_uri": "https://localhost:8080/"
        },
        "id": "3n1vzvcjl1Vo",
        "outputId": "402bedce-3b35-4ea0-851e-6fe31939dbb5"
      },
      "outputs": [
        {
          "output_type": "execute_result",
          "data": {
            "text/plain": [
              "<contextlib.ExitStack at 0x7fdf0424e970>"
            ]
          },
          "metadata": {},
          "execution_count": 3
        }
      ],
      "source": [
        "from __future__ import print_function, division\n",
        "import torch\n",
        "import torch.nn as nn\n",
        "import torch.optim as optim\n",
        "from torch.optim import lr_scheduler\n",
        "import torch.backends.cudnn as cudnn\n",
        "import numpy as np\n",
        "import torchvision\n",
        "from torchvision import datasets, models, transforms\n",
        "import matplotlib.pyplot as plt\n",
        "import time\n",
        "import os\n",
        "import copy\n",
        "\n",
        "cudnn.benchmark = True\n",
        "plt.ion()   # interactive mode"
      ]
    },
    {
      "cell_type": "code",
      "execution_count": null,
      "metadata": {
        "colab": {
          "base_uri": "https://localhost:8080/"
        },
        "id": "WpkrJImzmXke",
        "outputId": "889e8b7e-40d8-44b3-8004-e2a03ae7a3f0"
      },
      "outputs": [
        {
          "output_type": "stream",
          "name": "stdout",
          "text": [
            "Mounted at /content/drive\n"
          ]
        }
      ],
      "source": [
        "from google.colab import drive\n",
        "drive.mount('/content/drive')"
      ]
    },
    {
      "cell_type": "code",
      "execution_count": null,
      "metadata": {
        "id": "FHdUMRbJrfL3"
      },
      "outputs": [],
      "source": [
        "!unzip -q /content/drive/MyDrive/dataset_defo.zip"
      ]
    },
    {
      "cell_type": "code",
      "execution_count": null,
      "metadata": {
        "colab": {
          "base_uri": "https://localhost:8080/"
        },
        "id": "8o-JZtwUsCJM",
        "outputId": "5fcf8d07-5c1d-400d-b514-75726f6ffefa"
      },
      "outputs": [
        {
          "output_type": "stream",
          "name": "stdout",
          "text": [
            "Looking in indexes: https://pypi.org/simple, https://us-python.pkg.dev/colab-wheels/public/simple/\n",
            "Collecting torchsampler\n",
            "  Downloading torchsampler-0.1.2-py3-none-any.whl (5.6 kB)\n",
            "Requirement already satisfied: pandas in /usr/local/lib/python3.9/dist-packages (from torchsampler) (1.5.3)\n",
            "Requirement already satisfied: torchvision>=0.5 in /usr/local/lib/python3.9/dist-packages (from torchsampler) (0.15.1+cu118)\n",
            "Requirement already satisfied: torch>=1.3 in /usr/local/lib/python3.9/dist-packages (from torchsampler) (2.0.0+cu118)\n",
            "Requirement already satisfied: filelock in /usr/local/lib/python3.9/dist-packages (from torch>=1.3->torchsampler) (3.12.0)\n",
            "Requirement already satisfied: networkx in /usr/local/lib/python3.9/dist-packages (from torch>=1.3->torchsampler) (3.1)\n",
            "Requirement already satisfied: sympy in /usr/local/lib/python3.9/dist-packages (from torch>=1.3->torchsampler) (1.11.1)\n",
            "Requirement already satisfied: jinja2 in /usr/local/lib/python3.9/dist-packages (from torch>=1.3->torchsampler) (3.1.2)\n",
            "Requirement already satisfied: triton==2.0.0 in /usr/local/lib/python3.9/dist-packages (from torch>=1.3->torchsampler) (2.0.0)\n",
            "Requirement already satisfied: typing-extensions in /usr/local/lib/python3.9/dist-packages (from torch>=1.3->torchsampler) (4.5.0)\n",
            "Requirement already satisfied: lit in /usr/local/lib/python3.9/dist-packages (from triton==2.0.0->torch>=1.3->torchsampler) (16.0.2)\n",
            "Requirement already satisfied: cmake in /usr/local/lib/python3.9/dist-packages (from triton==2.0.0->torch>=1.3->torchsampler) (3.25.2)\n",
            "Requirement already satisfied: pillow!=8.3.*,>=5.3.0 in /usr/local/lib/python3.9/dist-packages (from torchvision>=0.5->torchsampler) (8.4.0)\n",
            "Requirement already satisfied: requests in /usr/local/lib/python3.9/dist-packages (from torchvision>=0.5->torchsampler) (2.27.1)\n",
            "Requirement already satisfied: numpy in /usr/local/lib/python3.9/dist-packages (from torchvision>=0.5->torchsampler) (1.22.4)\n",
            "Requirement already satisfied: pytz>=2020.1 in /usr/local/lib/python3.9/dist-packages (from pandas->torchsampler) (2022.7.1)\n",
            "Requirement already satisfied: python-dateutil>=2.8.1 in /usr/local/lib/python3.9/dist-packages (from pandas->torchsampler) (2.8.2)\n",
            "Requirement already satisfied: six>=1.5 in /usr/local/lib/python3.9/dist-packages (from python-dateutil>=2.8.1->pandas->torchsampler) (1.16.0)\n",
            "Requirement already satisfied: MarkupSafe>=2.0 in /usr/local/lib/python3.9/dist-packages (from jinja2->torch>=1.3->torchsampler) (2.1.2)\n",
            "Requirement already satisfied: certifi>=2017.4.17 in /usr/local/lib/python3.9/dist-packages (from requests->torchvision>=0.5->torchsampler) (2022.12.7)\n",
            "Requirement already satisfied: urllib3<1.27,>=1.21.1 in /usr/local/lib/python3.9/dist-packages (from requests->torchvision>=0.5->torchsampler) (1.26.15)\n",
            "Requirement already satisfied: charset-normalizer~=2.0.0 in /usr/local/lib/python3.9/dist-packages (from requests->torchvision>=0.5->torchsampler) (2.0.12)\n",
            "Requirement already satisfied: idna<4,>=2.5 in /usr/local/lib/python3.9/dist-packages (from requests->torchvision>=0.5->torchsampler) (3.4)\n",
            "Requirement already satisfied: mpmath>=0.19 in /usr/local/lib/python3.9/dist-packages (from sympy->torch>=1.3->torchsampler) (1.3.0)\n",
            "Installing collected packages: torchsampler\n",
            "Successfully installed torchsampler-0.1.2\n"
          ]
        }
      ],
      "source": [
        "pip install torchsampler"
      ]
    },
    {
      "cell_type": "code",
      "execution_count": null,
      "metadata": {
        "id": "H2lISCd_sjYO",
        "colab": {
          "base_uri": "https://localhost:8080/",
          "height": 381
        },
        "outputId": "d2669396-28b5-499a-cc58-fbd2a1a6c88a"
      },
      "outputs": [
        {
          "output_type": "error",
          "ename": "FileNotFoundError",
          "evalue": "ignored",
          "traceback": [
            "\u001b[0;31m---------------------------------------------------------------------------\u001b[0m",
            "\u001b[0;31mFileNotFoundError\u001b[0m                         Traceback (most recent call last)",
            "\u001b[0;32m<ipython-input-5-cc01b59c7322>\u001b[0m in \u001b[0;36m<cell line: 21>\u001b[0;34m()\u001b[0m\n\u001b[1;32m     19\u001b[0m \u001b[0;34m\u001b[0m\u001b[0m\n\u001b[1;32m     20\u001b[0m \u001b[0mdata_dir\u001b[0m \u001b[0;34m=\u001b[0m \u001b[0;34m'/content/dataset_defo/dataset'\u001b[0m\u001b[0;34m\u001b[0m\u001b[0;34m\u001b[0m\u001b[0m\n\u001b[0;32m---> 21\u001b[0;31m image_datasets = {x: datasets.ImageFolder(os.path.join(data_dir, x),\n\u001b[0m\u001b[1;32m     22\u001b[0m                                           data_transforms[x])\n\u001b[1;32m     23\u001b[0m                   for x in ['train', 'test']}\n",
            "\u001b[0;32m<ipython-input-5-cc01b59c7322>\u001b[0m in \u001b[0;36m<dictcomp>\u001b[0;34m(.0)\u001b[0m\n\u001b[1;32m     19\u001b[0m \u001b[0;34m\u001b[0m\u001b[0m\n\u001b[1;32m     20\u001b[0m \u001b[0mdata_dir\u001b[0m \u001b[0;34m=\u001b[0m \u001b[0;34m'/content/dataset_defo/dataset'\u001b[0m\u001b[0;34m\u001b[0m\u001b[0;34m\u001b[0m\u001b[0m\n\u001b[0;32m---> 21\u001b[0;31m image_datasets = {x: datasets.ImageFolder(os.path.join(data_dir, x),\n\u001b[0m\u001b[1;32m     22\u001b[0m                                           data_transforms[x])\n\u001b[1;32m     23\u001b[0m                   for x in ['train', 'test']}\n",
            "\u001b[0;32m/usr/local/lib/python3.9/dist-packages/torchvision/datasets/folder.py\u001b[0m in \u001b[0;36m__init__\u001b[0;34m(self, root, transform, target_transform, loader, is_valid_file)\u001b[0m\n\u001b[1;32m    307\u001b[0m         \u001b[0mis_valid_file\u001b[0m\u001b[0;34m:\u001b[0m \u001b[0mOptional\u001b[0m\u001b[0;34m[\u001b[0m\u001b[0mCallable\u001b[0m\u001b[0;34m[\u001b[0m\u001b[0;34m[\u001b[0m\u001b[0mstr\u001b[0m\u001b[0;34m]\u001b[0m\u001b[0;34m,\u001b[0m \u001b[0mbool\u001b[0m\u001b[0;34m]\u001b[0m\u001b[0;34m]\u001b[0m \u001b[0;34m=\u001b[0m \u001b[0;32mNone\u001b[0m\u001b[0;34m,\u001b[0m\u001b[0;34m\u001b[0m\u001b[0;34m\u001b[0m\u001b[0m\n\u001b[1;32m    308\u001b[0m     ):\n\u001b[0;32m--> 309\u001b[0;31m         super().__init__(\n\u001b[0m\u001b[1;32m    310\u001b[0m             \u001b[0mroot\u001b[0m\u001b[0;34m,\u001b[0m\u001b[0;34m\u001b[0m\u001b[0;34m\u001b[0m\u001b[0m\n\u001b[1;32m    311\u001b[0m             \u001b[0mloader\u001b[0m\u001b[0;34m,\u001b[0m\u001b[0;34m\u001b[0m\u001b[0;34m\u001b[0m\u001b[0m\n",
            "\u001b[0;32m/usr/local/lib/python3.9/dist-packages/torchvision/datasets/folder.py\u001b[0m in \u001b[0;36m__init__\u001b[0;34m(self, root, loader, extensions, transform, target_transform, is_valid_file)\u001b[0m\n\u001b[1;32m    142\u001b[0m     ) -> None:\n\u001b[1;32m    143\u001b[0m         \u001b[0msuper\u001b[0m\u001b[0;34m(\u001b[0m\u001b[0;34m)\u001b[0m\u001b[0;34m.\u001b[0m\u001b[0m__init__\u001b[0m\u001b[0;34m(\u001b[0m\u001b[0mroot\u001b[0m\u001b[0;34m,\u001b[0m \u001b[0mtransform\u001b[0m\u001b[0;34m=\u001b[0m\u001b[0mtransform\u001b[0m\u001b[0;34m,\u001b[0m \u001b[0mtarget_transform\u001b[0m\u001b[0;34m=\u001b[0m\u001b[0mtarget_transform\u001b[0m\u001b[0;34m)\u001b[0m\u001b[0;34m\u001b[0m\u001b[0;34m\u001b[0m\u001b[0m\n\u001b[0;32m--> 144\u001b[0;31m         \u001b[0mclasses\u001b[0m\u001b[0;34m,\u001b[0m \u001b[0mclass_to_idx\u001b[0m \u001b[0;34m=\u001b[0m \u001b[0mself\u001b[0m\u001b[0;34m.\u001b[0m\u001b[0mfind_classes\u001b[0m\u001b[0;34m(\u001b[0m\u001b[0mself\u001b[0m\u001b[0;34m.\u001b[0m\u001b[0mroot\u001b[0m\u001b[0;34m)\u001b[0m\u001b[0;34m\u001b[0m\u001b[0;34m\u001b[0m\u001b[0m\n\u001b[0m\u001b[1;32m    145\u001b[0m         \u001b[0msamples\u001b[0m \u001b[0;34m=\u001b[0m \u001b[0mself\u001b[0m\u001b[0;34m.\u001b[0m\u001b[0mmake_dataset\u001b[0m\u001b[0;34m(\u001b[0m\u001b[0mself\u001b[0m\u001b[0;34m.\u001b[0m\u001b[0mroot\u001b[0m\u001b[0;34m,\u001b[0m \u001b[0mclass_to_idx\u001b[0m\u001b[0;34m,\u001b[0m \u001b[0mextensions\u001b[0m\u001b[0;34m,\u001b[0m \u001b[0mis_valid_file\u001b[0m\u001b[0;34m)\u001b[0m\u001b[0;34m\u001b[0m\u001b[0;34m\u001b[0m\u001b[0m\n\u001b[1;32m    146\u001b[0m \u001b[0;34m\u001b[0m\u001b[0m\n",
            "\u001b[0;32m/usr/local/lib/python3.9/dist-packages/torchvision/datasets/folder.py\u001b[0m in \u001b[0;36mfind_classes\u001b[0;34m(self, directory)\u001b[0m\n\u001b[1;32m    216\u001b[0m             \u001b[0;34m(\u001b[0m\u001b[0mTuple\u001b[0m\u001b[0;34m[\u001b[0m\u001b[0mList\u001b[0m\u001b[0;34m[\u001b[0m\u001b[0mstr\u001b[0m\u001b[0;34m]\u001b[0m\u001b[0;34m,\u001b[0m \u001b[0mDict\u001b[0m\u001b[0;34m[\u001b[0m\u001b[0mstr\u001b[0m\u001b[0;34m,\u001b[0m \u001b[0mint\u001b[0m\u001b[0;34m]\u001b[0m\u001b[0;34m]\u001b[0m\u001b[0;34m)\u001b[0m\u001b[0;34m:\u001b[0m \u001b[0mList\u001b[0m \u001b[0mof\u001b[0m \u001b[0mall\u001b[0m \u001b[0mclasses\u001b[0m \u001b[0;32mand\u001b[0m \u001b[0mdictionary\u001b[0m \u001b[0mmapping\u001b[0m \u001b[0meach\u001b[0m \u001b[0;32mclass\u001b[0m \u001b[0mto\u001b[0m \u001b[0man\u001b[0m \u001b[0mindex\u001b[0m\u001b[0;34m.\u001b[0m\u001b[0;34m\u001b[0m\u001b[0;34m\u001b[0m\u001b[0m\n\u001b[1;32m    217\u001b[0m         \"\"\"\n\u001b[0;32m--> 218\u001b[0;31m         \u001b[0;32mreturn\u001b[0m \u001b[0mfind_classes\u001b[0m\u001b[0;34m(\u001b[0m\u001b[0mdirectory\u001b[0m\u001b[0;34m)\u001b[0m\u001b[0;34m\u001b[0m\u001b[0;34m\u001b[0m\u001b[0m\n\u001b[0m\u001b[1;32m    219\u001b[0m \u001b[0;34m\u001b[0m\u001b[0m\n\u001b[1;32m    220\u001b[0m     \u001b[0;32mdef\u001b[0m \u001b[0m__getitem__\u001b[0m\u001b[0;34m(\u001b[0m\u001b[0mself\u001b[0m\u001b[0;34m,\u001b[0m \u001b[0mindex\u001b[0m\u001b[0;34m:\u001b[0m \u001b[0mint\u001b[0m\u001b[0;34m)\u001b[0m \u001b[0;34m->\u001b[0m \u001b[0mTuple\u001b[0m\u001b[0;34m[\u001b[0m\u001b[0mAny\u001b[0m\u001b[0;34m,\u001b[0m \u001b[0mAny\u001b[0m\u001b[0;34m]\u001b[0m\u001b[0;34m:\u001b[0m\u001b[0;34m\u001b[0m\u001b[0;34m\u001b[0m\u001b[0m\n",
            "\u001b[0;32m/usr/local/lib/python3.9/dist-packages/torchvision/datasets/folder.py\u001b[0m in \u001b[0;36mfind_classes\u001b[0;34m(directory)\u001b[0m\n\u001b[1;32m     38\u001b[0m     \u001b[0mSee\u001b[0m \u001b[0;34m:\u001b[0m\u001b[0;32mclass\u001b[0m\u001b[0;34m:\u001b[0m\u001b[0;31m`\u001b[0m\u001b[0mDatasetFolder\u001b[0m\u001b[0;31m`\u001b[0m \u001b[0;32mfor\u001b[0m \u001b[0mdetails\u001b[0m\u001b[0;34m.\u001b[0m\u001b[0;34m\u001b[0m\u001b[0;34m\u001b[0m\u001b[0m\n\u001b[1;32m     39\u001b[0m     \"\"\"\n\u001b[0;32m---> 40\u001b[0;31m     \u001b[0mclasses\u001b[0m \u001b[0;34m=\u001b[0m \u001b[0msorted\u001b[0m\u001b[0;34m(\u001b[0m\u001b[0mentry\u001b[0m\u001b[0;34m.\u001b[0m\u001b[0mname\u001b[0m \u001b[0;32mfor\u001b[0m \u001b[0mentry\u001b[0m \u001b[0;32min\u001b[0m \u001b[0mos\u001b[0m\u001b[0;34m.\u001b[0m\u001b[0mscandir\u001b[0m\u001b[0;34m(\u001b[0m\u001b[0mdirectory\u001b[0m\u001b[0;34m)\u001b[0m \u001b[0;32mif\u001b[0m \u001b[0mentry\u001b[0m\u001b[0;34m.\u001b[0m\u001b[0mis_dir\u001b[0m\u001b[0;34m(\u001b[0m\u001b[0;34m)\u001b[0m\u001b[0;34m)\u001b[0m\u001b[0;34m\u001b[0m\u001b[0;34m\u001b[0m\u001b[0m\n\u001b[0m\u001b[1;32m     41\u001b[0m     \u001b[0;32mif\u001b[0m \u001b[0;32mnot\u001b[0m \u001b[0mclasses\u001b[0m\u001b[0;34m:\u001b[0m\u001b[0;34m\u001b[0m\u001b[0;34m\u001b[0m\u001b[0m\n\u001b[1;32m     42\u001b[0m         \u001b[0;32mraise\u001b[0m \u001b[0mFileNotFoundError\u001b[0m\u001b[0;34m(\u001b[0m\u001b[0;34mf\"Couldn't find any class folder in {directory}.\"\u001b[0m\u001b[0;34m)\u001b[0m\u001b[0;34m\u001b[0m\u001b[0;34m\u001b[0m\u001b[0m\n",
            "\u001b[0;31mFileNotFoundError\u001b[0m: [Errno 2] No such file or directory: '/content/dataset_defo/dataset/train'"
          ]
        }
      ],
      "source": [
        "from torchsampler import ImbalancedDatasetSampler\n",
        "\n",
        "# Data augmentation and normalization for training\n",
        "# Just normalization for validation\n",
        "data_transforms = {\n",
        "    'train': transforms.Compose([\n",
        "        transforms.RandomResizedCrop(224),\n",
        "        transforms.RandomHorizontalFlip(),\n",
        "        transforms.ToTensor(),\n",
        "        transforms.Normalize([0.485, 0.456, 0.406], [0.229, 0.224, 0.225])\n",
        "    ]),\n",
        "    'test': transforms.Compose([\n",
        "        transforms.Resize(256),\n",
        "        transforms.CenterCrop(224),\n",
        "        transforms.ToTensor(),\n",
        "        transforms.Normalize([0.485, 0.456, 0.406], [0.229, 0.224, 0.225])\n",
        "    ]),\n",
        "}\n",
        "\n",
        "data_dir = '/content/dataset_defo/dataset'\n",
        "image_datasets = {x: datasets.ImageFolder(os.path.join(data_dir, x),\n",
        "                                          data_transforms[x])\n",
        "                  for x in ['train', 'test']}\n",
        "dataloaders = {x: torch.utils.data.DataLoader(image_datasets[x],sampler=ImbalancedDatasetSampler(image_datasets[x]), batch_size=4, \n",
        "                                              num_workers=2)\n",
        "              for x in ['train', 'test']}\n",
        "dataset_sizes = {x: len(image_datasets[x]) for x in ['train', 'test']}\n",
        "class_names = image_datasets['train'].classes\n",
        "\n",
        "device = torch.device(\"cuda:0\" if torch.cuda.is_available() else \"cpu\")"
      ]
    },
    {
      "cell_type": "code",
      "execution_count": null,
      "metadata": {
        "id": "UrWLXeM2sjtv"
      },
      "outputs": [],
      "source": [
        "print(device)"
      ]
    },
    {
      "cell_type": "code",
      "execution_count": null,
      "metadata": {
        "colab": {
          "base_uri": "https://localhost:8080/",
          "height": 207
        },
        "id": "B10o_e8bvL0g",
        "outputId": "c9e18a1a-52eb-47c9-8a8e-bb635b4f054e"
      },
      "outputs": [
        {
          "output_type": "display_data",
          "data": {
            "text/plain": [
              "<Figure size 640x480 with 1 Axes>"
            ],
            "image/png": "[encoded data removed]"
          },
          "metadata": {}
        }
      ],
      "source": [
        "# Visualize a few images\n",
        "# Let's visualize a few training images so as to understand the data augmentations.\n",
        "\n",
        "def imshow(inp, title=None):\n",
        "    \"\"\"Imshow for Tensor.\"\"\"\n",
        "    inp = inp.numpy().transpose((1, 2, 0))\n",
        "    mean = np.array([0.485, 0.456, 0.406])\n",
        "    std = np.array([0.229, 0.224, 0.225])\n",
        "    inp = std * inp + mean\n",
        "    inp = np.clip(inp, 0, 1)\n",
        "    plt.imshow(inp)\n",
        "    if title is not None:\n",
        "        plt.title(title)\n",
        "    plt.pause(0.001)  # pause a bit so that plots are updated\n",
        "\n",
        "\n",
        "# Get a batch of training data\n",
        "inputs, classes = next(iter(dataloaders['train']))\n",
        "\n",
        "# Make a grid from batch\n",
        "out = torchvision.utils.make_grid(inputs)\n",
        "\n",
        "imshow(out, title=[class_names[x] for x in classes])\n"
      ]
    },
    {
      "cell_type": "code",
      "execution_count": null,
      "metadata": {
        "id": "oqj37bxFvs9f"
      },
      "outputs": [],
      "source": [
        "# Training the model:\n",
        "def train_model(model, criterion, optimizer, scheduler, num_epochs=25):\n",
        "    since = time.time()\n",
        "\n",
        "    best_model_wts = copy.deepcopy(model.state_dict())\n",
        "    best_acc = 0.0\n",
        "\n",
        "    for epoch in range(num_epochs):\n",
        "        print(f'Epoch {epoch}/{num_epochs - 1}')\n",
        "        print('-' * 10)\n",
        "\n",
        "        # Each epoch has a training and validation phase\n",
        "        for phase in ['train', 'test']:\n",
        "            if phase == 'train':\n",
        "                model.train()  # Set model to training mode\n",
        "            else:\n",
        "                model.eval()   # Set model to evaluate mode\n",
        "\n",
        "            running_loss = 0.0\n",
        "            running_corrects = 0\n",
        "\n",
        "            # Iterate over data.\n",
        "            for inputs, labels in dataloaders[phase]:\n",
        "                inputs = inputs.to(device)\n",
        "                labels = labels.to(device)\n",
        "\n",
        "                # zero the parameter gradients\n",
        "                optimizer.zero_grad()\n",
        "\n",
        "                # forward\n",
        "                # track history if only in train\n",
        "                with torch.set_grad_enabled(phase == 'train'):\n",
        "                    outputs = model(inputs)\n",
        "                    _, preds = torch.max(outputs, 1)\n",
        "                    loss = criterion(outputs, labels)\n",
        "\n",
        "                    # backward + optimize only if in training phase\n",
        "                    if phase == 'train':\n",
        "                        loss.backward()\n",
        "                        optimizer.step()\n",
        "\n",
        "                # statistics\n",
        "                running_loss += loss.item() * inputs.size(0)\n",
        "                running_corrects += torch.sum(preds == labels.data)\n",
        "            if phase == 'train':\n",
        "                scheduler.step()\n",
        "\n",
        "            epoch_loss = running_loss / dataset_sizes[phase]\n",
        "            epoch_acc = running_corrects.double() / dataset_sizes[phase]\n",
        "\n",
        "            print(f'{phase} Loss: {epoch_loss:.4f} Acc: {epoch_acc:.4f}')\n",
        "\n",
        "            # deep copy the model\n",
        "            if phase == 'test' and epoch_acc > best_acc:\n",
        "                best_acc = epoch_acc\n",
        "                best_model_wts = copy.deepcopy(model.state_dict())\n",
        "\n",
        "        print()\n",
        "\n",
        "    time_elapsed = time.time() - since\n",
        "    print(f'Training complete in {time_elapsed // 60:.0f}m {time_elapsed % 60:.0f}s')\n",
        "    print(f'Best val Acc: {best_acc:4f}')\n",
        "\n",
        "    # load best model weights\n",
        "    model.load_state_dict(best_model_wts)\n",
        "    return model"
      ]
    },
    {
      "cell_type": "code",
      "execution_count": null,
      "metadata": {
        "colab": {
          "base_uri": "https://localhost:8080/"
        },
        "id": "6ESBS4uT5CjE",
        "outputId": "aa3ef9b8-98c3-47a8-9062-bbce1adb647d"
      },
      "outputs": [
        {
          "output_type": "stream",
          "name": "stderr",
          "text": [
            "/usr/local/lib/python3.9/dist-packages/torchvision/models/_utils.py:208: UserWarning: The parameter 'pretrained' is deprecated since 0.13 and may be removed in the future, please use 'weights' instead.\n",
            "  warnings.warn(\n",
            "/usr/local/lib/python3.9/dist-packages/torchvision/models/_utils.py:223: UserWarning: Arguments other than a weight enum or `None` for 'weights' are deprecated since 0.13 and may be removed in the future. The current behavior is equivalent to passing `weights=AlexNet_Weights.IMAGENET1K_V1`. You can also use `weights=AlexNet_Weights.DEFAULT` to get the most up-to-date weights.\n",
            "  warnings.warn(msg)\n",
            "Downloading: \"https://download.pytorch.org/models/alexnet-owt-7be5be79.pth\" to /root/.cache/torch/hub/checkpoints/alexnet-owt-7be5be79.pth\n",
            "100%|██████████| 233M/233M [00:00<00:00, 266MB/s]\n"
          ]
        }
      ],
      "source": [
        "model_conv = torchvision.models.alexnet(pretrained=True)\n"
      ]
    },
    {
      "cell_type": "code",
      "execution_count": null,
      "metadata": {
        "colab": {
          "base_uri": "https://localhost:8080/"
        },
        "id": "scLc0Tx05Dj1",
        "outputId": "c54d066f-18f5-4634-b0f3-eb593469792c"
      },
      "outputs": [
        {
          "output_type": "stream",
          "name": "stdout",
          "text": [
            "AlexNet(\n",
            "  (features): Sequential(\n",
            "    (0): Conv2d(3, 64, kernel_size=(11, 11), stride=(4, 4), padding=(2, 2))\n",
            "    (1): ReLU(inplace=True)\n",
            "    (2): MaxPool2d(kernel_size=3, stride=2, padding=0, dilation=1, ceil_mode=False)\n",
            "    (3): Conv2d(64, 192, kernel_size=(5, 5), stride=(1, 1), padding=(2, 2))\n",
            "    (4): ReLU(inplace=True)\n",
            "    (5): MaxPool2d(kernel_size=3, stride=2, padding=0, dilation=1, ceil_mode=False)\n",
            "    (6): Conv2d(192, 384, kernel_size=(3, 3), stride=(1, 1), padding=(1, 1))\n",
            "    (7): ReLU(inplace=True)\n",
            "    (8): Conv2d(384, 256, kernel_size=(3, 3), stride=(1, 1), padding=(1, 1))\n",
            "    (9): ReLU(inplace=True)\n",
            "    (10): Conv2d(256, 256, kernel_size=(3, 3), stride=(1, 1), padding=(1, 1))\n",
            "    (11): ReLU(inplace=True)\n",
            "    (12): MaxPool2d(kernel_size=3, stride=2, padding=0, dilation=1, ceil_mode=False)\n",
            "  )\n",
            "  (avgpool): AdaptiveAvgPool2d(output_size=(6, 6))\n",
            "  (classifier): Sequential(\n",
            "    (0): Dropout(p=0.5, inplace=False)\n",
            "    (1): Linear(in_features=9216, out_features=4096, bias=True)\n",
            "    (2): ReLU(inplace=True)\n",
            "    (3): Dropout(p=0.5, inplace=False)\n",
            "    (4): Linear(in_features=4096, out_features=4096, bias=True)\n",
            "    (5): ReLU(inplace=True)\n",
            "    (6): Linear(in_features=4096, out_features=1000, bias=True)\n",
            "  )\n",
            ")\n"
          ]
        }
      ],
      "source": [
        "print(model_conv)"
      ]
    },
    {
      "cell_type": "code",
      "execution_count": null,
      "metadata": {
        "id": "hPpOhzJiv4VZ"
      },
      "outputs": [],
      "source": [
        "for param in model_conv.parameters():\n",
        "    param.requires_grad = False\n",
        "from collections import OrderedDict\n",
        "\n",
        "# Parameters of newly constructed modules have requires_grad=True by default\n",
        "#num_ftrs = model_conv.classifier.in_features\n",
        "model_conv.classifier =  nn.Sequential(OrderedDict([\n",
        "    ('fc1', nn.Linear(9216, 4096)),\n",
        "    ('relu', nn.ReLU()),\n",
        "    ('fc2', nn.Linear(4096, 1024)),\n",
        "    ('relu', nn.ReLU()),\n",
        "    ('fc3', nn.Linear(1024, 512)),\n",
        "    ('relu', nn.ReLU()),\n",
        "    ('fc4', nn.Linear(512, 2))\n",
        "     ]))\n",
        "\n",
        "model_conv = model_conv.to(device)\n",
        "\n",
        "criterion = nn.CrossEntropyLoss()\n",
        "\n",
        "# Observe that only parameters of final layer are being optimized as\n",
        "# opposed to before.\n",
        "optimizer_conv = optim.SGD(model_conv.classifier.parameters(), lr=0.001, momentum=0.9)\n",
        "\n",
        "# Decay LR by a factor of 0.1 every 2 epochs\n",
        "exp_lr_scheduler = lr_scheduler.StepLR(optimizer_conv, step_size=2, gamma=0.1)"
      ]
    },
    {
      "cell_type": "code",
      "execution_count": null,
      "metadata": {
        "colab": {
          "base_uri": "https://localhost:8080/"
        },
        "id": "BoOesW42wAKr",
        "outputId": "453dd5a1-31e5-410d-e0d0-c7c45d395a54"
      },
      "outputs": [
        {
          "output_type": "stream",
          "name": "stdout",
          "text": [
            "Epoch 0/9\n",
            "----------\n",
            "train Loss: 0.3758 Acc: 0.8055\n",
            "test Loss: 0.3569 Acc: 0.8274\n",
            "\n",
            "Epoch 1/9\n",
            "----------\n",
            "train Loss: 0.3792 Acc: 0.8041\n",
            "test Loss: 0.3642 Acc: 0.8211\n",
            "\n",
            "Epoch 2/9\n",
            "----------\n",
            "train Loss: 0.3766 Acc: 0.8054\n",
            "test Loss: 0.3519 Acc: 0.8260\n",
            "\n",
            "Epoch 3/9\n",
            "----------\n",
            "train Loss: 0.3739 Acc: 0.8058\n",
            "test Loss: 0.3492 Acc: 0.8327\n",
            "\n",
            "Epoch 4/9\n",
            "----------\n",
            "train Loss: 0.3767 Acc: 0.8043\n",
            "test Loss: 0.3584 Acc: 0.8271\n",
            "\n",
            "Epoch 5/9\n",
            "----------\n",
            "train Loss: 0.3789 Acc: 0.8034\n",
            "test Loss: 0.3616 Acc: 0.8244\n",
            "\n",
            "Epoch 6/9\n",
            "----------\n",
            "train Loss: 0.3749 Acc: 0.8059\n",
            "test Loss: 0.3420 Acc: 0.8365\n",
            "\n",
            "Epoch 7/9\n",
            "----------\n",
            "train Loss: 0.3753 Acc: 0.8067\n",
            "test Loss: 0.3616 Acc: 0.8235\n",
            "\n",
            "Epoch 8/9\n",
            "----------\n",
            "train Loss: 0.3776 Acc: 0.8036\n",
            "test Loss: 0.3557 Acc: 0.8286\n",
            "\n",
            "Epoch 9/9\n",
            "----------\n",
            "train Loss: 0.3760 Acc: 0.8070\n",
            "test Loss: 0.3489 Acc: 0.8320\n",
            "\n",
            "Training complete in 63m 44s\n",
            "Best val Acc: 0.836483\n"
          ]
        }
      ],
      "source": [
        "# 1 to 10 epochs\n",
        "model_conv = train_model(model_conv, criterion, optimizer_conv,\n",
        "                         exp_lr_scheduler, num_epochs=10)"
      ]
    },
    {
      "cell_type": "code",
      "execution_count": null,
      "metadata": {
        "id": "WnK3X0Ep1OtE"
      },
      "outputs": [],
      "source": [
        "#For saving the model\n",
        "model_conv.class_to_idx = dataloaders['train'].dataset.class_to_idx\n",
        "model_conv.epochs = 6\n",
        "checkpoint = {'input_size': [3, 224, 224],\n",
        "                 'batch_size': dataloaders['train'].batch_size,\n",
        "                  'output_size': 2,\n",
        "                  'state_dict': model_conv.state_dict(),\n",
        "                  'data_transforms': data_transforms,\n",
        "                  'optimizer_dict':optimizer_conv.state_dict(),\n",
        "                  'class_to_idx': model_conv.class_to_idx,\n",
        "                  'epoch': model_conv.epochs}\n",
        "torch.save(checkpoint, '/content/drive/MyDrive/Saved_models/soyabean_alexnet_6_withIDS.pth')"
      ]
    },
    {
      "cell_type": "code",
      "source": [
        "# for loading the model\n",
        "#loading the weights in the network\n",
        "loaded_checkpoint = torch.load('/content/drive/MyDrive/Saved_models/soyabean_alexnet_6_withIDS.pth')\n",
        "model_conv.load_state_dict(loaded_checkpoint['state_dict'])\n",
        "optimizer_conv.load_state_dict(loaded_checkpoint['optimizer_dict'])"
      ],
      "metadata": {
        "id": "CGyuJgj7_zGh"
      },
      "execution_count": null,
      "outputs": []
    },
    {
      "cell_type": "code",
      "execution_count": null,
      "metadata": {
        "id": "x8ReM0lJEcfS",
        "colab": {
          "base_uri": "https://localhost:8080/"
        },
        "outputId": "57fdc994-f17b-421b-e681-4491b2334699"
      },
      "outputs": [
        {
          "output_type": "stream",
          "name": "stdout",
          "text": [
            "Epoch 0/9\n",
            "----------\n",
            "train Loss: 0.3767 Acc: 0.8059\n",
            "test Loss: 0.3590 Acc: 0.8272\n",
            "\n",
            "Epoch 1/9\n",
            "----------\n",
            "train Loss: 0.3768 Acc: 0.8042\n",
            "test Loss: 0.3522 Acc: 0.8273\n",
            "\n",
            "Epoch 2/9\n",
            "----------\n",
            "train Loss: 0.3749 Acc: 0.8079\n",
            "test Loss: 0.3660 Acc: 0.8265\n",
            "\n",
            "Epoch 3/9\n",
            "----------\n",
            "train Loss: 0.3758 Acc: 0.8052\n",
            "test Loss: 0.3594 Acc: 0.8279\n",
            "\n",
            "Epoch 4/9\n",
            "----------\n",
            "train Loss: 0.3764 Acc: 0.8064\n",
            "test Loss: 0.3541 Acc: 0.8276\n",
            "\n",
            "Epoch 5/9\n",
            "----------\n",
            "train Loss: 0.3747 Acc: 0.8058\n",
            "test Loss: 0.3696 Acc: 0.8253\n",
            "\n",
            "Epoch 6/9\n",
            "----------\n",
            "train Loss: 0.3750 Acc: 0.8070\n",
            "test Loss: 0.3641 Acc: 0.8234\n",
            "\n",
            "Epoch 7/9\n",
            "----------\n",
            "train Loss: 0.3762 Acc: 0.8067\n",
            "test Loss: 0.3550 Acc: 0.8286\n",
            "\n",
            "Epoch 8/9\n",
            "----------\n",
            "train Loss: 0.3782 Acc: 0.8024\n",
            "test Loss: 0.3605 Acc: 0.8242\n",
            "\n",
            "Epoch 9/9\n",
            "----------\n",
            "train Loss: 0.3752 Acc: 0.8064\n",
            "test Loss: 0.3596 Acc: 0.8314\n",
            "\n",
            "Training complete in 62m 41s\n",
            "Best val Acc: 0.831391\n"
          ]
        }
      ],
      "source": [
        "# 11 to 20 epochs\n",
        "model_conv = train_model(model_conv, criterion, optimizer_conv,\n",
        "                         exp_lr_scheduler, num_epochs=10)"
      ]
    },
    {
      "cell_type": "code",
      "source": [
        "#For saving the model\n",
        "model_conv.class_to_idx = dataloaders['train'].dataset.class_to_idx\n",
        "model_conv.epochs = 6\n",
        "checkpoint = {'input_size': [3, 224, 224],\n",
        "                 'batch_size': dataloaders['train'].batch_size,\n",
        "                  'output_size': 2,\n",
        "                  'state_dict': model_conv.state_dict(),\n",
        "                  'data_transforms': data_transforms,\n",
        "                  'optimizer_dict':optimizer_conv.state_dict(),\n",
        "                  'class_to_idx': model_conv.class_to_idx,\n",
        "                  'epoch': model_conv.epochs}\n",
        "torch.save(checkpoint, '/content/drive/MyDrive/Saved_models/soyabean_alexnet_20_withIDS.pth')"
      ],
      "metadata": {
        "id": "K3dOUSW3__gV"
      },
      "execution_count": null,
      "outputs": []
    },
    {
      "cell_type": "code",
      "execution_count": null,
      "metadata": {
        "id": "H0TzjoJuEdC6"
      },
      "outputs": [],
      "source": [
        "# for loading the model\n",
        "#loading the weights in the network\n",
        "loaded_checkpoint = torch.load('/content/drive/MyDrive/Saved_models/soyabean_alexnet_20_withIDS.pth')\n",
        "model_conv.load_state_dict(loaded_checkpoint['state_dict'])\n",
        "optimizer_conv.load_state_dict(loaded_checkpoint['optimizer_dict'])"
      ]
    },
    {
      "cell_type": "code",
      "execution_count": null,
      "metadata": {
        "id": "HVR7jmslEbXe"
      },
      "outputs": [],
      "source": [
        "#Testing\n",
        "from torch.autograd import Variable\n",
        "\n",
        "def test(model, dataloaders, device):\n",
        "    model.eval()\n",
        "    accuracy = 0\n",
        "      \n",
        "    preds = []\n",
        "    actual = []\n",
        "    for images, labels in dataloaders['test']:\n",
        "        images = Variable(images)\n",
        "        labels = Variable(labels)\n",
        "        images, labels = images.to(device), labels.to(device)\n",
        "          \n",
        "        output = model.forward(images)\n",
        "        ps = torch.exp(output)\n",
        "        preds.append(np.array(ps.max(1)[1].cpu()))\n",
        "        actual.append(np.array(labels.data.cpu()))\n",
        "        equality = (labels.data == ps.max(1)[1])\n",
        "        accuracy += equality.type_as(torch.FloatTensor()).mean()\n",
        "\n",
        "    preds = np.array(preds, dtype=object)\n",
        "    actual = np.array(actual, dtype=object)\n",
        "    print(\"Testing Accuracy: {:.3f}\".format(accuracy/len(dataloaders['test'])))\n",
        "    return np.concatenate(preds), np.concatenate(actual)"
      ]
    },
    {
      "cell_type": "code",
      "execution_count": null,
      "metadata": {
        "id": "XqNd0oeLEf6D",
        "colab": {
          "base_uri": "https://localhost:8080/"
        },
        "outputId": "f25c9430-07da-4681-d0b7-9ba7d11ec0c3"
      },
      "outputs": [
        {
          "output_type": "stream",
          "name": "stdout",
          "text": [
            "Testing Accuracy: 0.830\n"
          ]
        },
        {
          "output_type": "execute_result",
          "data": {
            "text/plain": [
              "array([1, 1, 1, ..., 1, 1, 0])"
            ]
          },
          "metadata": {},
          "execution_count": 19
        }
      ],
      "source": [
        "preds_conv, actual_conv = test(model_conv, dataloaders, device)\n",
        "preds_conv"
      ]
    },
    {
      "cell_type": "code",
      "execution_count": null,
      "metadata": {
        "id": "PWjLFfqbEpdd"
      },
      "outputs": [],
      "source": [
        "from sklearn.metrics import confusion_matrix\n",
        "import pandas as pd\n",
        "import seaborn as sns\n",
        "from sklearn.metrics import accuracy_score, f1_score, precision_score, recall_score\n"
      ]
    },
    {
      "cell_type": "code",
      "execution_count": null,
      "metadata": {
        "id": "ybMD497jEi9O",
        "colab": {
          "base_uri": "https://localhost:8080/",
          "height": 500
        },
        "outputId": "dc66a1ff-8032-4e00-9d47-20e91c270212"
      },
      "outputs": [
        {
          "output_type": "execute_result",
          "data": {
            "text/plain": [
              "[Text(0.5, 25.722222222222214, 'Predicted Labels'),\n",
              " Text(33.222222222222214, 0.5, 'Actual Labels')]"
            ]
          },
          "metadata": {},
          "execution_count": 21
        },
        {
          "output_type": "display_data",
          "data": {
            "text/plain": [
              "<Figure size 500x500 with 2 Axes>"
            ],
            "image/png": "[encoded data removed]"
          },
          "metadata": {}
        }
      ],
      "source": [
        "#For fine tuned on conv net only\n",
        "cm = confusion_matrix(preds_conv, actual_conv, normalize='true')\n",
        "df_cm = pd.DataFrame(cm, index = ['Healthy', 'Defoliated'], \n",
        "                     columns = ['Healthy', 'Defoliated'])\n",
        "\n",
        "plt.figure(figsize=(5, 5))\n",
        "s = sns.heatmap(df_cm, annot=True, cmap=\"Blues\", \n",
        "            annot_kws={\n",
        "                'fontsize': 14\n",
        "            })\n",
        "s.set(xlabel='Predicted Labels', ylabel='Actual Labels')"
      ]
    },
    {
      "cell_type": "code",
      "execution_count": null,
      "metadata": {
        "id": "v7Zd3sdmElR-",
        "colab": {
          "base_uri": "https://localhost:8080/"
        },
        "outputId": "1932473d-6be6-499d-ff75-f66c80a4eeba"
      },
      "outputs": [
        {
          "output_type": "stream",
          "name": "stdout",
          "text": [
            "0.8342399083882048\n",
            "0.8112472160356348\n",
            "0.858573954036535\n"
          ]
        }
      ],
      "source": [
        "#Fine tuning on conv net\n",
        "\n",
        "print(f1_score(actual_conv, preds_conv, average=\"binary\"))\n",
        "print(precision_score(actual_conv, preds_conv, average=\"binary\"))\n",
        "print(recall_score(actual_conv, preds_conv, average=\"binary\"))  "
      ]
    },
    {
      "cell_type": "code",
      "source": [],
      "metadata": {
        "id": "OJ7doIeo_Dlu"
      },
      "execution_count": null,
      "outputs": []
    },
    {
      "cell_type": "code",
      "source": [],
      "metadata": {
        "id": "dqLova1g--3C"
      },
      "execution_count": null,
      "outputs": []
    },
    {
      "cell_type": "code",
      "source": [
        "# full \n",
        "model_ft = torchvision.models.alexnet(pretrained= True)\n"
      ],
      "metadata": {
        "id": "0kE-KsKT_M9T"
      },
      "execution_count": null,
      "outputs": []
    },
    {
      "cell_type": "code",
      "source": [
        "from collections import OrderedDict\n",
        "  \n",
        "# Parameters of newly constructed modules have requires_grad=True by default\n",
        "#num_ftrs = model_conv.classifier.in_features\n",
        "model_ft.classifier =  nn.Sequential(OrderedDict([\n",
        "    ('fc1', nn.Linear(9216, 4096)),\n",
        "    ('relu', nn.ReLU()),\n",
        "    ('fc2', nn.Linear(4096, 1024)),\n",
        "    ('relu', nn.ReLU()),\n",
        "    ('fc3', nn.Linear(1024, 512)),\n",
        "    ('relu', nn.ReLU()),\n",
        "    ('fc4', nn.Linear(512, 2))\n",
        "     ]))\n",
        "\n",
        "model_ft = model_ft.to(device)\n",
        "\n",
        "criterion = nn.CrossEntropyLoss()\n",
        "\n",
        "# Observe that only parameters of final layer are being optimized as\n",
        "# opposed to before.\n",
        "optimizer_ft = optim.SGD(model_ft.classifier.parameters(), lr=0.001, momentum=0.9)\n",
        "\n",
        "# Decay LR by a factor of 0.1 every 2 epochs\n",
        "exp_lr_scheduler = lr_scheduler.StepLR(optimizer_conv, step_size=2, gamma=0.1)"
      ],
      "metadata": {
        "id": "kAmxRbaFAC_X"
      },
      "execution_count": null,
      "outputs": []
    },
    {
      "cell_type": "code",
      "source": [
        "# 1 to 6 epochs\n",
        "model_ft = train_model(model_ft, criterion, optimizer_ft,\n",
        "                         exp_lr_scheduler, num_epochs=6)"
      ],
      "metadata": {
        "colab": {
          "base_uri": "https://localhost:8080/"
        },
        "id": "eABPdIjIW_vJ",
        "outputId": "22b38449-9087-4f6d-b8ef-3fbb3524359c"
      },
      "execution_count": null,
      "outputs": [
        {
          "output_type": "stream",
          "name": "stdout",
          "text": [
            "Epoch 0/5\n",
            "----------\n",
            "train Loss: 0.4413 Acc: 0.7642\n"
          ]
        },
        {
          "output_type": "stream",
          "name": "stderr",
          "text": [
            "/usr/local/lib/python3.9/dist-packages/torch/optim/lr_scheduler.py:139: UserWarning: Detected call of `lr_scheduler.step()` before `optimizer.step()`. In PyTorch 1.1.0 and later, you should call them in the opposite order: `optimizer.step()` before `lr_scheduler.step()`.  Failure to do this will result in PyTorch skipping the first value of the learning rate schedule. See more details at https://pytorch.org/docs/stable/optim.html#how-to-adjust-learning-rate\n",
            "  warnings.warn(\"Detected call of `lr_scheduler.step()` before `optimizer.step()`. \"\n"
          ]
        },
        {
          "output_type": "stream",
          "name": "stdout",
          "text": [
            "test Loss: 0.3904 Acc: 0.8094\n",
            "\n",
            "Epoch 1/5\n",
            "----------\n",
            "train Loss: 0.4069 Acc: 0.7867\n",
            "test Loss: 0.3703 Acc: 0.8217\n",
            "\n",
            "Epoch 2/5\n",
            "----------\n",
            "train Loss: 0.3945 Acc: 0.7944\n",
            "test Loss: 0.3979 Acc: 0.7914\n",
            "\n",
            "Epoch 3/5\n",
            "----------\n",
            "train Loss: 0.3877 Acc: 0.8000\n",
            "test Loss: 0.3640 Acc: 0.8146\n",
            "\n",
            "Epoch 4/5\n",
            "----------\n",
            "train Loss: 0.3864 Acc: 0.7987\n",
            "test Loss: 0.3456 Acc: 0.8261\n",
            "\n",
            "Epoch 5/5\n",
            "----------\n",
            "train Loss: 0.3830 Acc: 0.8025\n",
            "test Loss: 0.3695 Acc: 0.8175\n",
            "\n",
            "Training complete in 43m 13s\n",
            "Best val Acc: 0.826104\n"
          ]
        }
      ]
    },
    {
      "cell_type": "code",
      "source": [
        "#For saving the model\n",
        "model_ft.class_to_idx = dataloaders['train'].dataset.class_to_idx\n",
        "model_ft.epochs = 6\n",
        "checkpoint = {'input_size': [3, 224, 224],\n",
        "                 'batch_size': dataloaders['train'].batch_size,\n",
        "                  'output_size': 2,\n",
        "                  'state_dict': model_ft.state_dict(),\n",
        "                  'data_transforms': data_transforms,\n",
        "                  'optimizer_dict':optimizer_ft.state_dict(),\n",
        "                  'class_to_idx': model_ft.class_to_idx,\n",
        "                  'epoch': model_ft.epochs}\n",
        "torch.save(checkpoint, '/content/drive/MyDrive/Saved_models/soyabean_alexnet_6_ft_withIDS.pth')"
      ],
      "metadata": {
        "id": "ZVjauNBWXV1_",
        "colab": {
          "base_uri": "https://localhost:8080/",
          "height": 236
        },
        "outputId": "660d2b42-c0f2-4404-e798-2c16e1e39b4f"
      },
      "execution_count": null,
      "outputs": [
        {
          "output_type": "error",
          "ename": "NameError",
          "evalue": "ignored",
          "traceback": [
            "\u001b[0;31m---------------------------------------------------------------------------\u001b[0m",
            "\u001b[0;31mNameError\u001b[0m                                 Traceback (most recent call last)",
            "\u001b[0;32m<ipython-input-1-077b8539e84d>\u001b[0m in \u001b[0;36m<cell line: 2>\u001b[0;34m()\u001b[0m\n\u001b[1;32m      1\u001b[0m \u001b[0;31m#For saving the model\u001b[0m\u001b[0;34m\u001b[0m\u001b[0;34m\u001b[0m\u001b[0m\n\u001b[0;32m----> 2\u001b[0;31m \u001b[0mmodel_ft\u001b[0m\u001b[0;34m.\u001b[0m\u001b[0mclass_to_idx\u001b[0m \u001b[0;34m=\u001b[0m \u001b[0mdataloaders\u001b[0m\u001b[0;34m[\u001b[0m\u001b[0;34m'train'\u001b[0m\u001b[0;34m]\u001b[0m\u001b[0;34m.\u001b[0m\u001b[0mdataset\u001b[0m\u001b[0;34m.\u001b[0m\u001b[0mclass_to_idx\u001b[0m\u001b[0;34m\u001b[0m\u001b[0;34m\u001b[0m\u001b[0m\n\u001b[0m\u001b[1;32m      3\u001b[0m \u001b[0mmodel_ft\u001b[0m\u001b[0;34m.\u001b[0m\u001b[0mepochs\u001b[0m \u001b[0;34m=\u001b[0m \u001b[0;36m6\u001b[0m\u001b[0;34m\u001b[0m\u001b[0;34m\u001b[0m\u001b[0m\n\u001b[1;32m      4\u001b[0m checkpoint = {'input_size': [3, 224, 224],\n\u001b[1;32m      5\u001b[0m                  \u001b[0;34m'batch_size'\u001b[0m\u001b[0;34m:\u001b[0m \u001b[0mdataloaders\u001b[0m\u001b[0;34m[\u001b[0m\u001b[0;34m'train'\u001b[0m\u001b[0;34m]\u001b[0m\u001b[0;34m.\u001b[0m\u001b[0mbatch_size\u001b[0m\u001b[0;34m,\u001b[0m\u001b[0;34m\u001b[0m\u001b[0;34m\u001b[0m\u001b[0m\n",
            "\u001b[0;31mNameError\u001b[0m: name 'dataloaders' is not defined"
          ]
        }
      ]
    },
    {
      "cell_type": "code",
      "source": [
        "# for loading the model\n",
        "#loading the weights in the network\n",
        "loaded_checkpoint = torch.load('/content/drive/MyDrive/Saved_models/soyabean_alexnet_6_ft_withIDS.pth')\n",
        "model_ft.load_state_dict(loaded_checkpoint['state_dict'])\n",
        "optimizer_ft.load_state_dict(loaded_checkpoint['optimizer_dict'])"
      ],
      "metadata": {
        "id": "1ne1unBMUWxk"
      },
      "execution_count": null,
      "outputs": []
    },
    {
      "cell_type": "code",
      "source": [
        "# 6 to 20 epochs\n",
        "model_ft = train_model(model_ft, criterion, optimizer_ft,\n",
        "                         exp_lr_scheduler, num_epochs=14)"
      ],
      "metadata": {
        "colab": {
          "base_uri": "https://localhost:8080/"
        },
        "id": "KD3XitSw_Lq_",
        "outputId": "b17126b0-f37e-4bff-c8c1-73535aee56da"
      },
      "execution_count": null,
      "outputs": [
        {
          "output_type": "stream",
          "name": "stdout",
          "text": [
            "Epoch 0/13\n",
            "----------\n",
            "train Loss: 0.3823 Acc: 0.8049\n"
          ]
        },
        {
          "output_type": "stream",
          "name": "stderr",
          "text": [
            "/usr/local/lib/python3.9/dist-packages/torch/optim/lr_scheduler.py:139: UserWarning: Detected call of `lr_scheduler.step()` before `optimizer.step()`. In PyTorch 1.1.0 and later, you should call them in the opposite order: `optimizer.step()` before `lr_scheduler.step()`.  Failure to do this will result in PyTorch skipping the first value of the learning rate schedule. See more details at https://pytorch.org/docs/stable/optim.html#how-to-adjust-learning-rate\n",
            "  warnings.warn(\"Detected call of `lr_scheduler.step()` before `optimizer.step()`. \"\n"
          ]
        },
        {
          "output_type": "stream",
          "name": "stdout",
          "text": [
            "test Loss: 0.3498 Acc: 0.8322\n",
            "\n",
            "Epoch 1/13\n",
            "----------\n",
            "train Loss: 0.3816 Acc: 0.8029\n",
            "test Loss: 0.3703 Acc: 0.8163\n",
            "\n",
            "Epoch 2/13\n",
            "----------\n",
            "train Loss: 0.3805 Acc: 0.8028\n",
            "test Loss: 0.3658 Acc: 0.8186\n",
            "\n",
            "Epoch 3/13\n",
            "----------\n",
            "train Loss: 0.3780 Acc: 0.8062\n",
            "test Loss: 0.3608 Acc: 0.8239\n",
            "\n",
            "Epoch 4/13\n",
            "----------\n",
            "train Loss: 0.3724 Acc: 0.8083\n",
            "test Loss: 0.3508 Acc: 0.8367\n",
            "\n",
            "Epoch 5/13\n",
            "----------\n",
            "train Loss: 0.3761 Acc: 0.8058\n",
            "test Loss: 0.3536 Acc: 0.8291\n",
            "\n",
            "Epoch 6/13\n",
            "----------\n",
            "train Loss: 0.3736 Acc: 0.8071\n",
            "test Loss: 0.3460 Acc: 0.8318\n",
            "\n",
            "Epoch 7/13\n",
            "----------\n",
            "train Loss: 0.3705 Acc: 0.8096\n",
            "test Loss: 0.3425 Acc: 0.8314\n",
            "\n",
            "Epoch 8/13\n",
            "----------\n",
            "train Loss: 0.3733 Acc: 0.8092\n",
            "test Loss: 0.3600 Acc: 0.8318\n",
            "\n",
            "Epoch 9/13\n",
            "----------\n",
            "train Loss: 0.3693 Acc: 0.8097\n",
            "test Loss: 0.3757 Acc: 0.8293\n",
            "\n",
            "Epoch 10/13\n",
            "----------\n",
            "train Loss: 0.3693 Acc: 0.8100\n",
            "test Loss: 0.3455 Acc: 0.8368\n",
            "\n",
            "Epoch 11/13\n",
            "----------\n",
            "train Loss: 0.3672 Acc: 0.8123\n",
            "test Loss: 0.3439 Acc: 0.8347\n",
            "\n",
            "Epoch 12/13\n",
            "----------\n",
            "train Loss: 0.3656 Acc: 0.8137\n",
            "test Loss: 0.3660 Acc: 0.8304\n",
            "\n",
            "Epoch 13/13\n",
            "----------\n",
            "train Loss: 0.3683 Acc: 0.8112\n",
            "test Loss: 0.3814 Acc: 0.8113\n",
            "\n",
            "Training complete in 100m 5s\n",
            "Best val Acc: 0.836777\n"
          ]
        }
      ]
    },
    {
      "cell_type": "code",
      "source": [
        "#For saving the model\n",
        "model_ft.class_to_idx = dataloaders['train'].dataset.class_to_idx\n",
        "model_ft.epochs = 6\n",
        "checkpoint = {'input_size': [3, 224, 224],\n",
        "                 'batch_size': dataloaders['train'].batch_size,\n",
        "                  'output_size': 2,\n",
        "                  'state_dict': model_ft.state_dict(),\n",
        "                  'data_transforms': data_transforms,\n",
        "                  'optimizer_dict':optimizer_ft.state_dict(),\n",
        "                  'class_to_idx': model_ft.class_to_idx,\n",
        "                  'epoch': model_ft.epochs}\n",
        "torch.save(checkpoint, '/content/drive/MyDrive/Saved_models/soyabean_alexnet_20_ft_withIDS.pth')"
      ],
      "metadata": {
        "colab": {
          "base_uri": "https://localhost:8080/",
          "height": 236
        },
        "id": "UG7t-sokUvPv",
        "outputId": "b235edd0-0d98-4f7a-dd33-bd7b515a810d"
      },
      "execution_count": null,
      "outputs": [
        {
          "output_type": "error",
          "ename": "NameError",
          "evalue": "ignored",
          "traceback": [
            "\u001b[0;31m---------------------------------------------------------------------------\u001b[0m",
            "\u001b[0;31mNameError\u001b[0m                                 Traceback (most recent call last)",
            "\u001b[0;32m<ipython-input-6-b505b99f91a9>\u001b[0m in \u001b[0;36m<cell line: 2>\u001b[0;34m()\u001b[0m\n\u001b[1;32m      1\u001b[0m \u001b[0;31m#For saving the model\u001b[0m\u001b[0;34m\u001b[0m\u001b[0;34m\u001b[0m\u001b[0m\n\u001b[0;32m----> 2\u001b[0;31m \u001b[0mmodel_ft\u001b[0m\u001b[0;34m.\u001b[0m\u001b[0mclass_to_idx\u001b[0m \u001b[0;34m=\u001b[0m \u001b[0mdataloaders\u001b[0m\u001b[0;34m[\u001b[0m\u001b[0;34m'train'\u001b[0m\u001b[0;34m]\u001b[0m\u001b[0;34m.\u001b[0m\u001b[0mdataset\u001b[0m\u001b[0;34m.\u001b[0m\u001b[0mclass_to_idx\u001b[0m\u001b[0;34m\u001b[0m\u001b[0;34m\u001b[0m\u001b[0m\n\u001b[0m\u001b[1;32m      3\u001b[0m \u001b[0mmodel_ft\u001b[0m\u001b[0;34m.\u001b[0m\u001b[0mepochs\u001b[0m \u001b[0;34m=\u001b[0m \u001b[0;36m6\u001b[0m\u001b[0;34m\u001b[0m\u001b[0;34m\u001b[0m\u001b[0m\n\u001b[1;32m      4\u001b[0m checkpoint = {'input_size': [3, 224, 224],\n\u001b[1;32m      5\u001b[0m                  \u001b[0;34m'batch_size'\u001b[0m\u001b[0;34m:\u001b[0m \u001b[0mdataloaders\u001b[0m\u001b[0;34m[\u001b[0m\u001b[0;34m'train'\u001b[0m\u001b[0;34m]\u001b[0m\u001b[0;34m.\u001b[0m\u001b[0mbatch_size\u001b[0m\u001b[0;34m,\u001b[0m\u001b[0;34m\u001b[0m\u001b[0;34m\u001b[0m\u001b[0m\n",
            "\u001b[0;31mNameError\u001b[0m: name 'dataloaders' is not defined"
          ]
        }
      ]
    },
    {
      "cell_type": "code",
      "source": [
        "preds_ft, actual_ft = test(model_ft, dataloaders, device)\n",
        "preds_ft"
      ],
      "metadata": {
        "colab": {
          "base_uri": "https://localhost:8080/"
        },
        "id": "5MKSPDQFXmeE",
        "outputId": "35320919-225c-4f4f-8563-a643a5209b22"
      },
      "execution_count": null,
      "outputs": [
        {
          "output_type": "stream",
          "name": "stdout",
          "text": [
            "Testing Accuracy: 0.831\n"
          ]
        },
        {
          "output_type": "execute_result",
          "data": {
            "text/plain": [
              "array([0, 0, 1, ..., 0, 1, 1])"
            ]
          },
          "metadata": {},
          "execution_count": 31
        }
      ]
    },
    {
      "cell_type": "code",
      "source": [
        "#For fully trained\n",
        "cm = confusion_matrix(preds_ft, actual_ft, normalize='true')\n",
        "df_cm = pd.DataFrame(cm, index = ['Healthy', 'Defoliated'], \n",
        "                     columns = ['Healthy', 'Defoliated'])\n",
        "\n",
        "plt.figure(figsize=(5, 5))\n",
        "s = sns.heatmap(df_cm, annot=True, cmap=\"Blues\", \n",
        "            annot_kws={\n",
        "                'fontsize': 14\n",
        "            })\n",
        "s.set(xlabel='Predicted Labels', ylabel='Actual Labels')"
      ],
      "metadata": {
        "colab": {
          "base_uri": "https://localhost:8080/",
          "height": 500
        },
        "id": "o7hBoIcAlR_D",
        "outputId": "f3eab05a-f2fb-4a2e-c3a9-c057862419c1"
      },
      "execution_count": null,
      "outputs": [
        {
          "output_type": "execute_result",
          "data": {
            "text/plain": [
              "[Text(0.5, 25.722222222222214, 'Predicted Labels'),\n",
              " Text(33.222222222222214, 0.5, 'Actual Labels')]"
            ]
          },
          "metadata": {},
          "execution_count": 33
        },
        {
          "output_type": "display_data",
          "data": {
            "text/plain": [
              "<Figure size 500x500 with 2 Axes>"
            ],
            "image/png": "[encoded data removed]"
          },
          "metadata": {}
        }
      ]
    },
    {
      "cell_type": "code",
      "source": [
        "#Fully trained\n",
        "\n",
        "print(f1_score(actual_conv, preds_conv, average=\"binary\"))\n",
        "print(precision_score(actual_conv, preds_conv, average=\"binary\"))\n",
        "print(recall_score(actual_conv, preds_conv, average=\"binary\"))  "
      ],
      "metadata": {
        "colab": {
          "base_uri": "https://localhost:8080/"
        },
        "id": "pvqbAcVOlVRX",
        "outputId": "e4e59d4a-f86b-4305-d3a3-6e4a1dfdfe67"
      },
      "execution_count": null,
      "outputs": [
        {
          "output_type": "stream",
          "name": "stdout",
          "text": [
            "0.8342399083882048\n",
            "0.8112472160356348\n",
            "0.858573954036535\n"
          ]
        }
      ]
    },
    {
      "cell_type": "code",
      "source": [],
      "metadata": {
        "id": "XbuBGiatlj6E"
      },
      "execution_count": null,
      "outputs": []
    }
  ],
  "metadata": {
    "accelerator": "GPU",
    "colab": {
      "provenance": [],
      "authorship_tag": "ABX9TyNfMUF1kB06GkLnF765sCH+",
      "include_colab_link": true
    },
    "gpuClass": "standard",
    "kernelspec": {
      "display_name": "Python 3",
      "name": "python3"
    },
    "language_info": {
      "name": "python"
    }
  },
  "nbformat": 4,
  "nbformat_minor": 0
}