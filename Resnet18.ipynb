{
  "nbformat": 4,
  "nbformat_minor": 0,
  "metadata": {
    "colab": {
      "provenance": [],
      "authorship_tag": "ABX9TyOD4MDhGqBW1bMHBHj/Ysep",
      "include_colab_link": true
    },
    "kernelspec": {
      "name": "python3",
      "display_name": "Python 3"
    },
    "language_info": {
      "name": "python"
    },
    "accelerator": "GPU",
    "gpuClass": "standard"
  },
  "cells": [
    {
      "cell_type": "markdown",
      "metadata": {
        "id": "view-in-github",
        "colab_type": "text"
      },
      "source": [
        "<a href=\"https://colab.research.google.com/github/abhi220501/EE769-Cource-Project/blob/main/Resnet18.ipynb\" target=\"_parent\"><img src=\"https://colab.research.google.com/assets/colab-badge.svg\" alt=\"Open In Colab\"/></a>"
      ]
    },
    {
      "cell_type": "code",
      "execution_count": null,
      "metadata": {
        "colab": {
          "base_uri": "https://localhost:8080/"
        },
        "id": "DSrOYFhaH0sQ",
        "outputId": "f508d315-2fe0-4e76-a66d-48d0440f5320"
      },
      "outputs": [
        {
          "output_type": "execute_result",
          "data": {
            "text/plain": [
              "<contextlib.ExitStack at 0x7f22ca3b9cd0>"
            ]
          },
          "metadata": {},
          "execution_count": 1
        }
      ],
      "source": [
        "\n",
        "from __future__ import print_function, division\n",
        "\n",
        "import torch\n",
        "import torch.nn as nn\n",
        "import torch.optim as optim\n",
        "from torch.optim import lr_scheduler\n",
        "import torch.backends.cudnn as cudnn\n",
        "import numpy as np\n",
        "import torchvision\n",
        "from torchvision import datasets, models, transforms\n",
        "import matplotlib.pyplot as plt\n",
        "import time\n",
        "import os\n",
        "import copy\n",
        "\n",
        "cudnn.benchmark = True\n",
        "plt.ion()   # interactive mode"
      ]
    },
    {
      "cell_type": "code",
      "source": [
        "from google.colab import drive\n",
        "drive.mount('/content/drive')"
      ],
      "metadata": {
        "colab": {
          "base_uri": "https://localhost:8080/"
        },
        "id": "QpRt85NsfDFS",
        "outputId": "9310571c-b8c3-4be1-8c7b-afd6327cf2db"
      },
      "execution_count": null,
      "outputs": [
        {
          "output_type": "stream",
          "name": "stdout",
          "text": [
            "Mounted at /content/drive\n"
          ]
        }
      ]
    },
    {
      "cell_type": "code",
      "source": [
        "#!unzip -q /content/drive/MyDrive/defo_dataset_half.zip"
      ],
      "metadata": {
        "id": "-TZBrNAuH5hg"
      },
      "execution_count": null,
      "outputs": []
    },
    {
      "cell_type": "code",
      "source": [
        "!unzip -q /content/drive/MyDrive/dataset_defonet.zip"
      ],
      "metadata": {
        "id": "eMkqMOl_fHaL"
      },
      "execution_count": null,
      "outputs": []
    },
    {
      "cell_type": "code",
      "source": [
        "!unzip -q /content/drive/MyDrive/dataset_defo.zip"
      ],
      "metadata": {
        "colab": {
          "base_uri": "https://localhost:8080/"
        },
        "id": "dM1oSn7EfJK0",
        "outputId": "fd272feb-ac3d-4130-a8f0-bf2771a5ec45"
      },
      "execution_count": null,
      "outputs": [
        {
          "output_type": "stream",
          "name": "stdout",
          "text": [
            "warning [/content/drive/MyDrive/dataset_defo.zip]:  76 extra bytes at beginning or within zipfile\n",
            "  (attempting to process anyway)\n",
            "error [/content/drive/MyDrive/dataset_defo.zip]:  reported length of central directory is\n",
            "  -76 bytes too long (Atari STZip zipfile?  J.H.Holm ZIPSPLIT 1.1\n",
            "  zipfile?).  Compensating...\n",
            "error:  expected central file header signature not found (file #97402).\n",
            "  (please check that you have transferred or created the zipfile in the\n",
            "  appropriate BINARY mode and that you have compiled UnZip properly)\n"
          ]
        }
      ]
    },
    {
      "cell_type": "code",
      "source": [
        "class ImbalancedDatasetSampler(torch.utils.data.sampler.Sampler):\n",
        "    \"\"\"Samples elements randomly from a given list of indices for imbalanced dataset\n",
        "    Arguments:\n",
        "        indices (list, optional): a list of indices\n",
        "        num_samples (int, optional): number of samples to draw\n",
        "        callback_get_label func: a callback-like function which takes two arguments - dataset and index\n",
        "    \"\"\"\n",
        "\n",
        "    def __init__(self, dataset, indices=None, num_samples=None, callback_get_label=None):\n",
        "                \n",
        "        # if indices is not provided, \n",
        "        # all elements in the dataset will be considered\n",
        "        self.indices = list(range(len(dataset)))  \\\n",
        "            if indices is None else indices\n",
        "\n",
        "        # define custom callback\n",
        "        self.callback_get_label = callback_get_label\n",
        "\n",
        "        # if num_samples is not provided, \n",
        "        # draw `len(indices)` samples in each iteration\n",
        "        self.num_samples = len(self.indices) \\\n",
        "            if num_samples is None else num_samples\n",
        "            \n",
        "        # distribution of classes in the dataset \n",
        "        label_to_count = {}\n",
        "        for idx in self.indices:\n",
        "            label = self._get_label(dataset, idx)\n",
        "            if label in label_to_count:\n",
        "                label_to_count[label] += 1\n",
        "            else:\n",
        "                label_to_count[label] = 1\n",
        "                \n",
        "        # weight for each sample\n",
        "        weights = [1.0 / label_to_count[self._get_label(dataset, idx)]\n",
        "                   for idx in self.indices]\n",
        "        self.weights = torch.DoubleTensor(weights)\n",
        "\n",
        "    def _get_label(self, dataset, idx):\n",
        "        return dataset.train_labels[idx].item()\n",
        "                \n",
        "    def __iter__(self):\n",
        "        return (self.indices[i] for i in torch.multinomial(\n",
        "            self.weights, self.num_samples, replacement=True))\n",
        "\n",
        "    def __len__(self):\n",
        "        return self.num_samples"
      ],
      "metadata": {
        "id": "0Oc9-XaDj1oJ"
      },
      "execution_count": null,
      "outputs": []
    },
    {
      "cell_type": "code",
      "source": [
        "pip install torchsampler"
      ],
      "metadata": {
        "colab": {
          "base_uri": "https://localhost:8080/"
        },
        "id": "NrJ-y2zsm4-y",
        "outputId": "7df40e37-0a8b-4d17-d8a6-1be045f4746c"
      },
      "execution_count": null,
      "outputs": [
        {
          "output_type": "stream",
          "name": "stdout",
          "text": [
            "Looking in indexes: https://pypi.org/simple, https://us-python.pkg.dev/colab-wheels/public/simple/\n",
            "Collecting torchsampler\n",
            "  Downloading torchsampler-0.1.2-py3-none-any.whl (5.6 kB)\n",
            "Requirement already satisfied: torch>=1.3 in /usr/local/lib/python3.9/dist-packages (from torchsampler) (2.0.0+cu118)\n",
            "Requirement already satisfied: torchvision>=0.5 in /usr/local/lib/python3.9/dist-packages (from torchsampler) (0.15.1+cu118)\n",
            "Requirement already satisfied: pandas in /usr/local/lib/python3.9/dist-packages (from torchsampler) (1.5.3)\n",
            "Requirement already satisfied: filelock in /usr/local/lib/python3.9/dist-packages (from torch>=1.3->torchsampler) (3.11.0)\n",
            "Requirement already satisfied: triton==2.0.0 in /usr/local/lib/python3.9/dist-packages (from torch>=1.3->torchsampler) (2.0.0)\n",
            "Requirement already satisfied: jinja2 in /usr/local/lib/python3.9/dist-packages (from torch>=1.3->torchsampler) (3.1.2)\n",
            "Requirement already satisfied: networkx in /usr/local/lib/python3.9/dist-packages (from torch>=1.3->torchsampler) (3.1)\n",
            "Requirement already satisfied: typing-extensions in /usr/local/lib/python3.9/dist-packages (from torch>=1.3->torchsampler) (4.5.0)\n",
            "Requirement already satisfied: sympy in /usr/local/lib/python3.9/dist-packages (from torch>=1.3->torchsampler) (1.11.1)\n",
            "Requirement already satisfied: lit in /usr/local/lib/python3.9/dist-packages (from triton==2.0.0->torch>=1.3->torchsampler) (16.0.1)\n",
            "Requirement already satisfied: cmake in /usr/local/lib/python3.9/dist-packages (from triton==2.0.0->torch>=1.3->torchsampler) (3.25.2)\n",
            "Requirement already satisfied: numpy in /usr/local/lib/python3.9/dist-packages (from torchvision>=0.5->torchsampler) (1.22.4)\n",
            "Requirement already satisfied: pillow!=8.3.*,>=5.3.0 in /usr/local/lib/python3.9/dist-packages (from torchvision>=0.5->torchsampler) (8.4.0)\n",
            "Requirement already satisfied: requests in /usr/local/lib/python3.9/dist-packages (from torchvision>=0.5->torchsampler) (2.27.1)\n",
            "Requirement already satisfied: python-dateutil>=2.8.1 in /usr/local/lib/python3.9/dist-packages (from pandas->torchsampler) (2.8.2)\n",
            "Requirement already satisfied: pytz>=2020.1 in /usr/local/lib/python3.9/dist-packages (from pandas->torchsampler) (2022.7.1)\n",
            "Requirement already satisfied: six>=1.5 in /usr/local/lib/python3.9/dist-packages (from python-dateutil>=2.8.1->pandas->torchsampler) (1.16.0)\n",
            "Requirement already satisfied: MarkupSafe>=2.0 in /usr/local/lib/python3.9/dist-packages (from jinja2->torch>=1.3->torchsampler) (2.1.2)\n",
            "Requirement already satisfied: idna<4,>=2.5 in /usr/local/lib/python3.9/dist-packages (from requests->torchvision>=0.5->torchsampler) (3.4)\n",
            "Requirement already satisfied: urllib3<1.27,>=1.21.1 in /usr/local/lib/python3.9/dist-packages (from requests->torchvision>=0.5->torchsampler) (1.26.15)\n",
            "Requirement already satisfied: certifi>=2017.4.17 in /usr/local/lib/python3.9/dist-packages (from requests->torchvision>=0.5->torchsampler) (2022.12.7)\n",
            "Requirement already satisfied: charset-normalizer~=2.0.0 in /usr/local/lib/python3.9/dist-packages (from requests->torchvision>=0.5->torchsampler) (2.0.12)\n",
            "Requirement already satisfied: mpmath>=0.19 in /usr/local/lib/python3.9/dist-packages (from sympy->torch>=1.3->torchsampler) (1.3.0)\n",
            "Installing collected packages: torchsampler\n",
            "Successfully installed torchsampler-0.1.2\n"
          ]
        }
      ]
    },
    {
      "cell_type": "code",
      "source": [
        "from torchsampler import ImbalancedDatasetSampler\n",
        "\n",
        "# Data augmentation and normalization for training\n",
        "# Just normalization for validation\n",
        "data_transforms = {\n",
        "    'train': transforms.Compose([\n",
        "        transforms.RandomResizedCrop(224),\n",
        "        transforms.RandomHorizontalFlip(),\n",
        "        transforms.ToTensor(),\n",
        "        transforms.Normalize([0.485, 0.456, 0.406], [0.229, 0.224, 0.225])\n",
        "    ]),\n",
        "    'test': transforms.Compose([\n",
        "        transforms.Resize(256),\n",
        "        transforms.CenterCrop(224),\n",
        "        transforms.ToTensor(),\n",
        "        transforms.Normalize([0.485, 0.456, 0.406], [0.229, 0.224, 0.225])\n",
        "    ]),\n",
        "}\n",
        "\n",
        "data_dir = '/content/dataset'\n",
        "image_datasets = {x: datasets.ImageFolder(os.path.join(data_dir, x),\n",
        "                                          data_transforms[x])\n",
        "                  for x in ['train', 'test']}\n",
        "dataloaders = {x: torch.utils.data.DataLoader(image_datasets[x],sampler=ImbalancedDatasetSampler(image_datasets[x]), batch_size=4, \n",
        "                                              num_workers=2)\n",
        "              for x in ['train', 'test']}\n",
        "dataset_sizes = {x: len(image_datasets[x]) for x in ['train', 'test']}\n",
        "class_names = image_datasets['train'].classes\n",
        "\n",
        "device = torch.device(\"cuda:0\" if torch.cuda.is_available() else \"cpu\")"
      ],
      "metadata": {
        "id": "i3S2Vmhne2oY"
      },
      "execution_count": null,
      "outputs": []
    },
    {
      "cell_type": "code",
      "source": [
        "print(device)"
      ],
      "metadata": {
        "colab": {
          "base_uri": "https://localhost:8080/"
        },
        "id": "0gHiO7T-ftM2",
        "outputId": "63b67b3d-0093-4bf9-c665-c8c4120c0e3d"
      },
      "execution_count": null,
      "outputs": [
        {
          "output_type": "stream",
          "name": "stdout",
          "text": [
            "cuda:0\n"
          ]
        }
      ]
    },
    {
      "cell_type": "markdown",
      "source": [
        "Visualize a few images\n",
        "\n",
        "\n",
        "\n",
        "Let's visualize a few training images so as to understand the data augmentations."
      ],
      "metadata": {
        "id": "XYMmU-Asf9Q7"
      }
    },
    {
      "cell_type": "code",
      "source": [
        "def imshow(inp, title=None):\n",
        "    \"\"\"Imshow for Tensor.\"\"\"\n",
        "    inp = inp.numpy().transpose((1, 2, 0))\n",
        "    mean = np.array([0.485, 0.456, 0.406])\n",
        "    std = np.array([0.229, 0.224, 0.225])\n",
        "    inp = std * inp + mean\n",
        "    inp = np.clip(inp, 0, 1)\n",
        "    plt.imshow(inp)\n",
        "    if title is not None:\n",
        "        plt.title(title)\n",
        "    plt.pause(0.001)  # pause a bit so that plots are updated\n",
        "\n",
        "\n",
        "# Get a batch of training data\n",
        "inputs, classes = next(iter(dataloaders['train']))\n",
        "\n",
        "# Make a grid from batch\n",
        "out = torchvision.utils.make_grid(inputs)\n",
        "\n",
        "imshow(out, title=[class_names[x] for x in classes])"
      ],
      "metadata": {
        "colab": {
          "base_uri": "https://localhost:8080/",
          "height": 207
        },
        "id": "0SO54AEdf7pg",
        "outputId": "a3c6063c-860a-49ca-8be6-8a2ece5179e5"
      },
      "execution_count": null,
      "outputs": [
        {
          "output_type": "display_data",
          "data": {
            "text/plain": [
              "<Figure size 640x480 with 1 Axes>"
            ],
            "image/png": "[encoded data removed]"
          },
          "metadata": {}
        }
      ]
    },
    {
      "cell_type": "markdown",
      "source": [
        "Training the model:"
      ],
      "metadata": {
        "id": "WRetKzJKicjs"
      }
    },
    {
      "cell_type": "code",
      "source": [
        "def train_model(model, criterion, optimizer, scheduler, num_epochs=25):\n",
        "    since = time.time()\n",
        "\n",
        "    best_model_wts = copy.deepcopy(model.state_dict())\n",
        "    best_acc = 0.0\n",
        "\n",
        "    for epoch in range(num_epochs):\n",
        "        print(f'Epoch {epoch}/{num_epochs - 1}')\n",
        "        print('-' * 10)\n",
        "\n",
        "        # Each epoch has a training and validation phase\n",
        "        for phase in ['train', 'test']:\n",
        "            if phase == 'train':\n",
        "                model.train()  # Set model to training mode\n",
        "            else:\n",
        "                model.eval()   # Set model to evaluate mode\n",
        "\n",
        "            running_loss = 0.0\n",
        "            running_corrects = 0\n",
        "\n",
        "            # Iterate over data.\n",
        "            for inputs, labels in dataloaders[phase]:\n",
        "                inputs = inputs.to(device)\n",
        "                labels = labels.to(device)\n",
        "\n",
        "                # zero the parameter gradients\n",
        "                optimizer.zero_grad()\n",
        "\n",
        "                # forward\n",
        "                # track history if only in train\n",
        "                with torch.set_grad_enabled(phase == 'train'):\n",
        "                    outputs = model(inputs)\n",
        "                    _, preds = torch.max(outputs, 1)\n",
        "                    loss = criterion(outputs, labels)\n",
        "\n",
        "                    # backward + optimize only if in training phase\n",
        "                    if phase == 'train':\n",
        "                        loss.backward()\n",
        "                        optimizer.step()\n",
        "\n",
        "                # statistics\n",
        "                running_loss += loss.item() * inputs.size(0)\n",
        "                running_corrects += torch.sum(preds == labels.data)\n",
        "            if phase == 'train':\n",
        "                scheduler.step()\n",
        "\n",
        "            epoch_loss = running_loss / dataset_sizes[phase]\n",
        "            epoch_acc = running_corrects.double() / dataset_sizes[phase]\n",
        "\n",
        "            print(f'{phase} Loss: {epoch_loss:.4f} Acc: {epoch_acc:.4f}')\n",
        "\n",
        "            # deep copy the model\n",
        "            if phase == 'test' and epoch_acc > best_acc:\n",
        "                best_acc = epoch_acc\n",
        "                best_model_wts = copy.deepcopy(model.state_dict())\n",
        "\n",
        "        print()\n",
        "\n",
        "    time_elapsed = time.time() - since\n",
        "    print(f'Training complete in {time_elapsed // 60:.0f}m {time_elapsed % 60:.0f}s')\n",
        "    print(f'Best val Acc: {best_acc:4f}')\n",
        "\n",
        "    # load best model weights\n",
        "    model.load_state_dict(best_model_wts)\n",
        "    return model"
      ],
      "metadata": {
        "id": "8OaT-HRUf2GP"
      },
      "execution_count": null,
      "outputs": []
    },
    {
      "cell_type": "code",
      "source": [
        "model_conv = torchvision.models.resnet18(pretrained=True)\n",
        "for param in model_conv.parameters():\n",
        "    param.requires_grad = False\n",
        "\n",
        "# Parameters of newly constructed modules have requires_grad=True by default\n",
        "num_ftrs = model_conv.fc.in_features\n",
        "model_conv.fc = nn.Linear(num_ftrs, 2)\n",
        "\n",
        "model_conv = model_conv.to(device)\n",
        "\n",
        "criterion = nn.CrossEntropyLoss()\n",
        "\n",
        "# Observe that only parameters of final layer are being optimized as\n",
        "# opposed to before.\n",
        "optimizer_conv = optim.SGD(model_conv.fc.parameters(), lr=0.001, momentum=0.9)\n",
        "\n",
        "# Decay LR by a factor of 0.1 every 2 epochs\n",
        "exp_lr_scheduler = lr_scheduler.StepLR(optimizer_conv, step_size=2, gamma=0.1)"
      ],
      "metadata": {
        "colab": {
          "base_uri": "https://localhost:8080/"
        },
        "id": "YkrEWfiqjAI5",
        "outputId": "a8f8234c-a9b4-4ec8-993f-ee2935c4e204"
      },
      "execution_count": null,
      "outputs": [
        {
          "output_type": "stream",
          "name": "stderr",
          "text": [
            "/usr/local/lib/python3.9/dist-packages/torchvision/models/_utils.py:208: UserWarning: The parameter 'pretrained' is deprecated since 0.13 and may be removed in the future, please use 'weights' instead.\n",
            "  warnings.warn(\n",
            "/usr/local/lib/python3.9/dist-packages/torchvision/models/_utils.py:223: UserWarning: Arguments other than a weight enum or `None` for 'weights' are deprecated since 0.13 and may be removed in the future. The current behavior is equivalent to passing `weights=ResNet18_Weights.IMAGENET1K_V1`. You can also use `weights=ResNet18_Weights.DEFAULT` to get the most up-to-date weights.\n",
            "  warnings.warn(msg)\n",
            "Downloading: \"https://download.pytorch.org/models/resnet18-f37072fd.pth\" to /root/.cache/torch/hub/checkpoints/resnet18-f37072fd.pth\n",
            "100%|██████████| 44.7M/44.7M [00:01<00:00, 40.9MB/s]\n"
          ]
        }
      ]
    },
    {
      "cell_type": "code",
      "source": [
        "model_conv = train_model(model_conv, criterion, optimizer_conv,\n",
        "                         exp_lr_scheduler, num_epochs=6)"
      ],
      "metadata": {
        "colab": {
          "base_uri": "https://localhost:8080/"
        },
        "id": "5vL8ay5ajL4F",
        "outputId": "c753c3d2-cbb5-45c1-a7ec-e0c3956dfe7f"
      },
      "execution_count": null,
      "outputs": [
        {
          "output_type": "stream",
          "name": "stdout",
          "text": [
            "Epoch 0/5\n",
            "----------\n",
            "train Loss: 0.7767 Acc: 0.6416\n",
            "test Loss: 0.6025 Acc: 0.7267\n",
            "\n",
            "Epoch 1/5\n",
            "----------\n",
            "train Loss: 0.7656 Acc: 0.6413\n",
            "test Loss: 0.5395 Acc: 0.7366\n",
            "\n",
            "Epoch 2/5\n",
            "----------\n",
            "train Loss: 0.5919 Acc: 0.6823\n",
            "test Loss: 0.5359 Acc: 0.7189\n",
            "\n",
            "Epoch 3/5\n",
            "----------\n",
            "train Loss: 0.5873 Acc: 0.6803\n",
            "test Loss: 0.4977 Acc: 0.7527\n",
            "\n",
            "Epoch 4/5\n",
            "----------\n",
            "train Loss: 0.5707 Acc: 0.6891\n",
            "test Loss: 0.5094 Acc: 0.7360\n",
            "\n",
            "Epoch 5/5\n",
            "----------\n",
            "train Loss: 0.5711 Acc: 0.6912\n",
            "test Loss: 0.4928 Acc: 0.7506\n",
            "\n",
            "Training complete in 40m 16s\n",
            "Best val Acc: 0.752668\n"
          ]
        }
      ]
    },
    {
      "cell_type": "code",
      "source": [
        "model_conv.class_to_idx = dataloaders['train'].dataset.class_to_idx\n",
        "model_conv.epochs = 20\n",
        "checkpoint = {'input_size': [3, 224, 224],\n",
        "                 'batch_size': dataloaders['train'].batch_size,\n",
        "                  'output_size': 2,\n",
        "                  'state_dict': model_conv.state_dict(),\n",
        "                  'data_transforms': data_transforms,\n",
        "                  'optimizer_dict':optimizer_conv.state_dict(),\n",
        "                  'class_to_idx': model_conv.class_to_idx,\n",
        "                  'epoch': model_conv.epochs}\n",
        "torch.save(checkpoint, '/content/drive/MyDrive/Saved Models/soyabean_resnet18_20_withIDS.pth')"
      ],
      "metadata": {
        "id": "sYiCg9Gvjdh9"
      },
      "execution_count": null,
      "outputs": []
    },
    {
      "cell_type": "code",
      "source": [
        "loaded_checkpoint = torch.load('/content/drive/MyDrive/Saved Models/soyabean_resnet18_6_withIDS.pth')\n",
        "model_conv.load_state_dict(loaded_checkpoint['state_dict'])\n",
        "optimizer_conv.load_state_dict(loaded_checkpoint['optimizer_dict'])"
      ],
      "metadata": {
        "id": "tO0CtpakweSt"
      },
      "execution_count": null,
      "outputs": []
    },
    {
      "cell_type": "code",
      "source": [
        "#7-20 epochs\n",
        "model_conv = train_model(model_conv, criterion, optimizer_conv,\n",
        "                         exp_lr_scheduler, num_epochs=14)"
      ],
      "metadata": {
        "id": "TuiBwVDEtwVc",
        "colab": {
          "base_uri": "https://localhost:8080/"
        },
        "outputId": "f8b2ec45-1020-4de1-dd1f-633f6c3bc6bf"
      },
      "execution_count": null,
      "outputs": [
        {
          "output_type": "stream",
          "name": "stdout",
          "text": [
            "Epoch 0/13\n",
            "----------\n",
            "train Loss: 0.5708 Acc: 0.6878\n",
            "test Loss: 0.4951 Acc: 0.7510\n",
            "\n",
            "Epoch 1/13\n",
            "----------\n",
            "train Loss: 0.5742 Acc: 0.6889\n",
            "test Loss: 0.4868 Acc: 0.7584\n",
            "\n",
            "Epoch 2/13\n",
            "----------\n",
            "train Loss: 0.5715 Acc: 0.6907\n",
            "test Loss: 0.5005 Acc: 0.7454\n",
            "\n",
            "Epoch 3/13\n",
            "----------\n",
            "train Loss: 0.5674 Acc: 0.6928\n",
            "test Loss: 0.5027 Acc: 0.7497\n",
            "\n",
            "Epoch 4/13\n",
            "----------\n",
            "train Loss: 0.5722 Acc: 0.6889\n",
            "test Loss: 0.4891 Acc: 0.7560\n",
            "\n",
            "Epoch 5/13\n",
            "----------\n",
            "train Loss: 0.5701 Acc: 0.6901\n",
            "test Loss: 0.4905 Acc: 0.7569\n",
            "\n",
            "Epoch 6/13\n",
            "----------\n",
            "train Loss: 0.5690 Acc: 0.6897\n",
            "test Loss: 0.4981 Acc: 0.7531\n",
            "\n",
            "Epoch 7/13\n",
            "----------\n",
            "train Loss: 0.5705 Acc: 0.6912\n",
            "test Loss: 0.4948 Acc: 0.7501\n",
            "\n",
            "Epoch 8/13\n",
            "----------\n",
            "train Loss: 0.5672 Acc: 0.6927\n",
            "test Loss: 0.5148 Acc: 0.7301\n",
            "\n",
            "Epoch 9/13\n",
            "----------\n",
            "train Loss: 0.5713 Acc: 0.6889\n",
            "test Loss: 0.4784 Acc: 0.7636\n",
            "\n",
            "Epoch 10/13\n",
            "----------\n",
            "train Loss: 0.5696 Acc: 0.6907\n",
            "test Loss: 0.4961 Acc: 0.7513\n",
            "\n",
            "Epoch 11/13\n",
            "----------\n",
            "train Loss: 0.5726 Acc: 0.6870\n",
            "test Loss: 0.4844 Acc: 0.7564\n",
            "\n",
            "Epoch 12/13\n",
            "----------\n",
            "train Loss: 0.5684 Acc: 0.6909\n",
            "test Loss: 0.4928 Acc: 0.7535\n",
            "\n",
            "Epoch 13/13\n",
            "----------\n",
            "train Loss: 0.5674 Acc: 0.6940\n",
            "test Loss: 0.4936 Acc: 0.7427\n",
            "\n",
            "Training complete in 73m 25s\n",
            "Best val Acc: 0.763635\n"
          ]
        }
      ]
    },
    {
      "cell_type": "code",
      "source": [
        "#13-20 epochs\n"
      ],
      "metadata": {
        "id": "FYS9Md3Q5ylU"
      },
      "execution_count": null,
      "outputs": []
    },
    {
      "cell_type": "code",
      "source": [
        "model_ft = models.resnet18(pretrained=True)\n",
        "num_ftrs = model_ft.fc.in_features\n",
        "# Here the size of each output sample is set to 2.\n",
        "# Alternatively, it can be generalized to nn.Linear(num_ftrs, len(class_names)).\n",
        "model_ft.fc = nn.Linear(num_ftrs, 2)\n",
        "\n",
        "model_ft = model_ft.to(device)"
      ],
      "metadata": {
        "id": "gn9BIisF5hmO"
      },
      "execution_count": null,
      "outputs": []
    },
    {
      "cell_type": "code",
      "source": [
        "criterion = nn.CrossEntropyLoss()\n",
        "\n",
        "optimizer_ft = optim.SGD(model_ft.parameters(), lr=0.001, momentum=0.9)\n",
        "\n",
        "# Decay LR by a factor of 0.1 every 7 epochs\n",
        "exp_lr_scheduler = lr_scheduler.StepLR(optimizer_ft, step_size=2, gamma=0.05)\n"
      ],
      "metadata": {
        "id": "lAo5qlPfDu7P"
      },
      "execution_count": null,
      "outputs": []
    },
    {
      "cell_type": "code",
      "source": [
        "loaded_checkpoint = torch.load('/content/drive/MyDrive/Saved Models/soyabean_resnet18_ft_6_withIDS.pth')\n",
        "model_ft.load_state_dict(loaded_checkpoint['state_dict'])\n",
        "optimizer_ft.load_state_dict(loaded_checkpoint['optimizer_dict'])"
      ],
      "metadata": {
        "id": "ibyBuLP8W-zv"
      },
      "execution_count": null,
      "outputs": []
    },
    {
      "cell_type": "code",
      "source": [
        "model_ft = train_model(model_ft, criterion, optimizer_ft, exp_lr_scheduler,\n",
        "                       num_epochs=8)"
      ],
      "metadata": {
        "colab": {
          "base_uri": "https://localhost:8080/"
        },
        "id": "gUJAoF5JDguI",
        "outputId": "6296d7fa-9e66-4069-dc72-bcb0a6c4cae6"
      },
      "execution_count": null,
      "outputs": [
        {
          "output_type": "stream",
          "name": "stdout",
          "text": [
            "Epoch 0/7\n",
            "----------\n",
            "train Loss: 0.3713 Acc: 0.8087\n",
            "test Loss: 0.3277 Acc: 0.8493\n",
            "\n",
            "Epoch 1/7\n",
            "----------\n",
            "train Loss: 0.3743 Acc: 0.8068\n",
            "test Loss: 0.3111 Acc: 0.8528\n",
            "\n",
            "Epoch 2/7\n",
            "----------\n",
            "train Loss: 0.3713 Acc: 0.8115\n",
            "test Loss: 0.3211 Acc: 0.8588\n",
            "\n",
            "Epoch 3/7\n",
            "----------\n",
            "train Loss: 0.3698 Acc: 0.8113\n",
            "test Loss: 0.3056 Acc: 0.8623\n",
            "\n",
            "Epoch 4/7\n",
            "----------\n",
            "train Loss: 0.3714 Acc: 0.8096\n",
            "test Loss: 0.3141 Acc: 0.8576\n",
            "\n",
            "Epoch 5/7\n",
            "----------\n",
            "train Loss: 0.3719 Acc: 0.8089\n",
            "test Loss: 0.3191 Acc: 0.8556\n",
            "\n",
            "Epoch 6/7\n",
            "----------\n",
            "train Loss: 0.3722 Acc: 0.8084\n",
            "test Loss: 0.3112 Acc: 0.8583\n",
            "\n",
            "Epoch 7/7\n",
            "----------\n",
            "train Loss: 0.3716 Acc: 0.8103\n",
            "test Loss: 0.3197 Acc: 0.8573\n",
            "\n",
            "Training complete in 78m 45s\n",
            "Best val Acc: 0.862332\n"
          ]
        }
      ]
    },
    {
      "cell_type": "code",
      "source": [
        "#9-20 epochs\n",
        "model_ft = train_model(model_ft, criterion, optimizer_ft, exp_lr_scheduler,\n",
        "                       num_epochs=12)"
      ],
      "metadata": {
        "colab": {
          "base_uri": "https://localhost:8080/"
        },
        "id": "OzOyMRPLN6l7",
        "outputId": "1123b449-6e00-4b1a-c7d6-9018560c68f0"
      },
      "execution_count": null,
      "outputs": [
        {
          "output_type": "stream",
          "name": "stdout",
          "text": [
            "Epoch 0/11\n",
            "----------\n",
            "train Loss: 0.3694 Acc: 0.8104\n",
            "test Loss: 0.3261 Acc: 0.8538\n",
            "\n",
            "Epoch 1/11\n",
            "----------\n",
            "train Loss: 0.3709 Acc: 0.8109\n",
            "test Loss: 0.3182 Acc: 0.8610\n",
            "\n",
            "Epoch 2/11\n",
            "----------\n",
            "train Loss: 0.3724 Acc: 0.8096\n",
            "test Loss: 0.3115 Acc: 0.8610\n",
            "\n",
            "Epoch 3/11\n",
            "----------\n",
            "train Loss: 0.3718 Acc: 0.8088\n",
            "test Loss: 0.3161 Acc: 0.8625\n",
            "\n",
            "Epoch 4/11\n",
            "----------\n",
            "train Loss: 0.3727 Acc: 0.8087\n",
            "test Loss: 0.3185 Acc: 0.8534\n",
            "\n",
            "Epoch 5/11\n",
            "----------\n",
            "train Loss: 0.3681 Acc: 0.8126\n",
            "test Loss: 0.3146 Acc: 0.8541\n",
            "\n",
            "Epoch 6/11\n",
            "----------\n",
            "train Loss: 0.3682 Acc: 0.8117\n",
            "test Loss: 0.3012 Acc: 0.8670\n",
            "\n",
            "Epoch 7/11\n",
            "----------\n",
            "train Loss: 0.3722 Acc: 0.8083\n",
            "test Loss: 0.3212 Acc: 0.8558\n",
            "\n",
            "Epoch 8/11\n",
            "----------\n",
            "train Loss: 0.3708 Acc: 0.8100\n",
            "test Loss: 0.3177 Acc: 0.8533\n",
            "\n",
            "Epoch 9/11\n",
            "----------\n",
            "train Loss: 0.3725 Acc: 0.8096\n",
            "test Loss: 0.3136 Acc: 0.8539\n",
            "\n",
            "Epoch 10/11\n",
            "----------\n",
            "train Loss: 0.3693 Acc: 0.8122\n",
            "test Loss: 0.3172 Acc: 0.8509\n",
            "\n",
            "Epoch 11/11\n",
            "----------\n",
            "train Loss: 0.3730 Acc: 0.8077\n",
            "test Loss: 0.3209 Acc: 0.8548\n",
            "\n",
            "Training complete in 108m 21s\n",
            "Best val Acc: 0.867032\n"
          ]
        }
      ]
    },
    {
      "cell_type": "code",
      "source": [
        "model_ft.class_to_idx = dataloaders['train'].dataset.class_to_idx\n",
        "model_ft.epochs = 20\n",
        "checkpoint = {'input_size': [3, 224, 224],\n",
        "                 'batch_size': dataloaders['train'].batch_size,\n",
        "                  'output_size': 2,\n",
        "                  'state_dict': model_ft.state_dict(),\n",
        "                  'data_transforms': data_transforms,\n",
        "                  'optimizer_dict':optimizer_ft.state_dict(),\n",
        "                  'class_to_idx': model_ft.class_to_idx,\n",
        "                  'epoch': model_ft.epochs}\n",
        "torch.save(checkpoint, '/content/drive/MyDrive/Saved Models/soyabean_resnet18_ft_20_withIDS.pth')"
      ],
      "metadata": {
        "id": "CqvA1vzCD2WF"
      },
      "execution_count": null,
      "outputs": []
    },
    {
      "cell_type": "code",
      "source": [
        "#Testing\n",
        "from torch.autograd import Variable\n",
        "\n",
        "def test(model, dataloaders, device):\n",
        "    model.eval()\n",
        "    accuracy = 0\n",
        "      \n",
        "    preds = []\n",
        "    actual = []\n",
        "    for images, labels in dataloaders['test']:\n",
        "        images = Variable(images)\n",
        "        labels = Variable(labels)\n",
        "        images, labels = images.to(device), labels.to(device)\n",
        "          \n",
        "        output = model.forward(images)\n",
        "        ps = torch.exp(output)\n",
        "        preds.append(np.array(ps.max(1)[1].cpu()))\n",
        "        actual.append(np.array(labels.data.cpu()))\n",
        "        equality = (labels.data == ps.max(1)[1])\n",
        "        accuracy += equality.type_as(torch.FloatTensor()).mean()\n",
        "\n",
        "    preds = np.array(preds, dtype=object)\n",
        "    actual = np.array(actual, dtype=object)\n",
        "    print(\"Testing Accuracy: {:.3f}\".format(accuracy/len(dataloaders['test'])))\n",
        "    return np.concatenate(preds), np.concatenate(actual)"
      ],
      "metadata": {
        "id": "Wk-x9NNHTys2"
      },
      "execution_count": null,
      "outputs": []
    },
    {
      "cell_type": "code",
      "source": [
        "preds, actual = test(model_ft, dataloaders, device)\n",
        "preds #thisis for half data"
      ],
      "metadata": {
        "colab": {
          "base_uri": "https://localhost:8080/"
        },
        "id": "Ra1zGFG9XHv9",
        "outputId": "582098ea-960b-446f-cc2b-a37040d5317d"
      },
      "execution_count": null,
      "outputs": [
        {
          "output_type": "stream",
          "name": "stdout",
          "text": [
            "Testing Accuracy: 0.868\n"
          ]
        },
        {
          "output_type": "execute_result",
          "data": {
            "text/plain": [
              "array([1, 1, 1, ..., 1, 0, 1])"
            ]
          },
          "metadata": {},
          "execution_count": 19
        }
      ]
    },
    {
      "cell_type": "code",
      "source": [
        "preds_conv, actual_conv = test(model_conv, dataloaders, device)\n",
        "preds_conv"
      ],
      "metadata": {
        "colab": {
          "base_uri": "https://localhost:8080/"
        },
        "id": "VOzMlifpXMSh",
        "outputId": "bfa5db07-840a-4ba4-f334-053de8416ac7"
      },
      "execution_count": null,
      "outputs": [
        {
          "output_type": "stream",
          "name": "stdout",
          "text": [
            "Testing Accuracy: 0.754\n"
          ]
        },
        {
          "output_type": "execute_result",
          "data": {
            "text/plain": [
              "array([0, 0, 0, ..., 1, 1, 0])"
            ]
          },
          "metadata": {},
          "execution_count": 20
        }
      ]
    },
    {
      "cell_type": "code",
      "source": [
        "from sklearn.metrics import confusion_matrix\n",
        "import pandas as pd\n",
        "import seaborn as sns\n",
        "\n",
        "\n",
        "cm = confusion_matrix(preds, actual, normalize='true')\n",
        "df_cm = pd.DataFrame(cm, index = ['Healthy', 'Defoliated'], \n",
        "                     columns = ['Healthy', 'Defoliated'])\n",
        "\n",
        "plt.figure(figsize=(5, 5))\n",
        "s = sns.heatmap(df_cm, annot=True, cmap=\"Blues\", \n",
        "            annot_kws={\n",
        "                'fontsize': 14\n",
        "            })\n",
        "s.set(xlabel='Predicted Labels', ylabel='Actual Labels')"
      ],
      "metadata": {
        "colab": {
          "base_uri": "https://localhost:8080/",
          "height": 500
        },
        "id": "bCfkY8BhXhNp",
        "outputId": "5f82510c-4523-4293-9760-a02860d63088"
      },
      "execution_count": null,
      "outputs": [
        {
          "output_type": "execute_result",
          "data": {
            "text/plain": [
              "[Text(0.5, 25.722222222222214, 'Predicted Labels'),\n",
              " Text(33.222222222222214, 0.5, 'Actual Labels')]"
            ]
          },
          "metadata": {},
          "execution_count": 21
        },
        {
          "output_type": "display_data",
          "data": {
            "text/plain": [
              "<Figure size 500x500 with 2 Axes>"
            ],
            "image/png": "[encoded data removed]"
          },
          "metadata": {}
        }
      ]
    },
    {
      "cell_type": "code",
      "source": [
        "#For fine tuned on conv net only\n",
        "cm = confusion_matrix(preds_conv, actual_conv, normalize='true')\n",
        "df_cm = pd.DataFrame(cm, index = ['Healthy', 'Defoliated'], \n",
        "                     columns = ['Healthy', 'Defoliated'])\n",
        "\n",
        "plt.figure(figsize=(5, 5))\n",
        "s = sns.heatmap(df_cm, annot=True, cmap=\"Blues\", \n",
        "            annot_kws={\n",
        "                'fontsize': 14\n",
        "            })\n",
        "s.set(xlabel='Predicted Labels', ylabel='Actual Labels')"
      ],
      "metadata": {
        "colab": {
          "base_uri": "https://localhost:8080/",
          "height": 500
        },
        "id": "BV4zwU8qX8nE",
        "outputId": "5eaa950b-d957-477d-80ce-9cff121d0d85"
      },
      "execution_count": null,
      "outputs": [
        {
          "output_type": "execute_result",
          "data": {
            "text/plain": [
              "[Text(0.5, 25.722222222222214, 'Predicted Labels'),\n",
              " Text(33.222222222222214, 0.5, 'Actual Labels')]"
            ]
          },
          "metadata": {},
          "execution_count": 22
        },
        {
          "output_type": "display_data",
          "data": {
            "text/plain": [
              "<Figure size 500x500 with 2 Axes>"
            ],
            "image/png": "[encoded data removed]"
          },
          "metadata": {}
        }
      ]
    },
    {
      "cell_type": "code",
      "source": [
        "#For fully trained\n",
        "from sklearn.metrics import accuracy_score, f1_score, precision_score, recall_score\n",
        "\n",
        "print(f1_score(actual, preds, average=\"binary\"))\n",
        "print(precision_score(actual, preds, average=\"binary\"))\n",
        "print(recall_score(actual, preds, average=\"binary\"))  "
      ],
      "metadata": {
        "colab": {
          "base_uri": "https://localhost:8080/"
        },
        "id": "XeIYqvtCYYd3",
        "outputId": "7ed5f991-67fb-467e-b0fb-50a2067fb386"
      },
      "execution_count": null,
      "outputs": [
        {
          "output_type": "stream",
          "name": "stdout",
          "text": [
            "0.8714977680691424\n",
            "0.8537402307406029\n",
            "0.8900096993210476\n"
          ]
        }
      ]
    },
    {
      "cell_type": "code",
      "source": [
        "#Fine tuning on conv net\n",
        "\n",
        "print(f1_score(actual_conv, preds_conv, average=\"binary\"))\n",
        "print(precision_score(actual_conv, preds_conv, average=\"binary\"))\n",
        "print(recall_score(actual_conv, preds_conv, average=\"binary\"))  "
      ],
      "metadata": {
        "colab": {
          "base_uri": "https://localhost:8080/"
        },
        "id": "qRXvsPZKYafe",
        "outputId": "2505fab2-9ddd-4938-bd45-a952a4076e20"
      },
      "execution_count": null,
      "outputs": [
        {
          "output_type": "stream",
          "name": "stdout",
          "text": [
            "0.7631082610335722\n",
            "0.7237924865831843\n",
            "0.8069405664140407\n"
          ]
        }
      ]
    },
    {
      "cell_type": "markdown",
      "source": [
        "####Using HALF DATASET"
      ],
      "metadata": {
        "id": "iKXrveXPGAXj"
      }
    },
    {
      "cell_type": "code",
      "source": [
        "from torchsampler import ImbalancedDatasetSampler\n",
        "\n",
        "# Data augmentation and normalization for training\n",
        "# Just normalization for validation\n",
        "data_transforms = {\n",
        "    'train': transforms.Compose([\n",
        "        transforms.RandomResizedCrop(224),\n",
        "        transforms.RandomHorizontalFlip(),\n",
        "        transforms.ToTensor(),\n",
        "        transforms.Normalize([0.485, 0.456, 0.406], [0.229, 0.224, 0.225])\n",
        "    ]),\n",
        "    'test': transforms.Compose([\n",
        "        transforms.Resize(256),\n",
        "        transforms.CenterCrop(224),\n",
        "        transforms.ToTensor(),\n",
        "        transforms.Normalize([0.485, 0.456, 0.406], [0.229, 0.224, 0.225])\n",
        "    ]),\n",
        "}\n",
        "\n",
        "data_dir = '/content/defo_dataset_half'\n",
        "image_datasets = {x: datasets.ImageFolder(os.path.join(data_dir, x),\n",
        "                                          data_transforms[x])\n",
        "                  for x in ['train', 'test']}\n",
        "dataloaders = {x: torch.utils.data.DataLoader(image_datasets[x],sampler=ImbalancedDatasetSampler(image_datasets[x]), batch_size=4, \n",
        "                                              num_workers=2)\n",
        "              for x in ['train', 'test']}\n",
        "dataset_sizes = {x: len(image_datasets[x]) for x in ['train', 'test']}\n",
        "class_names = image_datasets['train'].classes\n",
        "\n",
        "device = torch.device(\"cuda:0\" if torch.cuda.is_available() else \"cpu\")"
      ],
      "metadata": {
        "id": "YUQASnYSGADB"
      },
      "execution_count": null,
      "outputs": []
    },
    {
      "cell_type": "code",
      "source": [
        "def train_model(model, criterion, optimizer, scheduler, num_epochs=25):\n",
        "    since = time.time()\n",
        "\n",
        "    best_model_wts = copy.deepcopy(model.state_dict())\n",
        "    best_acc = 0.0\n",
        "\n",
        "    for epoch in range(num_epochs):\n",
        "        print(f'Epoch {epoch}/{num_epochs - 1}')\n",
        "        print('-' * 10)\n",
        "\n",
        "        # Each epoch has a training and validation phase\n",
        "        for phase in ['train', 'test']:\n",
        "            if phase == 'train':\n",
        "                model.train()  # Set model to training mode\n",
        "            else:\n",
        "                model.eval()   # Set model to evaluate mode\n",
        "\n",
        "            running_loss = 0.0\n",
        "            running_corrects = 0\n",
        "\n",
        "            # Iterate over data.\n",
        "            for inputs, labels in dataloaders[phase]:\n",
        "                inputs = inputs.to(device)\n",
        "                labels = labels.to(device)\n",
        "\n",
        "                # zero the parameter gradients\n",
        "                optimizer.zero_grad()\n",
        "\n",
        "                # forward\n",
        "                # track history if only in train\n",
        "                with torch.set_grad_enabled(phase == 'train'):\n",
        "                    outputs = model(inputs)\n",
        "                    _, preds = torch.max(outputs, 1)\n",
        "                    loss = criterion(outputs, labels)\n",
        "\n",
        "                    # backward + optimize only if in training phase\n",
        "                    if phase == 'train':\n",
        "                        loss.backward()\n",
        "                        optimizer.step()\n",
        "\n",
        "                # statistics\n",
        "                running_loss += loss.item() * inputs.size(0)\n",
        "                running_corrects += torch.sum(preds == labels.data)\n",
        "            if phase == 'train':\n",
        "                scheduler.step()\n",
        "\n",
        "            epoch_loss = running_loss / dataset_sizes[phase]\n",
        "            epoch_acc = running_corrects.double() / dataset_sizes[phase]\n",
        "\n",
        "            print(f'{phase} Loss: {epoch_loss:.4f} Acc: {epoch_acc:.4f}')\n",
        "\n",
        "            # deep copy the model\n",
        "            if phase == 'test' and epoch_acc > best_acc:\n",
        "                best_acc = epoch_acc\n",
        "                best_model_wts = copy.deepcopy(model.state_dict())\n",
        "\n",
        "        print()\n",
        "\n",
        "    time_elapsed = time.time() - since\n",
        "    print(f'Training complete in {time_elapsed // 60:.0f}m {time_elapsed % 60:.0f}s')\n",
        "    print(f'Best val Acc: {best_acc:4f}')\n",
        "\n",
        "    # load best model weights\n",
        "    model.load_state_dict(best_model_wts)\n",
        "    return model"
      ],
      "metadata": {
        "id": "dLdvw2wnX4y4"
      },
      "execution_count": null,
      "outputs": []
    },
    {
      "cell_type": "code",
      "source": [
        "model_ft = models.resnet18(pretrained=True)\n",
        "num_ftrs = model_ft.fc.in_features\n",
        "# Here the size of each output sample is set to 2.\n",
        "# Alternatively, it can be generalized to nn.Linear(num_ftrs, len(class_names)).\n",
        "model_ft.fc = nn.Linear(num_ftrs, 2)\n",
        "\n",
        "model_ft = model_ft.to(device)\n",
        "criterion = nn.CrossEntropyLoss()\n",
        "\n",
        "optimizer_ft = optim.SGD(model_ft.parameters(), lr=0.001, momentum=0.9)\n",
        "\n",
        "# Decay LR by a factor of 0.1 every 7 epochs\n",
        "exp_lr_scheduler = lr_scheduler.StepLR(optimizer_ft, step_size=2, gamma=0.05)\n"
      ],
      "metadata": {
        "colab": {
          "base_uri": "https://localhost:8080/"
        },
        "id": "1qAxRcvjOUr8",
        "outputId": "4d28d113-d83c-406c-fb28-e3efd4fbbed1"
      },
      "execution_count": null,
      "outputs": [
        {
          "output_type": "stream",
          "name": "stderr",
          "text": [
            "/usr/local/lib/python3.9/dist-packages/torchvision/models/_utils.py:208: UserWarning: The parameter 'pretrained' is deprecated since 0.13 and may be removed in the future, please use 'weights' instead.\n",
            "  warnings.warn(\n",
            "/usr/local/lib/python3.9/dist-packages/torchvision/models/_utils.py:223: UserWarning: Arguments other than a weight enum or `None` for 'weights' are deprecated since 0.13 and may be removed in the future. The current behavior is equivalent to passing `weights=ResNet18_Weights.IMAGENET1K_V1`. You can also use `weights=ResNet18_Weights.DEFAULT` to get the most up-to-date weights.\n",
            "  warnings.warn(msg)\n",
            "Downloading: \"https://download.pytorch.org/models/resnet18-f37072fd.pth\" to /root/.cache/torch/hub/checkpoints/resnet18-f37072fd.pth\n",
            "100%|██████████| 44.7M/44.7M [00:00<00:00, 301MB/s]\n"
          ]
        }
      ]
    },
    {
      "cell_type": "code",
      "source": [
        "model_ft = train_model(model_ft, criterion, optimizer_ft, exp_lr_scheduler,\n",
        "                       num_epochs=6)\n"
      ],
      "metadata": {
        "colab": {
          "base_uri": "https://localhost:8080/"
        },
        "id": "jonsBZ9wOrcr",
        "outputId": "8fcb7800-e506-4aa0-b163-a3b5257b61b8"
      },
      "execution_count": null,
      "outputs": [
        {
          "output_type": "stream",
          "name": "stdout",
          "text": [
            "Epoch 0/5\n",
            "----------\n",
            "train Loss: 0.4708 Acc: 0.7783\n",
            "test Loss: 0.4037 Acc: 0.7957\n",
            "\n",
            "Epoch 1/5\n",
            "----------\n",
            "train Loss: 0.3311 Acc: 0.8459\n",
            "test Loss: 0.4115 Acc: 0.8020\n",
            "\n",
            "Epoch 2/5\n",
            "----------\n",
            "train Loss: 0.2747 Acc: 0.8716\n",
            "test Loss: 0.4392 Acc: 0.7969\n",
            "\n",
            "Epoch 3/5\n",
            "----------\n",
            "train Loss: 0.2676 Acc: 0.8742\n",
            "test Loss: 0.4133 Acc: 0.7998\n",
            "\n",
            "Epoch 4/5\n",
            "----------\n",
            "train Loss: 0.2663 Acc: 0.8755\n",
            "test Loss: 0.4249 Acc: 0.8071\n",
            "\n",
            "Epoch 5/5\n",
            "----------\n",
            "train Loss: 0.2641 Acc: 0.8772\n",
            "test Loss: 0.4158 Acc: 0.8094\n",
            "\n",
            "Training complete in 28m 30s\n",
            "Best val Acc: 0.809361\n"
          ]
        }
      ]
    },
    {
      "cell_type": "code",
      "source": [
        "model_ft.class_to_idx = dataloaders['train'].dataset.class_to_idx\n",
        "model_ft.epochs = 6\n",
        "checkpoint = {'input_size': [3, 224, 224],\n",
        "                 'batch_size': dataloaders['train'].batch_size,\n",
        "                  'output_size': 2,\n",
        "                  'state_dict': model_ft.state_dict(),\n",
        "                  'data_transforms': data_transforms,\n",
        "                  'optimizer_dict':optimizer_ft.state_dict(),\n",
        "                  'class_to_idx': model_ft.class_to_idx,\n",
        "                  'epoch': model_ft.epochs}\n",
        "torch.save(checkpoint, '/content/drive/MyDrive/Saved Models/soyabean_resnet18_ft_6_withHalfData.pth')"
      ],
      "metadata": {
        "id": "lDUQN2MrOtVD"
      },
      "execution_count": null,
      "outputs": []
    },
    {
      "cell_type": "code",
      "source": [
        "#For fully trained\n",
        "from sklearn.metrics import accuracy_score, f1_score, precision_score, recall_score\n",
        "\n",
        "print(f1_score(actual, preds, average=\"binary\"))\n",
        "print(precision_score(actual, preds, average=\"binary\"))\n",
        "print(recall_score(actual, preds, average=\"binary\"))  "
      ],
      "metadata": {
        "colab": {
          "base_uri": "https://localhost:8080/"
        },
        "id": "CMlG2y7gO0ES",
        "outputId": "6dbe6b97-d66f-4a8b-c58c-fb097e92d215"
      },
      "execution_count": null,
      "outputs": [
        {
          "output_type": "stream",
          "name": "stdout",
          "text": [
            "0.8184124001878815\n",
            "0.7867076033953404\n",
            "0.8527799530148786\n"
          ]
        }
      ]
    },
    {
      "cell_type": "markdown",
      "source": [
        "Without pretraing...\n"
      ],
      "metadata": {
        "id": "iw4dwzERam_g"
      }
    },
    {
      "cell_type": "code",
      "source": [
        "model_wo_pt = torchvision.models.resnet18(pretrained=False)\n",
        "\n",
        "\n",
        "# Parameters of newly constructed modules have requires_grad=True by default\n",
        "num_ftrs = model_wo_pt.fc.in_features\n",
        "model_wo_pt.fc = nn.Linear(num_ftrs, 2)\n",
        "\n",
        "model_wo_pt = model_wo_pt.to(device)\n",
        "\n",
        "criterion = nn.CrossEntropyLoss()\n",
        "\n",
        "# Observe that only parameters of final layer are being optimized as\n",
        "# opposed to before.\n",
        "optimizer_wo_pt = optim.SGD(model_wo_pt.fc.parameters(), lr=0.001, momentum=0.9)\n",
        "\n",
        "# Decay LR by a factor of 0.1 every 7 epochs\n",
        "exp_lr_scheduler = lr_scheduler.StepLR(optimizer_wo_pt, step_size=2, gamma=0.05)"
      ],
      "metadata": {
        "id": "sMoYivftWVwv",
        "colab": {
          "base_uri": "https://localhost:8080/"
        },
        "outputId": "f7e43078-e353-4fb6-b25c-a1c27404b9b2"
      },
      "execution_count": null,
      "outputs": [
        {
          "output_type": "stream",
          "name": "stderr",
          "text": [
            "/usr/local/lib/python3.9/dist-packages/torchvision/models/_utils.py:208: UserWarning: The parameter 'pretrained' is deprecated since 0.13 and may be removed in the future, please use 'weights' instead.\n",
            "  warnings.warn(\n",
            "/usr/local/lib/python3.9/dist-packages/torchvision/models/_utils.py:223: UserWarning: Arguments other than a weight enum or `None` for 'weights' are deprecated since 0.13 and may be removed in the future. The current behavior is equivalent to passing `weights=None`.\n",
            "  warnings.warn(msg)\n"
          ]
        }
      ]
    },
    {
      "cell_type": "code",
      "source": [
        "model_wo_pt = train_model(model_wo_pt, criterion, optimizer_wo_pt, exp_lr_scheduler,\n",
        "                       num_epochs=6)"
      ],
      "metadata": {
        "colab": {
          "base_uri": "https://localhost:8080/"
        },
        "id": "2ByXF8NkbB-u",
        "outputId": "997f69cd-8131-4a6f-9048-d4ea2f912723"
      },
      "execution_count": null,
      "outputs": [
        {
          "output_type": "stream",
          "name": "stdout",
          "text": [
            "Epoch 0/5\n",
            "----------\n",
            "train Loss: 0.7182 Acc: 0.6181\n",
            "test Loss: 0.5942 Acc: 0.7212\n",
            "\n",
            "Epoch 1/5\n",
            "----------\n",
            "train Loss: 0.7061 Acc: 0.6311\n",
            "test Loss: 0.4992 Acc: 0.7537\n",
            "\n",
            "Epoch 2/5\n",
            "----------\n",
            "train Loss: 0.5923 Acc: 0.6711\n",
            "test Loss: 0.4885 Acc: 0.7583\n",
            "\n",
            "Epoch 3/5\n",
            "----------\n",
            "train Loss: 0.5898 Acc: 0.6720\n",
            "test Loss: 0.4934 Acc: 0.7634\n",
            "\n",
            "Epoch 4/5\n",
            "----------\n",
            "train Loss: 0.5882 Acc: 0.6719\n",
            "test Loss: 0.4834 Acc: 0.7601\n",
            "\n",
            "Epoch 5/5\n",
            "----------\n",
            "train Loss: 0.5893 Acc: 0.6711\n",
            "test Loss: 0.5055 Acc: 0.7471\n",
            "\n",
            "Training complete in 52m 56s\n",
            "Best val Acc: 0.763439\n"
          ]
        }
      ]
    },
    {
      "cell_type": "code",
      "source": [
        "model_wo_pt.class_to_idx = dataloaders['train'].dataset.class_to_idx\n",
        "model_wo_pt.epochs = 6\n",
        "checkpoint = {'input_size': [3, 224, 224],\n",
        "                 'batch_size': dataloaders['train'].batch_size,\n",
        "                  'output_size': 2,\n",
        "                  'state_dict': model_wo_pt.state_dict(),\n",
        "                  'data_transforms': data_transforms,\n",
        "                  'optimizer_dict':optimizer_wo_pt.state_dict(),\n",
        "                  'class_to_idx': model_wo_pt.class_to_idx,\n",
        "                  'epoch': model_wo_pt.epochs}\n",
        "torch.save(checkpoint, '/content/drive/MyDrive/Saved Models/soyabean_resnet18_wo_pt_6.pth')"
      ],
      "metadata": {
        "id": "WRaoUeaBbQBj"
      },
      "execution_count": null,
      "outputs": []
    },
    {
      "cell_type": "code",
      "source": [
        "preds, actual = test(model_wo_pt, dataloaders, device)\n",
        "preds #thisis for half data"
      ],
      "metadata": {
        "colab": {
          "base_uri": "https://localhost:8080/"
        },
        "id": "75B0_z1tbTxk",
        "outputId": "33a6d1e6-1169-4d9e-c9ae-15850dba4da4"
      },
      "execution_count": null,
      "outputs": [
        {
          "output_type": "stream",
          "name": "stdout",
          "text": [
            "Testing Accuracy: 0.757\n"
          ]
        },
        {
          "output_type": "execute_result",
          "data": {
            "text/plain": [
              "array([0, 1, 0, ..., 1, 1, 1])"
            ]
          },
          "metadata": {},
          "execution_count": 15
        }
      ]
    },
    {
      "cell_type": "code",
      "source": [
        "from sklearn.metrics import confusion_matrix\n",
        "import pandas as pd\n",
        "import seaborn as sns\n",
        "\n",
        "\n",
        "cm = confusion_matrix(preds, actual, normalize='true')\n",
        "df_cm = pd.DataFrame(cm, index = ['Healthy', 'Defoliated'], \n",
        "                     columns = ['Healthy', 'Defoliated'])\n",
        "\n",
        "plt.figure(figsize=(5, 5))\n",
        "s = sns.heatmap(df_cm, annot=True, cmap=\"Blues\", \n",
        "            annot_kws={\n",
        "                'fontsize': 14\n",
        "            })\n",
        "s.set(xlabel='Predicted Labels', ylabel='Actual Labels')"
      ],
      "metadata": {
        "colab": {
          "base_uri": "https://localhost:8080/",
          "height": 500
        },
        "id": "loCDwRl9nqE1",
        "outputId": "cb26649b-d06a-436f-a26a-89088628d9cf"
      },
      "execution_count": null,
      "outputs": [
        {
          "output_type": "execute_result",
          "data": {
            "text/plain": [
              "[Text(0.5, 25.722222222222214, 'Predicted Labels'),\n",
              " Text(33.222222222222214, 0.5, 'Actual Labels')]"
            ]
          },
          "metadata": {},
          "execution_count": 16
        },
        {
          "output_type": "display_data",
          "data": {
            "text/plain": [
              "<Figure size 500x500 with 2 Axes>"
            ],
            "image/png": "[encoded data removed]"
          },
          "metadata": {}
        }
      ]
    },
    {
      "cell_type": "code",
      "source": [
        "#For fully trained\n",
        "from sklearn.metrics import accuracy_score, f1_score, precision_score, recall_score\n",
        "\n",
        "print(f1_score(actual, preds, average=\"binary\"))\n",
        "print(precision_score(actual, preds, average=\"binary\"))\n",
        "print(recall_score(actual, preds, average=\"binary\"))  "
      ],
      "metadata": {
        "colab": {
          "base_uri": "https://localhost:8080/"
        },
        "id": "diZpVwMVnu3B",
        "outputId": "ef913beb-b686-442c-fe3a-8d80239951db"
      },
      "execution_count": null,
      "outputs": [
        {
          "output_type": "stream",
          "name": "stdout",
          "text": [
            "0.7865071852680492\n",
            "0.6996325780771586\n",
            "0.8980153271762625\n"
          ]
        }
      ]
    },
    {
      "cell_type": "code",
      "source": [],
      "metadata": {
        "id": "s7EP44k_ny0I"
      },
      "execution_count": null,
      "outputs": []
    }
  ]
}